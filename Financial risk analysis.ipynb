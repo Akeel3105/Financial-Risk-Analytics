{
 "cells": [
  {
   "cell_type": "code",
   "execution_count": 1,
   "metadata": {},
   "outputs": [
    {
     "name": "stdout",
     "output_type": "stream",
     "text": [
      "Project name : Fiancial Risk Analysis\n"
     ]
    }
   ],
   "source": [
    "print(\"Project name : Fiancial Risk Analysis\")"
   ]
  },
  {
   "cell_type": "code",
   "execution_count": null,
   "metadata": {},
   "outputs": [],
   "source": [
    "# A brief about problem statement"
   ]
  },
  {
   "cell_type": "code",
   "execution_count": null,
   "metadata": {},
   "outputs": [],
   "source": [
    "'''\n",
    "For any organization, even the slightest chance of financial risk can not be ignored. Organizations conduct regular inspections \n",
    "on their expenditures and revenue to make sure that they do not fall below the critical limit. In this hackathon, you as a data\n",
    "scientist must use the given data to predict whether an organization is under a possible financial risk or not.\n",
    "\n",
    "Given are 7 distinguishing factors that can provide insight into whether an organization may face a financial risk or not.\n",
    "Your objective as a data scientist is to build a machine learning model that can predict if an organization will fall under the \n",
    "risk using the given features.\n",
    "The leaderboard is evaluated using sklearn.metrics.log_loss for the participant’s submission.\n",
    "'''"
   ]
  },
  {
   "cell_type": "code",
   "execution_count": null,
   "metadata": {},
   "outputs": [],
   "source": [
    "# Importing required libraries"
   ]
  },
  {
   "cell_type": "code",
   "execution_count": 2,
   "metadata": {},
   "outputs": [],
   "source": [
    "import pandas as pd\n",
    "import numpy as np\n",
    "import matplotlib.pyplot as plt\n",
    "%matplotlib inline\n",
    "import seaborn as sns\n",
    "sns.set_style('darkgrid')\n",
    "from sklearn.preprocessing import LabelEncoder,StandardScaler,MinMaxScaler\n",
    "from sklearn.model_selection import train_test_split\n",
    "from sklearn.tree import DecisionTreeClassifier\n",
    "from sklearn.ensemble import RandomForestClassifier,BaggingClassifier,ExtraTreesClassifier\n",
    "from sklearn.metrics import f1_score,roc_curve, auc ,accuracy_score,cohen_kappa_score,confusion_matrix,classification_report,recall_score,precision_score\n",
    "from sklearn.decomposition import PCA\n",
    "from sklearn.neighbors import KNeighborsClassifier\n",
    "from sklearn.linear_model import SGDClassifier\n",
    "from xgboost import XGBClassifier\n",
    "from sklearn.metrics import log_loss\n",
    "from sklearn.naive_bayes import GaussianNB\n",
    "from sklearn.linear_model import LogisticRegression\n",
    "from sklearn.svm import SVC\n",
    "from sklearn.naive_bayes import MultinomialNB,ComplementNB,BernoulliNB"
   ]
  },
  {
   "cell_type": "code",
   "execution_count": null,
   "metadata": {},
   "outputs": [],
   "source": [
    "# Loading dataset"
   ]
  },
  {
   "cell_type": "code",
   "execution_count": 124,
   "metadata": {},
   "outputs": [],
   "source": [
    "train=pd.read_csv(\"Train.csv\")\n",
    "test=pd.read_csv(\"Test.csv\")"
   ]
  },
  {
   "cell_type": "code",
   "execution_count": null,
   "metadata": {},
   "outputs": [],
   "source": [
    "# shape of dataset"
   ]
  },
  {
   "cell_type": "code",
   "execution_count": 5,
   "metadata": {},
   "outputs": [
    {
     "name": "stdout",
     "output_type": "stream",
     "text": [
      "shape of training dataset: (543, 8)\n",
      "shape of test dataset: (233, 7)\n"
     ]
    }
   ],
   "source": [
    "print(\"shape of training dataset:\",train.shape)\n",
    "print(\"shape of test dataset:\",test.shape)"
   ]
  },
  {
   "cell_type": "code",
   "execution_count": null,
   "metadata": {},
   "outputs": [],
   "source": [
    "# Basic stats value"
   ]
  },
  {
   "cell_type": "code",
   "execution_count": 6,
   "metadata": {},
   "outputs": [
    {
     "data": {
      "text/html": [
       "<div>\n",
       "<style scoped>\n",
       "    .dataframe tbody tr th:only-of-type {\n",
       "        vertical-align: middle;\n",
       "    }\n",
       "\n",
       "    .dataframe tbody tr th {\n",
       "        vertical-align: top;\n",
       "    }\n",
       "\n",
       "    .dataframe thead th {\n",
       "        text-align: right;\n",
       "    }\n",
       "</style>\n",
       "<table border=\"1\" class=\"dataframe\">\n",
       "  <thead>\n",
       "    <tr style=\"text-align: right;\">\n",
       "      <th></th>\n",
       "      <th>City</th>\n",
       "      <th>Location_Score</th>\n",
       "      <th>Internal_Audit_Score</th>\n",
       "      <th>External_Audit_Score</th>\n",
       "      <th>Fin_Score</th>\n",
       "      <th>Loss_score</th>\n",
       "      <th>Past_Results</th>\n",
       "      <th>IsUnderRisk</th>\n",
       "    </tr>\n",
       "  </thead>\n",
       "  <tbody>\n",
       "    <tr>\n",
       "      <th>count</th>\n",
       "      <td>543.000000</td>\n",
       "      <td>543.000000</td>\n",
       "      <td>543.000000</td>\n",
       "      <td>543.000000</td>\n",
       "      <td>543.000000</td>\n",
       "      <td>543.000000</td>\n",
       "      <td>543.000000</td>\n",
       "      <td>543.000000</td>\n",
       "    </tr>\n",
       "    <tr>\n",
       "      <th>mean</th>\n",
       "      <td>19.576427</td>\n",
       "      <td>32.259346</td>\n",
       "      <td>8.189687</td>\n",
       "      <td>7.327808</td>\n",
       "      <td>7.046041</td>\n",
       "      <td>5.530387</td>\n",
       "      <td>0.613260</td>\n",
       "      <td>0.626151</td>\n",
       "    </tr>\n",
       "    <tr>\n",
       "      <th>std</th>\n",
       "      <td>14.722687</td>\n",
       "      <td>24.887291</td>\n",
       "      <td>3.312022</td>\n",
       "      <td>3.450667</td>\n",
       "      <td>3.156978</td>\n",
       "      <td>1.839124</td>\n",
       "      <td>0.764509</td>\n",
       "      <td>0.484270</td>\n",
       "    </tr>\n",
       "    <tr>\n",
       "      <th>min</th>\n",
       "      <td>0.000000</td>\n",
       "      <td>5.185000</td>\n",
       "      <td>3.000000</td>\n",
       "      <td>3.000000</td>\n",
       "      <td>3.000000</td>\n",
       "      <td>3.000000</td>\n",
       "      <td>0.000000</td>\n",
       "      <td>0.000000</td>\n",
       "    </tr>\n",
       "    <tr>\n",
       "      <th>25%</th>\n",
       "      <td>6.000000</td>\n",
       "      <td>13.565000</td>\n",
       "      <td>6.000000</td>\n",
       "      <td>5.000000</td>\n",
       "      <td>5.000000</td>\n",
       "      <td>4.000000</td>\n",
       "      <td>0.000000</td>\n",
       "      <td>0.000000</td>\n",
       "    </tr>\n",
       "    <tr>\n",
       "      <th>50%</th>\n",
       "      <td>14.000000</td>\n",
       "      <td>19.803000</td>\n",
       "      <td>8.000000</td>\n",
       "      <td>7.000000</td>\n",
       "      <td>7.000000</td>\n",
       "      <td>6.000000</td>\n",
       "      <td>1.000000</td>\n",
       "      <td>1.000000</td>\n",
       "    </tr>\n",
       "    <tr>\n",
       "      <th>75%</th>\n",
       "      <td>37.000000</td>\n",
       "      <td>62.594000</td>\n",
       "      <td>11.000000</td>\n",
       "      <td>10.000000</td>\n",
       "      <td>8.000000</td>\n",
       "      <td>7.000000</td>\n",
       "      <td>1.000000</td>\n",
       "      <td>1.000000</td>\n",
       "    </tr>\n",
       "    <tr>\n",
       "      <th>max</th>\n",
       "      <td>44.000000</td>\n",
       "      <td>80.809000</td>\n",
       "      <td>15.000000</td>\n",
       "      <td>15.000000</td>\n",
       "      <td>15.000000</td>\n",
       "      <td>13.000000</td>\n",
       "      <td>10.000000</td>\n",
       "      <td>1.000000</td>\n",
       "    </tr>\n",
       "  </tbody>\n",
       "</table>\n",
       "</div>"
      ],
      "text/plain": [
       "             City  Location_Score  Internal_Audit_Score  External_Audit_Score  \\\n",
       "count  543.000000      543.000000            543.000000            543.000000   \n",
       "mean    19.576427       32.259346              8.189687              7.327808   \n",
       "std     14.722687       24.887291              3.312022              3.450667   \n",
       "min      0.000000        5.185000              3.000000              3.000000   \n",
       "25%      6.000000       13.565000              6.000000              5.000000   \n",
       "50%     14.000000       19.803000              8.000000              7.000000   \n",
       "75%     37.000000       62.594000             11.000000             10.000000   \n",
       "max     44.000000       80.809000             15.000000             15.000000   \n",
       "\n",
       "        Fin_Score  Loss_score  Past_Results  IsUnderRisk  \n",
       "count  543.000000  543.000000    543.000000   543.000000  \n",
       "mean     7.046041    5.530387      0.613260     0.626151  \n",
       "std      3.156978    1.839124      0.764509     0.484270  \n",
       "min      3.000000    3.000000      0.000000     0.000000  \n",
       "25%      5.000000    4.000000      0.000000     0.000000  \n",
       "50%      7.000000    6.000000      1.000000     1.000000  \n",
       "75%      8.000000    7.000000      1.000000     1.000000  \n",
       "max     15.000000   13.000000     10.000000     1.000000  "
      ]
     },
     "execution_count": 6,
     "metadata": {},
     "output_type": "execute_result"
    }
   ],
   "source": [
    "train.describe()"
   ]
  },
  {
   "cell_type": "code",
   "execution_count": null,
   "metadata": {},
   "outputs": [],
   "source": [
    "# Lets see a few rows from top of training dataset"
   ]
  },
  {
   "cell_type": "code",
   "execution_count": 7,
   "metadata": {},
   "outputs": [
    {
     "data": {
      "text/html": [
       "<div>\n",
       "<style scoped>\n",
       "    .dataframe tbody tr th:only-of-type {\n",
       "        vertical-align: middle;\n",
       "    }\n",
       "\n",
       "    .dataframe tbody tr th {\n",
       "        vertical-align: top;\n",
       "    }\n",
       "\n",
       "    .dataframe thead th {\n",
       "        text-align: right;\n",
       "    }\n",
       "</style>\n",
       "<table border=\"1\" class=\"dataframe\">\n",
       "  <thead>\n",
       "    <tr style=\"text-align: right;\">\n",
       "      <th></th>\n",
       "      <th>City</th>\n",
       "      <th>Location_Score</th>\n",
       "      <th>Internal_Audit_Score</th>\n",
       "      <th>External_Audit_Score</th>\n",
       "      <th>Fin_Score</th>\n",
       "      <th>Loss_score</th>\n",
       "      <th>Past_Results</th>\n",
       "      <th>IsUnderRisk</th>\n",
       "    </tr>\n",
       "  </thead>\n",
       "  <tbody>\n",
       "    <tr>\n",
       "      <th>0</th>\n",
       "      <td>2</td>\n",
       "      <td>8.032</td>\n",
       "      <td>14</td>\n",
       "      <td>8</td>\n",
       "      <td>3</td>\n",
       "      <td>6</td>\n",
       "      <td>0</td>\n",
       "      <td>1</td>\n",
       "    </tr>\n",
       "    <tr>\n",
       "      <th>1</th>\n",
       "      <td>31</td>\n",
       "      <td>77.730</td>\n",
       "      <td>8</td>\n",
       "      <td>3</td>\n",
       "      <td>3</td>\n",
       "      <td>8</td>\n",
       "      <td>1</td>\n",
       "      <td>0</td>\n",
       "    </tr>\n",
       "    <tr>\n",
       "      <th>2</th>\n",
       "      <td>40</td>\n",
       "      <td>59.203</td>\n",
       "      <td>3</td>\n",
       "      <td>12</td>\n",
       "      <td>11</td>\n",
       "      <td>3</td>\n",
       "      <td>0</td>\n",
       "      <td>1</td>\n",
       "    </tr>\n",
       "    <tr>\n",
       "      <th>3</th>\n",
       "      <td>12</td>\n",
       "      <td>73.080</td>\n",
       "      <td>4</td>\n",
       "      <td>5</td>\n",
       "      <td>7</td>\n",
       "      <td>6</td>\n",
       "      <td>0</td>\n",
       "      <td>0</td>\n",
       "    </tr>\n",
       "  </tbody>\n",
       "</table>\n",
       "</div>"
      ],
      "text/plain": [
       "   City  Location_Score  Internal_Audit_Score  External_Audit_Score  \\\n",
       "0     2           8.032                    14                     8   \n",
       "1    31          77.730                     8                     3   \n",
       "2    40          59.203                     3                    12   \n",
       "3    12          73.080                     4                     5   \n",
       "\n",
       "   Fin_Score  Loss_score  Past_Results  IsUnderRisk  \n",
       "0          3           6             0            1  \n",
       "1          3           8             1            0  \n",
       "2         11           3             0            1  \n",
       "3          7           6             0            0  "
      ]
     },
     "execution_count": 7,
     "metadata": {},
     "output_type": "execute_result"
    }
   ],
   "source": [
    "train.head(4)"
   ]
  },
  {
   "cell_type": "code",
   "execution_count": null,
   "metadata": {},
   "outputs": [],
   "source": [
    "# A few rows from bottom"
   ]
  },
  {
   "cell_type": "code",
   "execution_count": 8,
   "metadata": {},
   "outputs": [
    {
     "data": {
      "text/html": [
       "<div>\n",
       "<style scoped>\n",
       "    .dataframe tbody tr th:only-of-type {\n",
       "        vertical-align: middle;\n",
       "    }\n",
       "\n",
       "    .dataframe tbody tr th {\n",
       "        vertical-align: top;\n",
       "    }\n",
       "\n",
       "    .dataframe thead th {\n",
       "        text-align: right;\n",
       "    }\n",
       "</style>\n",
       "<table border=\"1\" class=\"dataframe\">\n",
       "  <thead>\n",
       "    <tr style=\"text-align: right;\">\n",
       "      <th></th>\n",
       "      <th>City</th>\n",
       "      <th>Location_Score</th>\n",
       "      <th>Internal_Audit_Score</th>\n",
       "      <th>External_Audit_Score</th>\n",
       "      <th>Fin_Score</th>\n",
       "      <th>Loss_score</th>\n",
       "      <th>Past_Results</th>\n",
       "      <th>IsUnderRisk</th>\n",
       "    </tr>\n",
       "  </thead>\n",
       "  <tbody>\n",
       "    <tr>\n",
       "      <th>539</th>\n",
       "      <td>2</td>\n",
       "      <td>70.460</td>\n",
       "      <td>7</td>\n",
       "      <td>5</td>\n",
       "      <td>6</td>\n",
       "      <td>4</td>\n",
       "      <td>0</td>\n",
       "      <td>0</td>\n",
       "    </tr>\n",
       "    <tr>\n",
       "      <th>540</th>\n",
       "      <td>1</td>\n",
       "      <td>79.243</td>\n",
       "      <td>7</td>\n",
       "      <td>5</td>\n",
       "      <td>3</td>\n",
       "      <td>8</td>\n",
       "      <td>1</td>\n",
       "      <td>0</td>\n",
       "    </tr>\n",
       "    <tr>\n",
       "      <th>541</th>\n",
       "      <td>40</td>\n",
       "      <td>69.140</td>\n",
       "      <td>7</td>\n",
       "      <td>8</td>\n",
       "      <td>4</td>\n",
       "      <td>5</td>\n",
       "      <td>1</td>\n",
       "      <td>1</td>\n",
       "    </tr>\n",
       "    <tr>\n",
       "      <th>542</th>\n",
       "      <td>13</td>\n",
       "      <td>23.332</td>\n",
       "      <td>14</td>\n",
       "      <td>12</td>\n",
       "      <td>10</td>\n",
       "      <td>3</td>\n",
       "      <td>2</td>\n",
       "      <td>1</td>\n",
       "    </tr>\n",
       "  </tbody>\n",
       "</table>\n",
       "</div>"
      ],
      "text/plain": [
       "     City  Location_Score  Internal_Audit_Score  External_Audit_Score  \\\n",
       "539     2          70.460                     7                     5   \n",
       "540     1          79.243                     7                     5   \n",
       "541    40          69.140                     7                     8   \n",
       "542    13          23.332                    14                    12   \n",
       "\n",
       "     Fin_Score  Loss_score  Past_Results  IsUnderRisk  \n",
       "539          6           4             0            0  \n",
       "540          3           8             1            0  \n",
       "541          4           5             1            1  \n",
       "542         10           3             2            1  "
      ]
     },
     "execution_count": 8,
     "metadata": {},
     "output_type": "execute_result"
    }
   ],
   "source": [
    "train.tail(4)"
   ]
  },
  {
   "cell_type": "code",
   "execution_count": null,
   "metadata": {},
   "outputs": [],
   "source": [
    "# a few random rows"
   ]
  },
  {
   "cell_type": "code",
   "execution_count": 158,
   "metadata": {},
   "outputs": [
    {
     "data": {
      "text/html": [
       "<div>\n",
       "<style scoped>\n",
       "    .dataframe tbody tr th:only-of-type {\n",
       "        vertical-align: middle;\n",
       "    }\n",
       "\n",
       "    .dataframe tbody tr th {\n",
       "        vertical-align: top;\n",
       "    }\n",
       "\n",
       "    .dataframe thead th {\n",
       "        text-align: right;\n",
       "    }\n",
       "</style>\n",
       "<table border=\"1\" class=\"dataframe\">\n",
       "  <thead>\n",
       "    <tr style=\"text-align: right;\">\n",
       "      <th></th>\n",
       "      <th>City</th>\n",
       "      <th>Location_Score</th>\n",
       "      <th>Internal_Audit_Score</th>\n",
       "      <th>External_Audit_Score</th>\n",
       "      <th>Fin_Score</th>\n",
       "      <th>Loss_score</th>\n",
       "      <th>Past_Results</th>\n",
       "      <th>IsUnderRisk</th>\n",
       "    </tr>\n",
       "  </thead>\n",
       "  <tbody>\n",
       "    <tr>\n",
       "      <th>76</th>\n",
       "      <td>40</td>\n",
       "      <td>21.057</td>\n",
       "      <td>7</td>\n",
       "      <td>5</td>\n",
       "      <td>4</td>\n",
       "      <td>8</td>\n",
       "      <td>0</td>\n",
       "      <td>1</td>\n",
       "    </tr>\n",
       "    <tr>\n",
       "      <th>264</th>\n",
       "      <td>16</td>\n",
       "      <td>8.297</td>\n",
       "      <td>7</td>\n",
       "      <td>5</td>\n",
       "      <td>4</td>\n",
       "      <td>7</td>\n",
       "      <td>0</td>\n",
       "      <td>0</td>\n",
       "    </tr>\n",
       "    <tr>\n",
       "      <th>273</th>\n",
       "      <td>9</td>\n",
       "      <td>11.595</td>\n",
       "      <td>13</td>\n",
       "      <td>4</td>\n",
       "      <td>7</td>\n",
       "      <td>3</td>\n",
       "      <td>1</td>\n",
       "      <td>1</td>\n",
       "    </tr>\n",
       "    <tr>\n",
       "      <th>185</th>\n",
       "      <td>37</td>\n",
       "      <td>66.535</td>\n",
       "      <td>4</td>\n",
       "      <td>7</td>\n",
       "      <td>4</td>\n",
       "      <td>6</td>\n",
       "      <td>1</td>\n",
       "      <td>0</td>\n",
       "    </tr>\n",
       "    <tr>\n",
       "      <th>342</th>\n",
       "      <td>13</td>\n",
       "      <td>18.501</td>\n",
       "      <td>12</td>\n",
       "      <td>12</td>\n",
       "      <td>5</td>\n",
       "      <td>6</td>\n",
       "      <td>1</td>\n",
       "      <td>1</td>\n",
       "    </tr>\n",
       "  </tbody>\n",
       "</table>\n",
       "</div>"
      ],
      "text/plain": [
       "     City  Location_Score  Internal_Audit_Score  External_Audit_Score  \\\n",
       "76     40          21.057                     7                     5   \n",
       "264    16           8.297                     7                     5   \n",
       "273     9          11.595                    13                     4   \n",
       "185    37          66.535                     4                     7   \n",
       "342    13          18.501                    12                    12   \n",
       "\n",
       "     Fin_Score  Loss_score  Past_Results  IsUnderRisk  \n",
       "76           4           8             0            1  \n",
       "264          4           7             0            0  \n",
       "273          7           3             1            1  \n",
       "185          4           6             1            0  \n",
       "342          5           6             1            1  "
      ]
     },
     "execution_count": 158,
     "metadata": {},
     "output_type": "execute_result"
    }
   ],
   "source": [
    "train.sample(5)"
   ]
  },
  {
   "cell_type": "code",
   "execution_count": null,
   "metadata": {},
   "outputs": [],
   "source": [
    "# Lets see the test dataset"
   ]
  },
  {
   "cell_type": "code",
   "execution_count": 155,
   "metadata": {},
   "outputs": [
    {
     "data": {
      "text/html": [
       "<div>\n",
       "<style scoped>\n",
       "    .dataframe tbody tr th:only-of-type {\n",
       "        vertical-align: middle;\n",
       "    }\n",
       "\n",
       "    .dataframe tbody tr th {\n",
       "        vertical-align: top;\n",
       "    }\n",
       "\n",
       "    .dataframe thead th {\n",
       "        text-align: right;\n",
       "    }\n",
       "</style>\n",
       "<table border=\"1\" class=\"dataframe\">\n",
       "  <thead>\n",
       "    <tr style=\"text-align: right;\">\n",
       "      <th></th>\n",
       "      <th>City</th>\n",
       "      <th>Location_Score</th>\n",
       "      <th>Internal_Audit_Score</th>\n",
       "      <th>External_Audit_Score</th>\n",
       "      <th>Fin_Score</th>\n",
       "      <th>Loss_score</th>\n",
       "      <th>Past_Results</th>\n",
       "    </tr>\n",
       "  </thead>\n",
       "  <tbody>\n",
       "    <tr>\n",
       "      <th>71</th>\n",
       "      <td>37</td>\n",
       "      <td>20.891</td>\n",
       "      <td>10</td>\n",
       "      <td>10</td>\n",
       "      <td>10</td>\n",
       "      <td>7</td>\n",
       "      <td>0</td>\n",
       "    </tr>\n",
       "    <tr>\n",
       "      <th>15</th>\n",
       "      <td>37</td>\n",
       "      <td>69.472</td>\n",
       "      <td>5</td>\n",
       "      <td>3</td>\n",
       "      <td>3</td>\n",
       "      <td>6</td>\n",
       "      <td>1</td>\n",
       "    </tr>\n",
       "    <tr>\n",
       "      <th>42</th>\n",
       "      <td>40</td>\n",
       "      <td>8.813</td>\n",
       "      <td>6</td>\n",
       "      <td>6</td>\n",
       "      <td>4</td>\n",
       "      <td>7</td>\n",
       "      <td>1</td>\n",
       "    </tr>\n",
       "    <tr>\n",
       "      <th>47</th>\n",
       "      <td>13</td>\n",
       "      <td>7.140</td>\n",
       "      <td>10</td>\n",
       "      <td>10</td>\n",
       "      <td>14</td>\n",
       "      <td>5</td>\n",
       "      <td>1</td>\n",
       "    </tr>\n",
       "    <tr>\n",
       "      <th>154</th>\n",
       "      <td>2</td>\n",
       "      <td>19.369</td>\n",
       "      <td>4</td>\n",
       "      <td>9</td>\n",
       "      <td>6</td>\n",
       "      <td>5</td>\n",
       "      <td>1</td>\n",
       "    </tr>\n",
       "  </tbody>\n",
       "</table>\n",
       "</div>"
      ],
      "text/plain": [
       "     City  Location_Score  Internal_Audit_Score  External_Audit_Score  \\\n",
       "71     37          20.891                    10                    10   \n",
       "15     37          69.472                     5                     3   \n",
       "42     40           8.813                     6                     6   \n",
       "47     13           7.140                    10                    10   \n",
       "154     2          19.369                     4                     9   \n",
       "\n",
       "     Fin_Score  Loss_score  Past_Results  \n",
       "71          10           7             0  \n",
       "15           3           6             1  \n",
       "42           4           7             1  \n",
       "47          14           5             1  \n",
       "154          6           5             1  "
      ]
     },
     "execution_count": 155,
     "metadata": {},
     "output_type": "execute_result"
    }
   ],
   "source": [
    "test.sample(5)"
   ]
  },
  {
   "cell_type": "code",
   "execution_count": null,
   "metadata": {},
   "outputs": [],
   "source": [
    "# Detailed summary of train dataset"
   ]
  },
  {
   "cell_type": "code",
   "execution_count": 12,
   "metadata": {},
   "outputs": [
    {
     "data": {
      "text/html": [
       "<div>\n",
       "<style scoped>\n",
       "    .dataframe tbody tr th:only-of-type {\n",
       "        vertical-align: middle;\n",
       "    }\n",
       "\n",
       "    .dataframe tbody tr th {\n",
       "        vertical-align: top;\n",
       "    }\n",
       "\n",
       "    .dataframe thead th {\n",
       "        text-align: right;\n",
       "    }\n",
       "</style>\n",
       "<table border=\"1\" class=\"dataframe\">\n",
       "  <thead>\n",
       "    <tr style=\"text-align: right;\">\n",
       "      <th></th>\n",
       "      <th>TotalMissing</th>\n",
       "      <th>%Missing</th>\n",
       "      <th>DataType</th>\n",
       "      <th>Unique</th>\n",
       "    </tr>\n",
       "  </thead>\n",
       "  <tbody>\n",
       "    <tr>\n",
       "      <th>City</th>\n",
       "      <td>0</td>\n",
       "      <td>0.0</td>\n",
       "      <td>int64</td>\n",
       "      <td>43</td>\n",
       "    </tr>\n",
       "    <tr>\n",
       "      <th>Location_Score</th>\n",
       "      <td>0</td>\n",
       "      <td>0.0</td>\n",
       "      <td>float64</td>\n",
       "      <td>540</td>\n",
       "    </tr>\n",
       "    <tr>\n",
       "      <th>Internal_Audit_Score</th>\n",
       "      <td>0</td>\n",
       "      <td>0.0</td>\n",
       "      <td>int64</td>\n",
       "      <td>13</td>\n",
       "    </tr>\n",
       "    <tr>\n",
       "      <th>External_Audit_Score</th>\n",
       "      <td>0</td>\n",
       "      <td>0.0</td>\n",
       "      <td>int64</td>\n",
       "      <td>13</td>\n",
       "    </tr>\n",
       "    <tr>\n",
       "      <th>Fin_Score</th>\n",
       "      <td>0</td>\n",
       "      <td>0.0</td>\n",
       "      <td>int64</td>\n",
       "      <td>13</td>\n",
       "    </tr>\n",
       "    <tr>\n",
       "      <th>Loss_score</th>\n",
       "      <td>0</td>\n",
       "      <td>0.0</td>\n",
       "      <td>int64</td>\n",
       "      <td>10</td>\n",
       "    </tr>\n",
       "    <tr>\n",
       "      <th>Past_Results</th>\n",
       "      <td>0</td>\n",
       "      <td>0.0</td>\n",
       "      <td>int64</td>\n",
       "      <td>7</td>\n",
       "    </tr>\n",
       "    <tr>\n",
       "      <th>IsUnderRisk</th>\n",
       "      <td>0</td>\n",
       "      <td>0.0</td>\n",
       "      <td>int64</td>\n",
       "      <td>2</td>\n",
       "    </tr>\n",
       "  </tbody>\n",
       "</table>\n",
       "</div>"
      ],
      "text/plain": [
       "                      TotalMissing  %Missing DataType  Unique\n",
       "City                             0       0.0    int64      43\n",
       "Location_Score                   0       0.0  float64     540\n",
       "Internal_Audit_Score             0       0.0    int64      13\n",
       "External_Audit_Score             0       0.0    int64      13\n",
       "Fin_Score                        0       0.0    int64      13\n",
       "Loss_score                       0       0.0    int64      10\n",
       "Past_Results                     0       0.0    int64       7\n",
       "IsUnderRisk                      0       0.0    int64       2"
      ]
     },
     "execution_count": 12,
     "metadata": {},
     "output_type": "execute_result"
    }
   ],
   "source": [
    "pd.DataFrame({\"TotalMissing\":train.isna().sum(),\"%Missing\":train.isna().mean(),\"DataType\":train.dtypes,\"Unique\":train.nunique()})"
   ]
  },
  {
   "cell_type": "code",
   "execution_count": null,
   "metadata": {},
   "outputs": [],
   "source": [
    "# Detailed summary of test dataset"
   ]
  },
  {
   "cell_type": "code",
   "execution_count": 13,
   "metadata": {},
   "outputs": [
    {
     "data": {
      "text/html": [
       "<div>\n",
       "<style scoped>\n",
       "    .dataframe tbody tr th:only-of-type {\n",
       "        vertical-align: middle;\n",
       "    }\n",
       "\n",
       "    .dataframe tbody tr th {\n",
       "        vertical-align: top;\n",
       "    }\n",
       "\n",
       "    .dataframe thead th {\n",
       "        text-align: right;\n",
       "    }\n",
       "</style>\n",
       "<table border=\"1\" class=\"dataframe\">\n",
       "  <thead>\n",
       "    <tr style=\"text-align: right;\">\n",
       "      <th></th>\n",
       "      <th>TotalMissing</th>\n",
       "      <th>%Missing</th>\n",
       "      <th>DataType</th>\n",
       "      <th>Unique</th>\n",
       "    </tr>\n",
       "  </thead>\n",
       "  <tbody>\n",
       "    <tr>\n",
       "      <th>City</th>\n",
       "      <td>0</td>\n",
       "      <td>0.0</td>\n",
       "      <td>int64</td>\n",
       "      <td>34</td>\n",
       "    </tr>\n",
       "    <tr>\n",
       "      <th>Location_Score</th>\n",
       "      <td>0</td>\n",
       "      <td>0.0</td>\n",
       "      <td>float64</td>\n",
       "      <td>233</td>\n",
       "    </tr>\n",
       "    <tr>\n",
       "      <th>Internal_Audit_Score</th>\n",
       "      <td>0</td>\n",
       "      <td>0.0</td>\n",
       "      <td>int64</td>\n",
       "      <td>13</td>\n",
       "    </tr>\n",
       "    <tr>\n",
       "      <th>External_Audit_Score</th>\n",
       "      <td>0</td>\n",
       "      <td>0.0</td>\n",
       "      <td>int64</td>\n",
       "      <td>13</td>\n",
       "    </tr>\n",
       "    <tr>\n",
       "      <th>Fin_Score</th>\n",
       "      <td>0</td>\n",
       "      <td>0.0</td>\n",
       "      <td>int64</td>\n",
       "      <td>13</td>\n",
       "    </tr>\n",
       "    <tr>\n",
       "      <th>Loss_score</th>\n",
       "      <td>0</td>\n",
       "      <td>0.0</td>\n",
       "      <td>int64</td>\n",
       "      <td>7</td>\n",
       "    </tr>\n",
       "    <tr>\n",
       "      <th>Past_Results</th>\n",
       "      <td>0</td>\n",
       "      <td>0.0</td>\n",
       "      <td>int64</td>\n",
       "      <td>5</td>\n",
       "    </tr>\n",
       "  </tbody>\n",
       "</table>\n",
       "</div>"
      ],
      "text/plain": [
       "                      TotalMissing  %Missing DataType  Unique\n",
       "City                             0       0.0    int64      34\n",
       "Location_Score                   0       0.0  float64     233\n",
       "Internal_Audit_Score             0       0.0    int64      13\n",
       "External_Audit_Score             0       0.0    int64      13\n",
       "Fin_Score                        0       0.0    int64      13\n",
       "Loss_score                       0       0.0    int64       7\n",
       "Past_Results                     0       0.0    int64       5"
      ]
     },
     "execution_count": 13,
     "metadata": {},
     "output_type": "execute_result"
    }
   ],
   "source": [
    "pd.DataFrame({\"TotalMissing\":test.isna().sum(),\"%Missing\":test.isna().mean(),\"DataType\":test.dtypes,\"Unique\":test.nunique()})"
   ]
  },
  {
   "cell_type": "code",
   "execution_count": null,
   "metadata": {},
   "outputs": [],
   "source": [
    "'''\n",
    "Dataset looks quite clean and our target column is \"Is Under Risk\"\n",
    "'''"
   ]
  },
  {
   "cell_type": "code",
   "execution_count": null,
   "metadata": {},
   "outputs": [],
   "source": [
    "# EDA"
   ]
  },
  {
   "cell_type": "code",
   "execution_count": null,
   "metadata": {},
   "outputs": [],
   "source": [
    "# City"
   ]
  },
  {
   "cell_type": "code",
   "execution_count": 17,
   "metadata": {},
   "outputs": [
    {
     "data": {
      "image/png": "[encoded data removed]",
      "text/plain": [
       "<Figure size 1800x504 with 1 Axes>"
      ]
     },
     "metadata": {},
     "output_type": "display_data"
    }
   ],
   "source": [
    "plt.figure(figsize=(25,7))\n",
    "sns.countplot(train[\"City\"])\n",
    "plt.savefig(\"FR-city.png\")"
   ]
  },
  {
   "cell_type": "code",
   "execution_count": null,
   "metadata": {},
   "outputs": [],
   "source": [
    "# Location_Score "
   ]
  },
  {
   "cell_type": "code",
   "execution_count": 20,
   "metadata": {},
   "outputs": [
    {
     "data": {
      "image/png": "[encoded data removed]",
      "text/plain": [
       "<Figure size 1800x504 with 1 Axes>"
      ]
     },
     "metadata": {},
     "output_type": "display_data"
    }
   ],
   "source": [
    "plt.figure(figsize=(25,7))\n",
    "train[\"Location_Score\"].plot()\n",
    "plt.savefig(\"FR-Loc.png\")"
   ]
  },
  {
   "cell_type": "code",
   "execution_count": null,
   "metadata": {},
   "outputs": [],
   "source": [
    "# Internal_Audit_Score"
   ]
  },
  {
   "cell_type": "code",
   "execution_count": 23,
   "metadata": {},
   "outputs": [
    {
     "data": {
      "image/png": "[encoded data removed]",
      "text/plain": [
       "<Figure size 1800x504 with 1 Axes>"
      ]
     },
     "metadata": {},
     "output_type": "display_data"
    }
   ],
   "source": [
    "plt.figure(figsize=(25,7))\n",
    "sns.countplot(train[\"Internal_Audit_Score\"])\n",
    "plt.savefig(\"FR-ias.png\")"
   ]
  },
  {
   "cell_type": "code",
   "execution_count": null,
   "metadata": {},
   "outputs": [],
   "source": [
    "# External_Audit_Score"
   ]
  },
  {
   "cell_type": "code",
   "execution_count": 25,
   "metadata": {},
   "outputs": [
    {
     "data": {
      "image/png": "[encoded data removed]",
      "text/plain": [
       "<Figure size 1440x504 with 1 Axes>"
      ]
     },
     "metadata": {},
     "output_type": "display_data"
    }
   ],
   "source": [
    "plt.figure(figsize=(20,7))\n",
    "sns.countplot(train[\"External_Audit_Score\"])\n",
    "plt.savefig(\"FR-eas.png\")"
   ]
  },
  {
   "cell_type": "code",
   "execution_count": null,
   "metadata": {},
   "outputs": [],
   "source": [
    "# Fin_Score "
   ]
  },
  {
   "cell_type": "code",
   "execution_count": 26,
   "metadata": {},
   "outputs": [
    {
     "data": {
      "image/png": "[encoded data removed]",
      "text/plain": [
       "<Figure size 1440x504 with 1 Axes>"
      ]
     },
     "metadata": {},
     "output_type": "display_data"
    }
   ],
   "source": [
    "plt.figure(figsize=(20,7))\n",
    "sns.countplot(train[\"Fin_Score\"])\n",
    "plt.savefig(\"FR-fin.png\")"
   ]
  },
  {
   "cell_type": "code",
   "execution_count": null,
   "metadata": {},
   "outputs": [],
   "source": [
    "# Loss_score"
   ]
  },
  {
   "cell_type": "code",
   "execution_count": 29,
   "metadata": {},
   "outputs": [
    {
     "data": {
      "image/png": "[encoded data removed]",
      "text/plain": [
       "<Figure size 1080x360 with 1 Axes>"
      ]
     },
     "metadata": {},
     "output_type": "display_data"
    }
   ],
   "source": [
    "plt.figure(figsize=(15,5))\n",
    "sns.countplot(train[\"Loss_score\"])\n",
    "plt.savefig(\"FR-loss.png\")"
   ]
  },
  {
   "cell_type": "code",
   "execution_count": null,
   "metadata": {},
   "outputs": [],
   "source": [
    "# Past_Results"
   ]
  },
  {
   "cell_type": "code",
   "execution_count": 30,
   "metadata": {},
   "outputs": [
    {
     "data": {
      "image/png": "[encoded data removed]",
      "text/plain": [
       "<Figure size 1080x360 with 1 Axes>"
      ]
     },
     "metadata": {},
     "output_type": "display_data"
    }
   ],
   "source": [
    "plt.figure(figsize=(15,5))\n",
    "sns.countplot(train[\"Past_Results\"])\n",
    "plt.savefig(\"FR-past.png\")"
   ]
  },
  {
   "cell_type": "code",
   "execution_count": null,
   "metadata": {},
   "outputs": [],
   "source": [
    "# Lets see the target col: IsUnderRisk"
   ]
  },
  {
   "cell_type": "code",
   "execution_count": 32,
   "metadata": {},
   "outputs": [
    {
     "data": {
      "image/png": "[encoded data removed]",
      "text/plain": [
       "<Figure size 432x288 with 1 Axes>"
      ]
     },
     "metadata": {},
     "output_type": "display_data"
    }
   ],
   "source": [
    "sns.countplot(train[\"IsUnderRisk\"])\n",
    "plt.savefig(\"FR-tar.png\")"
   ]
  },
  {
   "cell_type": "code",
   "execution_count": 33,
   "metadata": {},
   "outputs": [
    {
     "data": {
      "text/plain": [
       "1    0.626151\n",
       "0    0.373849\n",
       "Name: IsUnderRisk, dtype: float64"
      ]
     },
     "execution_count": 33,
     "metadata": {},
     "output_type": "execute_result"
    }
   ],
   "source": [
    "train['IsUnderRisk'].value_counts(normalize=True)"
   ]
  },
  {
   "cell_type": "code",
   "execution_count": null,
   "metadata": {},
   "outputs": [],
   "source": [
    "# Bivariate analysis"
   ]
  },
  {
   "cell_type": "code",
   "execution_count": 11,
   "metadata": {},
   "outputs": [
    {
     "data": {
      "image/png": "[encoded data removed]",
      "text/plain": [
       "<Figure size 1800x432 with 1 Axes>"
      ]
     },
     "metadata": {
      "needs_background": "light"
     },
     "output_type": "display_data"
    }
   ],
   "source": [
    "plt.figure(figsize=(25,6))\n",
    "sns.countplot(x=train[\"City\"],hue=train[\"IsUnderRisk\"],data=train)\n",
    "plt.savefig(\"cit-tar.png\")"
   ]
  },
  {
   "cell_type": "code",
   "execution_count": 125,
   "metadata": {},
   "outputs": [],
   "source": [
    "train['CT'] = 'na'\n",
    "train.loc[(train.City >= 0) & (train.City <= 6), 'CT'] = 'HighRisk' \n",
    "train.loc[(train.City >= 9) & (train.City <= 10), 'CT'] = 'HighRisk'\n",
    "train.loc[(train.City >= 13) & (train.City <= 13), 'CT'] = 'HighRisk'\n",
    "train.loc[(train.City >= 23) & (train.City <= 23), 'CT'] = 'HighRisk'\n",
    "train.loc[(train.City >= 30) & (train.City <= 31), 'CT'] = 'HighRisk'\n",
    "train.loc[(train.City >= 37) & (train.City <= 38), 'CT'] = 'HighRisk'\n",
    "train.loc[(train.City >= 40) & (train.City <= 41), 'CT'] = 'HighRisk'\n",
    "train.loc[(train.City >= 7) & (train.City <= 8), 'CT'] = 'LowRisk'\n",
    "train.loc[(train.City >= 11) & (train.City <= 12), 'CT'] = 'LowRisk'\n",
    "train.loc[(train.City >= 14) & (train.City <= 22), 'CT'] = 'LowRisk'\n",
    "train.loc[(train.City >= 24) & (train.City <= 29), 'CT'] = 'LowRisk'\n",
    "train.loc[(train.City >= 32) & (train.City <= 35), 'CT'] = 'LowRisk'\n",
    "train.loc[(train.City >= 39) & (train.City <= 39), 'CT'] = 'LowRisk'\n",
    "train.loc[(train.City >= 42) & (train.City <= 44), 'CT'] = 'LowRisk'"
   ]
  },
  {
   "cell_type": "code",
   "execution_count": null,
   "metadata": {},
   "outputs": [],
   "source": []
  },
  {
   "cell_type": "code",
   "execution_count": 149,
   "metadata": {},
   "outputs": [
    {
     "data": {
      "image/png": "[encoded data removed]",
      "text/plain": [
       "<Figure size 1440x432 with 1 Axes>"
      ]
     },
     "metadata": {
      "needs_background": "light"
     },
     "output_type": "display_data"
    }
   ],
   "source": [
    "plt.figure(figsize=(20,6))\n",
    "fig=sns.countplot(x=train[\"Internal_Audit_Score\"],hue=train[\"IsUnderRisk\"])\n",
    "for count in fig.patches:\n",
    "    fig.annotate((count.get_height()),(count.get_x(),count.get_height()))\n",
    "#plt.savefig(\"ias-tar.png\")"
   ]
  },
  {
   "cell_type": "code",
   "execution_count": null,
   "metadata": {},
   "outputs": [],
   "source": [
    "fig=sns.countplot(train[\"label\"])\n",
    "for count in fig.patches:\n",
    "    fig.annotate((count.get_height()),(count.get_x(),count.get_height()))\n",
    "plt.savefig(\"count of label.png\")"
   ]
  },
  {
   "cell_type": "code",
   "execution_count": null,
   "metadata": {},
   "outputs": [],
   "source": [
    "'''\n",
    "Here it can be said that if a firm has IAS of more than 8 then it is under risk,the less the IAS the firm is good\n",
    "'''"
   ]
  },
  {
   "cell_type": "code",
   "execution_count": 126,
   "metadata": {},
   "outputs": [],
   "source": [
    "train['IAS'] = 'na'\n",
    "train.loc[(train.Internal_Audit_Score >= 3) & (train.Internal_Audit_Score <= 8), 'IAS'] = 'LowRisk' \n",
    "train.loc[(train.Internal_Audit_Score >= 9) & (train.Internal_Audit_Score <= 15), 'IAS'] = 'HighRisk' "
   ]
  },
  {
   "cell_type": "code",
   "execution_count": 44,
   "metadata": {},
   "outputs": [
    {
     "data": {
      "text/html": [
       "<div>\n",
       "<style scoped>\n",
       "    .dataframe tbody tr th:only-of-type {\n",
       "        vertical-align: middle;\n",
       "    }\n",
       "\n",
       "    .dataframe tbody tr th {\n",
       "        vertical-align: top;\n",
       "    }\n",
       "\n",
       "    .dataframe thead th {\n",
       "        text-align: right;\n",
       "    }\n",
       "</style>\n",
       "<table border=\"1\" class=\"dataframe\">\n",
       "  <thead>\n",
       "    <tr style=\"text-align: right;\">\n",
       "      <th></th>\n",
       "      <th>City</th>\n",
       "      <th>Location_Score</th>\n",
       "      <th>Internal_Audit_Score</th>\n",
       "      <th>External_Audit_Score</th>\n",
       "      <th>Fin_Score</th>\n",
       "      <th>Loss_score</th>\n",
       "      <th>Past_Results</th>\n",
       "      <th>IsUnderRisk</th>\n",
       "      <th>IAS</th>\n",
       "    </tr>\n",
       "  </thead>\n",
       "  <tbody>\n",
       "    <tr>\n",
       "      <th>0</th>\n",
       "      <td>2</td>\n",
       "      <td>8.032</td>\n",
       "      <td>14</td>\n",
       "      <td>8</td>\n",
       "      <td>3</td>\n",
       "      <td>6</td>\n",
       "      <td>0</td>\n",
       "      <td>1</td>\n",
       "      <td>HighRisk</td>\n",
       "    </tr>\n",
       "  </tbody>\n",
       "</table>\n",
       "</div>"
      ],
      "text/plain": [
       "   City  Location_Score  Internal_Audit_Score  External_Audit_Score  \\\n",
       "0     2           8.032                    14                     8   \n",
       "\n",
       "   Fin_Score  Loss_score  Past_Results  IsUnderRisk       IAS  \n",
       "0          3           6             0            1  HighRisk  "
      ]
     },
     "execution_count": 44,
     "metadata": {},
     "output_type": "execute_result"
    }
   ],
   "source": [
    "train.head(1)"
   ]
  },
  {
   "cell_type": "code",
   "execution_count": 150,
   "metadata": {},
   "outputs": [
    {
     "data": {
      "image/png": "[encoded data removed]",
      "text/plain": [
       "<Figure size 1440x432 with 1 Axes>"
      ]
     },
     "metadata": {
      "needs_background": "light"
     },
     "output_type": "display_data"
    }
   ],
   "source": [
    "plt.figure(figsize=(20,6))\n",
    "fig=sns.countplot(x=train[\"External_Audit_Score\"],hue=train[\"IsUnderRisk\"])\n",
    "for count in fig.patches:\n",
    "    fig.annotate((count.get_height()),(count.get_x(),count.get_height()))\n",
    "#plt.savefig(\"eas-tar.png\")"
   ]
  },
  {
   "cell_type": "code",
   "execution_count": 128,
   "metadata": {},
   "outputs": [],
   "source": [
    "train['EAS'] = 'na'\n",
    "train.loc[(train.External_Audit_Score >= 3) & (train.External_Audit_Score <= 8), 'EAS'] = 'LowRisk' \n",
    "train.loc[(train.External_Audit_Score >= 9) & (train.External_Audit_Score <= 15), 'EAS'] = 'HighRisk' "
   ]
  },
  {
   "cell_type": "code",
   "execution_count": 47,
   "metadata": {},
   "outputs": [
    {
     "data": {
      "text/html": [
       "<div>\n",
       "<style scoped>\n",
       "    .dataframe tbody tr th:only-of-type {\n",
       "        vertical-align: middle;\n",
       "    }\n",
       "\n",
       "    .dataframe tbody tr th {\n",
       "        vertical-align: top;\n",
       "    }\n",
       "\n",
       "    .dataframe thead th {\n",
       "        text-align: right;\n",
       "    }\n",
       "</style>\n",
       "<table border=\"1\" class=\"dataframe\">\n",
       "  <thead>\n",
       "    <tr style=\"text-align: right;\">\n",
       "      <th></th>\n",
       "      <th>City</th>\n",
       "      <th>Location_Score</th>\n",
       "      <th>Internal_Audit_Score</th>\n",
       "      <th>External_Audit_Score</th>\n",
       "      <th>Fin_Score</th>\n",
       "      <th>Loss_score</th>\n",
       "      <th>Past_Results</th>\n",
       "      <th>IsUnderRisk</th>\n",
       "      <th>IAS</th>\n",
       "      <th>EAS</th>\n",
       "    </tr>\n",
       "  </thead>\n",
       "  <tbody>\n",
       "    <tr>\n",
       "      <th>0</th>\n",
       "      <td>2</td>\n",
       "      <td>8.032</td>\n",
       "      <td>14</td>\n",
       "      <td>8</td>\n",
       "      <td>3</td>\n",
       "      <td>6</td>\n",
       "      <td>0</td>\n",
       "      <td>1</td>\n",
       "      <td>HighRisk</td>\n",
       "      <td>LowRisk</td>\n",
       "    </tr>\n",
       "  </tbody>\n",
       "</table>\n",
       "</div>"
      ],
      "text/plain": [
       "   City  Location_Score  Internal_Audit_Score  External_Audit_Score  \\\n",
       "0     2           8.032                    14                     8   \n",
       "\n",
       "   Fin_Score  Loss_score  Past_Results  IsUnderRisk       IAS      EAS  \n",
       "0          3           6             0            1  HighRisk  LowRisk  "
      ]
     },
     "execution_count": 47,
     "metadata": {},
     "output_type": "execute_result"
    }
   ],
   "source": [
    "train.head(1)"
   ]
  },
  {
   "cell_type": "code",
   "execution_count": 31,
   "metadata": {},
   "outputs": [
    {
     "data": {
      "text/plain": [
       "Index(['City', 'Location_Score', 'Internal_Audit_Score',\n",
       "       'External_Audit_Score', 'Fin_Score', 'Loss_score', 'Past_Results',\n",
       "       'IsUnderRisk'],\n",
       "      dtype='object')"
      ]
     },
     "execution_count": 31,
     "metadata": {},
     "output_type": "execute_result"
    }
   ],
   "source": [
    "train.columns"
   ]
  },
  {
   "cell_type": "code",
   "execution_count": 151,
   "metadata": {},
   "outputs": [
    {
     "data": {
      "image/png": "[encoded data removed]",
      "text/plain": [
       "<Figure size 1440x432 with 1 Axes>"
      ]
     },
     "metadata": {
      "needs_background": "light"
     },
     "output_type": "display_data"
    }
   ],
   "source": [
    "plt.figure(figsize=(20,6))\n",
    "fig=sns.countplot(x=train[\"Fin_Score\"],hue=train[\"IsUnderRisk\"])\n",
    "for count in fig.patches:\n",
    "    fig.annotate((count.get_height()),(count.get_x(),count.get_height()))\n",
    "#plt.savefig(\"fin-tar.png\")"
   ]
  },
  {
   "cell_type": "code",
   "execution_count": 129,
   "metadata": {},
   "outputs": [],
   "source": [
    "train['FS'] = 'na'\n",
    "train.loc[(train.Fin_Score >= 3) & (train.Fin_Score <= 8), 'FS'] = 'LowRisk' \n",
    "train.loc[(train.Fin_Score >= 9) & (train.Fin_Score <= 15), 'FS'] = 'HighRisk' "
   ]
  },
  {
   "cell_type": "code",
   "execution_count": 49,
   "metadata": {},
   "outputs": [
    {
     "data": {
      "text/html": [
       "<div>\n",
       "<style scoped>\n",
       "    .dataframe tbody tr th:only-of-type {\n",
       "        vertical-align: middle;\n",
       "    }\n",
       "\n",
       "    .dataframe tbody tr th {\n",
       "        vertical-align: top;\n",
       "    }\n",
       "\n",
       "    .dataframe thead th {\n",
       "        text-align: right;\n",
       "    }\n",
       "</style>\n",
       "<table border=\"1\" class=\"dataframe\">\n",
       "  <thead>\n",
       "    <tr style=\"text-align: right;\">\n",
       "      <th></th>\n",
       "      <th>City</th>\n",
       "      <th>Location_Score</th>\n",
       "      <th>Internal_Audit_Score</th>\n",
       "      <th>External_Audit_Score</th>\n",
       "      <th>Fin_Score</th>\n",
       "      <th>Loss_score</th>\n",
       "      <th>Past_Results</th>\n",
       "      <th>IsUnderRisk</th>\n",
       "      <th>IAS</th>\n",
       "      <th>EAS</th>\n",
       "      <th>FS</th>\n",
       "    </tr>\n",
       "  </thead>\n",
       "  <tbody>\n",
       "    <tr>\n",
       "      <th>0</th>\n",
       "      <td>2</td>\n",
       "      <td>8.032</td>\n",
       "      <td>14</td>\n",
       "      <td>8</td>\n",
       "      <td>3</td>\n",
       "      <td>6</td>\n",
       "      <td>0</td>\n",
       "      <td>1</td>\n",
       "      <td>HighRisk</td>\n",
       "      <td>LowRisk</td>\n",
       "      <td>LowRisk</td>\n",
       "    </tr>\n",
       "  </tbody>\n",
       "</table>\n",
       "</div>"
      ],
      "text/plain": [
       "   City  Location_Score  Internal_Audit_Score  External_Audit_Score  \\\n",
       "0     2           8.032                    14                     8   \n",
       "\n",
       "   Fin_Score  Loss_score  Past_Results  IsUnderRisk       IAS      EAS  \\\n",
       "0          3           6             0            1  HighRisk  LowRisk   \n",
       "\n",
       "        FS  \n",
       "0  LowRisk  "
      ]
     },
     "execution_count": 49,
     "metadata": {},
     "output_type": "execute_result"
    }
   ],
   "source": [
    "train.head(1)"
   ]
  },
  {
   "cell_type": "code",
   "execution_count": 152,
   "metadata": {},
   "outputs": [
    {
     "data": {
      "image/png": "[encoded data removed]",
      "text/plain": [
       "<Figure size 1440x432 with 1 Axes>"
      ]
     },
     "metadata": {
      "needs_background": "light"
     },
     "output_type": "display_data"
    }
   ],
   "source": [
    "plt.figure(figsize=(20,6))\n",
    "fig=sns.countplot(x=train[\"Loss_score\"],hue=train[\"IsUnderRisk\"])\n",
    "for count in fig.patches:\n",
    "    fig.annotate((count.get_height()),(count.get_x(),count.get_height()))\n",
    "#plt.savefig(\"loss-tar.png\")"
   ]
  },
  {
   "cell_type": "code",
   "execution_count": 130,
   "metadata": {},
   "outputs": [],
   "source": [
    "train['LS'] = 'na'\n",
    "train.loc[(train.Loss_score >= 3) & (train.Loss_score <= 8), 'LS'] = 'LowRisk' \n",
    "train.loc[(train.Loss_score >= 9) & (train.Loss_score <= 15), 'LS'] = 'HighRisk' "
   ]
  },
  {
   "cell_type": "code",
   "execution_count": 51,
   "metadata": {},
   "outputs": [
    {
     "data": {
      "text/html": [
       "<div>\n",
       "<style scoped>\n",
       "    .dataframe tbody tr th:only-of-type {\n",
       "        vertical-align: middle;\n",
       "    }\n",
       "\n",
       "    .dataframe tbody tr th {\n",
       "        vertical-align: top;\n",
       "    }\n",
       "\n",
       "    .dataframe thead th {\n",
       "        text-align: right;\n",
       "    }\n",
       "</style>\n",
       "<table border=\"1\" class=\"dataframe\">\n",
       "  <thead>\n",
       "    <tr style=\"text-align: right;\">\n",
       "      <th></th>\n",
       "      <th>City</th>\n",
       "      <th>Location_Score</th>\n",
       "      <th>Internal_Audit_Score</th>\n",
       "      <th>External_Audit_Score</th>\n",
       "      <th>Fin_Score</th>\n",
       "      <th>Loss_score</th>\n",
       "      <th>Past_Results</th>\n",
       "      <th>IsUnderRisk</th>\n",
       "      <th>IAS</th>\n",
       "      <th>EAS</th>\n",
       "      <th>FS</th>\n",
       "      <th>LS</th>\n",
       "    </tr>\n",
       "  </thead>\n",
       "  <tbody>\n",
       "    <tr>\n",
       "      <th>0</th>\n",
       "      <td>2</td>\n",
       "      <td>8.032</td>\n",
       "      <td>14</td>\n",
       "      <td>8</td>\n",
       "      <td>3</td>\n",
       "      <td>6</td>\n",
       "      <td>0</td>\n",
       "      <td>1</td>\n",
       "      <td>HighRisk</td>\n",
       "      <td>LowRisk</td>\n",
       "      <td>LowRisk</td>\n",
       "      <td>LowRisk</td>\n",
       "    </tr>\n",
       "  </tbody>\n",
       "</table>\n",
       "</div>"
      ],
      "text/plain": [
       "   City  Location_Score  Internal_Audit_Score  External_Audit_Score  \\\n",
       "0     2           8.032                    14                     8   \n",
       "\n",
       "   Fin_Score  Loss_score  Past_Results  IsUnderRisk       IAS      EAS  \\\n",
       "0          3           6             0            1  HighRisk  LowRisk   \n",
       "\n",
       "        FS       LS  \n",
       "0  LowRisk  LowRisk  "
      ]
     },
     "execution_count": 51,
     "metadata": {},
     "output_type": "execute_result"
    }
   ],
   "source": [
    "train.head(1)"
   ]
  },
  {
   "cell_type": "code",
   "execution_count": 153,
   "metadata": {},
   "outputs": [
    {
     "data": {
      "image/png": "[encoded data removed]",
      "text/plain": [
       "<Figure size 1440x504 with 1 Axes>"
      ]
     },
     "metadata": {
      "needs_background": "light"
     },
     "output_type": "display_data"
    }
   ],
   "source": [
    "plt.figure(figsize=(20,7))\n",
    "fig=sns.countplot(x=train[\"Past_Results\"],hue=train[\"IsUnderRisk\"])\n",
    "for count in fig.patches:\n",
    "    fig.annotate((count.get_height()),(count.get_x(),count.get_height()))\n",
    "#plt.savefig(\"pas-tar.png\")"
   ]
  },
  {
   "cell_type": "code",
   "execution_count": null,
   "metadata": {},
   "outputs": [],
   "source": [
    "'''\n",
    "If a firm has EAS more than 8 then it can be said prone to risk, so less the score less risk\n",
    "'''"
   ]
  },
  {
   "cell_type": "code",
   "execution_count": 131,
   "metadata": {},
   "outputs": [],
   "source": [
    "train['PR'] = 'na'\n",
    "train.loc[(train.Past_Results >= 0) & (train.Past_Results <= 1), 'PR'] = 'LowRisk' \n",
    "train.loc[(train.Past_Results >= 2) & (train.Past_Results <= 10), 'PR'] = 'HighRisk' "
   ]
  },
  {
   "cell_type": "code",
   "execution_count": null,
   "metadata": {},
   "outputs": [],
   "source": [
    "# Location_Store"
   ]
  },
  {
   "cell_type": "code",
   "execution_count": 11,
   "metadata": {},
   "outputs": [
    {
     "data": {
      "text/plain": [
       "(5.185, 80.809)"
      ]
     },
     "execution_count": 11,
     "metadata": {},
     "output_type": "execute_result"
    }
   ],
   "source": [
    "train[\"Location_Score\"].min(),train[\"Location_Score\"].max()"
   ]
  },
  {
   "cell_type": "code",
   "execution_count": 132,
   "metadata": {},
   "outputs": [],
   "source": [
    "train['Loc'] = 'na'\n",
    "train.loc[(train.Location_Score >= 5) & (train.Location_Score <= 15), 'Loc'] = 'Under15' \n",
    "train.loc[(train.Location_Score >= 15.00001) & (train.Location_Score <= 25), 'Loc'] = 'Under25'\n",
    "train.loc[(train.Location_Score >= 25.00001) & (train.Location_Score <= 35), 'Loc'] = 'Under35'\n",
    "train.loc[(train.Location_Score >= 35.00001) & (train.Location_Score <= 45), 'Loc'] = 'Under45'\n",
    "train.loc[(train.Location_Score >= 45.00001) & (train.Location_Score <= 55), 'Loc'] = 'Under55'\n",
    "train.loc[(train.Location_Score >= 55.00001) & (train.Location_Score <= 65), 'Loc'] = 'Under65'\n",
    "train.loc[(train.Location_Score >= 65.00001) & (train.Location_Score <= 75), 'Loc'] = 'Under75'\n",
    "train.loc[(train.Location_Score >= 75.00001) & (train.Location_Score <= 85), 'Loc'] = 'Under85'"
   ]
  },
  {
   "cell_type": "code",
   "execution_count": 70,
   "metadata": {},
   "outputs": [
    {
     "data": {
      "text/html": [
       "<div>\n",
       "<style scoped>\n",
       "    .dataframe tbody tr th:only-of-type {\n",
       "        vertical-align: middle;\n",
       "    }\n",
       "\n",
       "    .dataframe tbody tr th {\n",
       "        vertical-align: top;\n",
       "    }\n",
       "\n",
       "    .dataframe thead th {\n",
       "        text-align: right;\n",
       "    }\n",
       "</style>\n",
       "<table border=\"1\" class=\"dataframe\">\n",
       "  <thead>\n",
       "    <tr style=\"text-align: right;\">\n",
       "      <th></th>\n",
       "      <th>City</th>\n",
       "      <th>Location_Score</th>\n",
       "      <th>Internal_Audit_Score</th>\n",
       "      <th>External_Audit_Score</th>\n",
       "      <th>Fin_Score</th>\n",
       "      <th>Loss_score</th>\n",
       "      <th>Past_Results</th>\n",
       "      <th>IsUnderRisk</th>\n",
       "      <th>CT</th>\n",
       "      <th>IAS</th>\n",
       "      <th>EAS</th>\n",
       "      <th>FS</th>\n",
       "      <th>LS</th>\n",
       "      <th>PR</th>\n",
       "      <th>Loc</th>\n",
       "    </tr>\n",
       "  </thead>\n",
       "  <tbody>\n",
       "    <tr>\n",
       "      <th>0</th>\n",
       "      <td>2</td>\n",
       "      <td>8.032</td>\n",
       "      <td>14</td>\n",
       "      <td>8</td>\n",
       "      <td>3</td>\n",
       "      <td>6</td>\n",
       "      <td>0</td>\n",
       "      <td>1</td>\n",
       "      <td>HighRisk</td>\n",
       "      <td>HighRisk</td>\n",
       "      <td>LowRisk</td>\n",
       "      <td>LowRisk</td>\n",
       "      <td>LowRisk</td>\n",
       "      <td>LowRisk</td>\n",
       "      <td>Under15</td>\n",
       "    </tr>\n",
       "    <tr>\n",
       "      <th>1</th>\n",
       "      <td>31</td>\n",
       "      <td>77.730</td>\n",
       "      <td>8</td>\n",
       "      <td>3</td>\n",
       "      <td>3</td>\n",
       "      <td>8</td>\n",
       "      <td>1</td>\n",
       "      <td>0</td>\n",
       "      <td>HighRisk</td>\n",
       "      <td>LowRisk</td>\n",
       "      <td>LowRisk</td>\n",
       "      <td>LowRisk</td>\n",
       "      <td>LowRisk</td>\n",
       "      <td>LowRisk</td>\n",
       "      <td>Under85</td>\n",
       "    </tr>\n",
       "    <tr>\n",
       "      <th>2</th>\n",
       "      <td>40</td>\n",
       "      <td>59.203</td>\n",
       "      <td>3</td>\n",
       "      <td>12</td>\n",
       "      <td>11</td>\n",
       "      <td>3</td>\n",
       "      <td>0</td>\n",
       "      <td>1</td>\n",
       "      <td>HighRisk</td>\n",
       "      <td>LowRisk</td>\n",
       "      <td>HighRisk</td>\n",
       "      <td>HighRisk</td>\n",
       "      <td>LowRisk</td>\n",
       "      <td>LowRisk</td>\n",
       "      <td>Under65</td>\n",
       "    </tr>\n",
       "    <tr>\n",
       "      <th>3</th>\n",
       "      <td>12</td>\n",
       "      <td>73.080</td>\n",
       "      <td>4</td>\n",
       "      <td>5</td>\n",
       "      <td>7</td>\n",
       "      <td>6</td>\n",
       "      <td>0</td>\n",
       "      <td>0</td>\n",
       "      <td>LowRisk</td>\n",
       "      <td>LowRisk</td>\n",
       "      <td>LowRisk</td>\n",
       "      <td>LowRisk</td>\n",
       "      <td>LowRisk</td>\n",
       "      <td>LowRisk</td>\n",
       "      <td>Under75</td>\n",
       "    </tr>\n",
       "    <tr>\n",
       "      <th>4</th>\n",
       "      <td>4</td>\n",
       "      <td>15.666</td>\n",
       "      <td>13</td>\n",
       "      <td>15</td>\n",
       "      <td>6</td>\n",
       "      <td>7</td>\n",
       "      <td>2</td>\n",
       "      <td>1</td>\n",
       "      <td>HighRisk</td>\n",
       "      <td>HighRisk</td>\n",
       "      <td>HighRisk</td>\n",
       "      <td>LowRisk</td>\n",
       "      <td>LowRisk</td>\n",
       "      <td>HighRisk</td>\n",
       "      <td>Under25</td>\n",
       "    </tr>\n",
       "  </tbody>\n",
       "</table>\n",
       "</div>"
      ],
      "text/plain": [
       "   City  Location_Score  Internal_Audit_Score  External_Audit_Score  \\\n",
       "0     2           8.032                    14                     8   \n",
       "1    31          77.730                     8                     3   \n",
       "2    40          59.203                     3                    12   \n",
       "3    12          73.080                     4                     5   \n",
       "4     4          15.666                    13                    15   \n",
       "\n",
       "   Fin_Score  Loss_score  Past_Results  IsUnderRisk        CT       IAS  \\\n",
       "0          3           6             0            1  HighRisk  HighRisk   \n",
       "1          3           8             1            0  HighRisk   LowRisk   \n",
       "2         11           3             0            1  HighRisk   LowRisk   \n",
       "3          7           6             0            0   LowRisk   LowRisk   \n",
       "4          6           7             2            1  HighRisk  HighRisk   \n",
       "\n",
       "        EAS        FS       LS        PR      Loc  \n",
       "0   LowRisk   LowRisk  LowRisk   LowRisk  Under15  \n",
       "1   LowRisk   LowRisk  LowRisk   LowRisk  Under85  \n",
       "2  HighRisk  HighRisk  LowRisk   LowRisk  Under65  \n",
       "3   LowRisk   LowRisk  LowRisk   LowRisk  Under75  \n",
       "4  HighRisk   LowRisk  LowRisk  HighRisk  Under25  "
      ]
     },
     "execution_count": 70,
     "metadata": {},
     "output_type": "execute_result"
    }
   ],
   "source": [
    "train.head(5)"
   ]
  },
  {
   "cell_type": "code",
   "execution_count": null,
   "metadata": {},
   "outputs": [],
   "source": [
    "# Creating dummy variable for all categorical columns"
   ]
  },
  {
   "cell_type": "code",
   "execution_count": 358,
   "metadata": {},
   "outputs": [],
   "source": [
    "ias=pd.get_dummies(train[\"IAS\"],drop_first=True,prefix=\"IAS\")\n",
    "eas=pd.get_dummies(train[\"EAS\"],drop_first=True,prefix=\"EAS\")\n",
    "fs=pd.get_dummies(train[\"FS\"],drop_first=True,prefix=\"FS\")\n",
    "ls=pd.get_dummies(train[\"LS\"],drop_first=True,prefix=\"LS\")\n",
    "pr=pd.get_dummies(train[\"PR\"],drop_first=True,prefix=\"pr\")"
   ]
  },
  {
   "cell_type": "code",
   "execution_count": 359,
   "metadata": {},
   "outputs": [],
   "source": [
    "train=pd.concat([train,ias],axis=1)\n",
    "train=pd.concat([train,eas],axis=1)\n",
    "train=pd.concat([train,fs],axis=1)\n",
    "train=pd.concat([train,ls],axis=1)\n",
    "train=pd.concat([train,pr],axis=1)"
   ]
  },
  {
   "cell_type": "code",
   "execution_count": 360,
   "metadata": {},
   "outputs": [],
   "source": [
    "train=train.drop([\"IAS\",\"EAS\",\"FS\",\"LS\",\"PR\"],axis=1)"
   ]
  },
  {
   "cell_type": "code",
   "execution_count": 133,
   "metadata": {},
   "outputs": [
    {
     "data": {
      "text/html": [
       "<div>\n",
       "<style scoped>\n",
       "    .dataframe tbody tr th:only-of-type {\n",
       "        vertical-align: middle;\n",
       "    }\n",
       "\n",
       "    .dataframe tbody tr th {\n",
       "        vertical-align: top;\n",
       "    }\n",
       "\n",
       "    .dataframe thead th {\n",
       "        text-align: right;\n",
       "    }\n",
       "</style>\n",
       "<table border=\"1\" class=\"dataframe\">\n",
       "  <thead>\n",
       "    <tr style=\"text-align: right;\">\n",
       "      <th></th>\n",
       "      <th>City</th>\n",
       "      <th>Location_Score</th>\n",
       "      <th>Internal_Audit_Score</th>\n",
       "      <th>External_Audit_Score</th>\n",
       "      <th>Fin_Score</th>\n",
       "      <th>Loss_score</th>\n",
       "      <th>Past_Results</th>\n",
       "      <th>IsUnderRisk</th>\n",
       "      <th>CT</th>\n",
       "      <th>IAS</th>\n",
       "      <th>EAS</th>\n",
       "      <th>FS</th>\n",
       "      <th>LS</th>\n",
       "      <th>PR</th>\n",
       "      <th>Loc</th>\n",
       "    </tr>\n",
       "  </thead>\n",
       "  <tbody>\n",
       "    <tr>\n",
       "      <th>0</th>\n",
       "      <td>2</td>\n",
       "      <td>8.032</td>\n",
       "      <td>14</td>\n",
       "      <td>8</td>\n",
       "      <td>3</td>\n",
       "      <td>6</td>\n",
       "      <td>0</td>\n",
       "      <td>1</td>\n",
       "      <td>HighRisk</td>\n",
       "      <td>HighRisk</td>\n",
       "      <td>LowRisk</td>\n",
       "      <td>LowRisk</td>\n",
       "      <td>LowRisk</td>\n",
       "      <td>LowRisk</td>\n",
       "      <td>Under15</td>\n",
       "    </tr>\n",
       "    <tr>\n",
       "      <th>1</th>\n",
       "      <td>31</td>\n",
       "      <td>77.730</td>\n",
       "      <td>8</td>\n",
       "      <td>3</td>\n",
       "      <td>3</td>\n",
       "      <td>8</td>\n",
       "      <td>1</td>\n",
       "      <td>0</td>\n",
       "      <td>HighRisk</td>\n",
       "      <td>LowRisk</td>\n",
       "      <td>LowRisk</td>\n",
       "      <td>LowRisk</td>\n",
       "      <td>LowRisk</td>\n",
       "      <td>LowRisk</td>\n",
       "      <td>Under85</td>\n",
       "    </tr>\n",
       "    <tr>\n",
       "      <th>2</th>\n",
       "      <td>40</td>\n",
       "      <td>59.203</td>\n",
       "      <td>3</td>\n",
       "      <td>12</td>\n",
       "      <td>11</td>\n",
       "      <td>3</td>\n",
       "      <td>0</td>\n",
       "      <td>1</td>\n",
       "      <td>HighRisk</td>\n",
       "      <td>LowRisk</td>\n",
       "      <td>HighRisk</td>\n",
       "      <td>HighRisk</td>\n",
       "      <td>LowRisk</td>\n",
       "      <td>LowRisk</td>\n",
       "      <td>Under65</td>\n",
       "    </tr>\n",
       "  </tbody>\n",
       "</table>\n",
       "</div>"
      ],
      "text/plain": [
       "   City  Location_Score  Internal_Audit_Score  External_Audit_Score  \\\n",
       "0     2           8.032                    14                     8   \n",
       "1    31          77.730                     8                     3   \n",
       "2    40          59.203                     3                    12   \n",
       "\n",
       "   Fin_Score  Loss_score  Past_Results  IsUnderRisk        CT       IAS  \\\n",
       "0          3           6             0            1  HighRisk  HighRisk   \n",
       "1          3           8             1            0  HighRisk   LowRisk   \n",
       "2         11           3             0            1  HighRisk   LowRisk   \n",
       "\n",
       "        EAS        FS       LS       PR      Loc  \n",
       "0   LowRisk   LowRisk  LowRisk  LowRisk  Under15  \n",
       "1   LowRisk   LowRisk  LowRisk  LowRisk  Under85  \n",
       "2  HighRisk  HighRisk  LowRisk  LowRisk  Under65  "
      ]
     },
     "execution_count": 133,
     "metadata": {},
     "output_type": "execute_result"
    }
   ],
   "source": [
    "train.head(3)"
   ]
  },
  {
   "cell_type": "code",
   "execution_count": null,
   "metadata": {},
   "outputs": [],
   "source": []
  },
  {
   "cell_type": "code",
   "execution_count": null,
   "metadata": {},
   "outputs": [],
   "source": [
    "# Lets encode all categorical variables"
   ]
  },
  {
   "cell_type": "code",
   "execution_count": 134,
   "metadata": {},
   "outputs": [],
   "source": [
    "ias = {\"LowRisk\": 0, \"HighRisk\": 1}\n",
    "train['IAS'] = train['IAS'].map(ias)"
   ]
  },
  {
   "cell_type": "code",
   "execution_count": 135,
   "metadata": {},
   "outputs": [],
   "source": [
    "eas = {\"LowRisk\": 0, \"HighRisk\": 1}\n",
    "train['EAS'] = train['EAS'].map(eas)"
   ]
  },
  {
   "cell_type": "code",
   "execution_count": 136,
   "metadata": {},
   "outputs": [],
   "source": [
    "fs = {\"LowRisk\": 0, \"HighRisk\": 1}\n",
    "train['FS'] = train['FS'].map(fs)"
   ]
  },
  {
   "cell_type": "code",
   "execution_count": 137,
   "metadata": {},
   "outputs": [],
   "source": [
    "ls = {\"LowRisk\": 0, \"HighRisk\": 1}\n",
    "train['LS'] = train['LS'].map(ls)"
   ]
  },
  {
   "cell_type": "code",
   "execution_count": 138,
   "metadata": {},
   "outputs": [],
   "source": [
    "pr = {\"LowRisk\": 0, \"HighRisk\": 1}\n",
    "train['PR'] = train['PR'].map(pr)"
   ]
  },
  {
   "cell_type": "code",
   "execution_count": null,
   "metadata": {},
   "outputs": [],
   "source": []
  },
  {
   "cell_type": "code",
   "execution_count": 139,
   "metadata": {},
   "outputs": [],
   "source": [
    "ct = {\"LowRisk\": 0, \"HighRisk\": 1}\n",
    "train['CT'] = train['CT'].map(ct)"
   ]
  },
  {
   "cell_type": "code",
   "execution_count": 140,
   "metadata": {},
   "outputs": [],
   "source": [
    "loc = {\"Under15\": 0, \"Under25\": 1,\"Under35\":2,\"Under45\":3,\"Under55\":4,\"Under65\":5,\"Under75\":6,\"Under85\":7}\n",
    "train['Loc'] = train['Loc'].map(loc)"
   ]
  },
  {
   "cell_type": "code",
   "execution_count": null,
   "metadata": {},
   "outputs": [],
   "source": [
    "# Lets see the dataset"
   ]
  },
  {
   "cell_type": "code",
   "execution_count": 141,
   "metadata": {},
   "outputs": [
    {
     "data": {
      "text/html": [
       "<div>\n",
       "<style scoped>\n",
       "    .dataframe tbody tr th:only-of-type {\n",
       "        vertical-align: middle;\n",
       "    }\n",
       "\n",
       "    .dataframe tbody tr th {\n",
       "        vertical-align: top;\n",
       "    }\n",
       "\n",
       "    .dataframe thead th {\n",
       "        text-align: right;\n",
       "    }\n",
       "</style>\n",
       "<table border=\"1\" class=\"dataframe\">\n",
       "  <thead>\n",
       "    <tr style=\"text-align: right;\">\n",
       "      <th></th>\n",
       "      <th>City</th>\n",
       "      <th>Location_Score</th>\n",
       "      <th>Internal_Audit_Score</th>\n",
       "      <th>External_Audit_Score</th>\n",
       "      <th>Fin_Score</th>\n",
       "      <th>Loss_score</th>\n",
       "      <th>Past_Results</th>\n",
       "      <th>IsUnderRisk</th>\n",
       "      <th>CT</th>\n",
       "      <th>IAS</th>\n",
       "      <th>EAS</th>\n",
       "      <th>FS</th>\n",
       "      <th>LS</th>\n",
       "      <th>PR</th>\n",
       "      <th>Loc</th>\n",
       "    </tr>\n",
       "  </thead>\n",
       "  <tbody>\n",
       "    <tr>\n",
       "      <th>0</th>\n",
       "      <td>2</td>\n",
       "      <td>8.032</td>\n",
       "      <td>14</td>\n",
       "      <td>8</td>\n",
       "      <td>3</td>\n",
       "      <td>6</td>\n",
       "      <td>0</td>\n",
       "      <td>1</td>\n",
       "      <td>1</td>\n",
       "      <td>1</td>\n",
       "      <td>0</td>\n",
       "      <td>0</td>\n",
       "      <td>0</td>\n",
       "      <td>0</td>\n",
       "      <td>0</td>\n",
       "    </tr>\n",
       "    <tr>\n",
       "      <th>1</th>\n",
       "      <td>31</td>\n",
       "      <td>77.730</td>\n",
       "      <td>8</td>\n",
       "      <td>3</td>\n",
       "      <td>3</td>\n",
       "      <td>8</td>\n",
       "      <td>1</td>\n",
       "      <td>0</td>\n",
       "      <td>1</td>\n",
       "      <td>0</td>\n",
       "      <td>0</td>\n",
       "      <td>0</td>\n",
       "      <td>0</td>\n",
       "      <td>0</td>\n",
       "      <td>7</td>\n",
       "    </tr>\n",
       "    <tr>\n",
       "      <th>2</th>\n",
       "      <td>40</td>\n",
       "      <td>59.203</td>\n",
       "      <td>3</td>\n",
       "      <td>12</td>\n",
       "      <td>11</td>\n",
       "      <td>3</td>\n",
       "      <td>0</td>\n",
       "      <td>1</td>\n",
       "      <td>1</td>\n",
       "      <td>0</td>\n",
       "      <td>1</td>\n",
       "      <td>1</td>\n",
       "      <td>0</td>\n",
       "      <td>0</td>\n",
       "      <td>5</td>\n",
       "    </tr>\n",
       "    <tr>\n",
       "      <th>3</th>\n",
       "      <td>12</td>\n",
       "      <td>73.080</td>\n",
       "      <td>4</td>\n",
       "      <td>5</td>\n",
       "      <td>7</td>\n",
       "      <td>6</td>\n",
       "      <td>0</td>\n",
       "      <td>0</td>\n",
       "      <td>0</td>\n",
       "      <td>0</td>\n",
       "      <td>0</td>\n",
       "      <td>0</td>\n",
       "      <td>0</td>\n",
       "      <td>0</td>\n",
       "      <td>6</td>\n",
       "    </tr>\n",
       "  </tbody>\n",
       "</table>\n",
       "</div>"
      ],
      "text/plain": [
       "   City  Location_Score  Internal_Audit_Score  External_Audit_Score  \\\n",
       "0     2           8.032                    14                     8   \n",
       "1    31          77.730                     8                     3   \n",
       "2    40          59.203                     3                    12   \n",
       "3    12          73.080                     4                     5   \n",
       "\n",
       "   Fin_Score  Loss_score  Past_Results  IsUnderRisk  CT  IAS  EAS  FS  LS  PR  \\\n",
       "0          3           6             0            1   1    1    0   0   0   0   \n",
       "1          3           8             1            0   1    0    0   0   0   0   \n",
       "2         11           3             0            1   1    0    1   1   0   0   \n",
       "3          7           6             0            0   0    0    0   0   0   0   \n",
       "\n",
       "   Loc  \n",
       "0    0  \n",
       "1    7  \n",
       "2    5  \n",
       "3    6  "
      ]
     },
     "execution_count": 141,
     "metadata": {},
     "output_type": "execute_result"
    }
   ],
   "source": [
    "train.head(4)"
   ]
  },
  {
   "cell_type": "code",
   "execution_count": 85,
   "metadata": {},
   "outputs": [
    {
     "data": {
      "text/plain": [
       "array([1, 0], dtype=int64)"
      ]
     },
     "execution_count": 85,
     "metadata": {},
     "output_type": "execute_result"
    }
   ],
   "source": [
    "train.CT.unique()"
   ]
  },
  {
   "cell_type": "code",
   "execution_count": null,
   "metadata": {},
   "outputs": [],
   "source": [
    "# Lets apply same techniques to test dataset"
   ]
  },
  {
   "cell_type": "code",
   "execution_count": 142,
   "metadata": {},
   "outputs": [],
   "source": [
    "test['IAS'] = 'na'\n",
    "test.loc[(test.Internal_Audit_Score >= 3) & (test.Internal_Audit_Score <= 8), 'IAS'] = 'LowRisk' \n",
    "test.loc[(test.Internal_Audit_Score >= 9) & (test.Internal_Audit_Score <= 15), 'IAS'] = 'HighRisk' \n",
    "test['EAS'] = 'na'\n",
    "test.loc[(test.External_Audit_Score >= 3) & (test.External_Audit_Score <= 8), 'EAS'] = 'LowRisk' \n",
    "test.loc[(test.External_Audit_Score >= 9) & (test.External_Audit_Score <= 15), 'EAS'] = 'HighRisk' \n",
    "test['FS'] = 'na'\n",
    "test.loc[(test.Fin_Score >= 3) & (test.Fin_Score <= 8), 'FS'] = 'LowRisk' \n",
    "test.loc[(test.Fin_Score >= 9) & (test.Fin_Score <= 15), 'FS'] = 'HighRisk' \n",
    "test['LS'] = 'na'\n",
    "test.loc[(test.Loss_score >= 3) & (test.Loss_score <= 8), 'LS'] = 'LowRisk' \n",
    "test.loc[(test.Loss_score >= 9) & (test.Loss_score <= 15), 'LS'] = 'HighRisk' \n",
    "test['PR'] = 'na'\n",
    "test.loc[(test.Past_Results >= 0) & (test.Past_Results <= 1), 'PR'] = 'LowRisk' \n",
    "test.loc[(test.Past_Results >= 2) & (test.Past_Results <= 10), 'PR'] = 'HighRisk' \n",
    "test['CT'] = 'na'\n",
    "test.loc[(test.City >= 0) & (test.City <= 6), 'CT'] = 'HighRisk' \n",
    "test.loc[(test.City >= 9) & (test.City <= 10), 'CT'] = 'HighRisk'\n",
    "test.loc[(test.City >= 13) & (test.City <= 13), 'CT'] = 'HighRisk'\n",
    "test.loc[(test.City >= 23) & (test.City <= 23), 'CT'] = 'HighRisk'\n",
    "test.loc[(test.City >= 30) & (test.City <= 31), 'CT'] = 'HighRisk'\n",
    "test.loc[(test.City >= 37) & (test.City <= 38), 'CT'] = 'HighRisk'\n",
    "test.loc[(test.City >= 40) & (test.City <= 41), 'CT'] = 'HighRisk'\n",
    "test.loc[(test.City >= 7) & (test.City <= 8), 'CT'] = 'LowRisk'\n",
    "test.loc[(test.City >= 11) & (test.City <= 12), 'CT'] = 'LowRisk'\n",
    "test.loc[(test.City >= 14) & (test.City <= 22), 'CT'] = 'LowRisk'\n",
    "test.loc[(test.City >= 24) & (test.City <= 29), 'CT'] = 'LowRisk'\n",
    "test.loc[(test.City >= 32) & (test.City <= 35), 'CT'] = 'LowRisk'\n",
    "test.loc[(test.City >= 39) & (test.City <= 39), 'CT'] = 'LowRisk'\n",
    "test.loc[(test.City >= 42) & (test.City <= 44), 'CT'] = 'LowRisk'\n",
    "test['Loc'] = 'na'\n",
    "test.loc[(test.Location_Score >= 5) & (test.Location_Score <= 15), 'Loc'] = 'Under15' \n",
    "test.loc[(test.Location_Score >= 15.00001) & (test.Location_Score <= 25), 'Loc'] = 'Under25'\n",
    "test.loc[(test.Location_Score >= 25.00001) & (test.Location_Score <= 35), 'Loc'] = 'Under35'\n",
    "test.loc[(test.Location_Score >= 35.00001) & (test.Location_Score <= 45), 'Loc'] = 'Under45'\n",
    "test.loc[(test.Location_Score >= 45.00001) & (test.Location_Score <= 55), 'Loc'] = 'Under55'\n",
    "test.loc[(test.Location_Score >= 55.00001) & (test.Location_Score <= 65), 'Loc'] = 'Under65'\n",
    "test.loc[(test.Location_Score >= 65.00001) & (test.Location_Score <= 75), 'Loc'] = 'Under75'\n",
    "test.loc[(test.Location_Score >= 75.00001) & (test.Location_Score <= 85), 'Loc'] = 'Under85'\n",
    "ias = {\"LowRisk\": 0, \"HighRisk\": 1}\n",
    "test['IAS'] = test['IAS'].map(ias)\n",
    "eas = {\"LowRisk\": 0, \"HighRisk\": 1}\n",
    "test['EAS'] = test['EAS'].map(eas)\n",
    "fs = {\"LowRisk\": 0, \"HighRisk\": 1}\n",
    "test['FS'] = test['FS'].map(fs)\n",
    "ls = {\"LowRisk\": 0, \"HighRisk\": 1}\n",
    "test['LS'] = test['LS'].map(ls)\n",
    "pr = {\"LowRisk\": 0, \"HighRisk\": 1}\n",
    "test['PR'] = test['PR'].map(pr)\n",
    "ct = {\"LowRisk\": 0, \"HighRisk\": 1}\n",
    "test['CT'] = test['CT'].map(ct)\n",
    "loc = {\"Under15\": 0, \"Under25\": 1,\"Under35\":2,\"Under45\":3,\"Under55\":4,\"Under65\":5,\"Under75\":6,\"Under85\":7}\n",
    "test['Loc'] = test['Loc'].map(loc)"
   ]
  },
  {
   "cell_type": "code",
   "execution_count": 362,
   "metadata": {},
   "outputs": [],
   "source": [
    "test['IAS'] = 'na'\n",
    "test.loc[(test.Internal_Audit_Score >= 3) & (test.Internal_Audit_Score <= 8), 'IAS'] = 'LowRisk' \n",
    "test.loc[(test.Internal_Audit_Score >= 9) & (test.Internal_Audit_Score <= 15), 'IAS'] = 'HighRisk' \n",
    "test['EAS'] = 'na'\n",
    "test.loc[(test.External_Audit_Score >= 3) & (test.External_Audit_Score <= 8), 'EAS'] = 'LowRisk' \n",
    "test.loc[(test.External_Audit_Score >= 9) & (test.External_Audit_Score <= 15), 'EAS'] = 'HighRisk' \n",
    "test['FS'] = 'na'\n",
    "test.loc[(test.Fin_Score >= 3) & (test.Fin_Score <= 8), 'FS'] = 'LowRisk' \n",
    "test.loc[(test.Fin_Score >= 9) & (test.Fin_Score <= 15), 'FS'] = 'HighRisk' \n",
    "test['LS'] = 'na'\n",
    "test.loc[(test.Loss_score >= 3) & (test.Loss_score <= 8), 'LS'] = 'LowRisk' \n",
    "test.loc[(test.Loss_score >= 9) & (test.Loss_score <= 15), 'LS'] = 'HighRisk' \n",
    "test['PR'] = 'na'\n",
    "test.loc[(test.Past_Results >= 0) & (test.Past_Results <= 1), 'PR'] = 'LowRisk' \n",
    "test.loc[(test.Past_Results >= 2) & (test.Past_Results <= 10), 'PR'] = 'HighRisk' \n",
    "ias=pd.get_dummies(test[\"IAS\"],drop_first=True,prefix=\"IAS\")\n",
    "eas=pd.get_dummies(test[\"EAS\"],drop_first=True,prefix=\"EAS\")\n",
    "fs=pd.get_dummies(test[\"FS\"],drop_first=True,prefix=\"FS\")\n",
    "ls=pd.get_dummies(test[\"LS\"],drop_first=True,prefix=\"LS\")\n",
    "pr=pd.get_dummies(test[\"PR\"],drop_first=True,prefix=\"pr\")\n",
    "test=pd.concat([test,ias],axis=1)\n",
    "test=pd.concat([test,eas],axis=1)\n",
    "test=pd.concat([test,fs],axis=1)\n",
    "test=pd.concat([test,ls],axis=1)\n",
    "test=pd.concat([test,pr],axis=1)\n",
    "test=test.drop([\"IAS\",\"EAS\",\"FS\",\"LS\",\"PR\"],axis=1)"
   ]
  },
  {
   "cell_type": "code",
   "execution_count": null,
   "metadata": {},
   "outputs": [],
   "source": [
    "# Lets look at the test dataset"
   ]
  },
  {
   "cell_type": "code",
   "execution_count": null,
   "metadata": {},
   "outputs": [],
   "source": []
  },
  {
   "cell_type": "code",
   "execution_count": 147,
   "metadata": {},
   "outputs": [
    {
     "data": {
      "text/html": [
       "<div>\n",
       "<style scoped>\n",
       "    .dataframe tbody tr th:only-of-type {\n",
       "        vertical-align: middle;\n",
       "    }\n",
       "\n",
       "    .dataframe tbody tr th {\n",
       "        vertical-align: top;\n",
       "    }\n",
       "\n",
       "    .dataframe thead th {\n",
       "        text-align: right;\n",
       "    }\n",
       "</style>\n",
       "<table border=\"1\" class=\"dataframe\">\n",
       "  <thead>\n",
       "    <tr style=\"text-align: right;\">\n",
       "      <th></th>\n",
       "      <th>City</th>\n",
       "      <th>Location_Score</th>\n",
       "      <th>Internal_Audit_Score</th>\n",
       "      <th>External_Audit_Score</th>\n",
       "      <th>Fin_Score</th>\n",
       "      <th>Loss_score</th>\n",
       "      <th>Past_Results</th>\n",
       "      <th>IAS</th>\n",
       "      <th>EAS</th>\n",
       "      <th>FS</th>\n",
       "      <th>LS</th>\n",
       "      <th>PR</th>\n",
       "      <th>CT</th>\n",
       "      <th>Loc</th>\n",
       "    </tr>\n",
       "  </thead>\n",
       "  <tbody>\n",
       "    <tr>\n",
       "      <th>0</th>\n",
       "      <td>41</td>\n",
       "      <td>18.272</td>\n",
       "      <td>13</td>\n",
       "      <td>12</td>\n",
       "      <td>9</td>\n",
       "      <td>7</td>\n",
       "      <td>0</td>\n",
       "      <td>1</td>\n",
       "      <td>1</td>\n",
       "      <td>1</td>\n",
       "      <td>0</td>\n",
       "      <td>0</td>\n",
       "      <td>1</td>\n",
       "      <td>1</td>\n",
       "    </tr>\n",
       "    <tr>\n",
       "      <th>1</th>\n",
       "      <td>17</td>\n",
       "      <td>64.799</td>\n",
       "      <td>6</td>\n",
       "      <td>10</td>\n",
       "      <td>7</td>\n",
       "      <td>4</td>\n",
       "      <td>1</td>\n",
       "      <td>0</td>\n",
       "      <td>1</td>\n",
       "      <td>0</td>\n",
       "      <td>0</td>\n",
       "      <td>0</td>\n",
       "      <td>0</td>\n",
       "      <td>5</td>\n",
       "    </tr>\n",
       "    <tr>\n",
       "      <th>2</th>\n",
       "      <td>31</td>\n",
       "      <td>68.890</td>\n",
       "      <td>3</td>\n",
       "      <td>3</td>\n",
       "      <td>7</td>\n",
       "      <td>8</td>\n",
       "      <td>0</td>\n",
       "      <td>0</td>\n",
       "      <td>0</td>\n",
       "      <td>0</td>\n",
       "      <td>0</td>\n",
       "      <td>0</td>\n",
       "      <td>1</td>\n",
       "      <td>6</td>\n",
       "    </tr>\n",
       "    <tr>\n",
       "      <th>3</th>\n",
       "      <td>3</td>\n",
       "      <td>16.492</td>\n",
       "      <td>15</td>\n",
       "      <td>10</td>\n",
       "      <td>7</td>\n",
       "      <td>4</td>\n",
       "      <td>1</td>\n",
       "      <td>1</td>\n",
       "      <td>1</td>\n",
       "      <td>0</td>\n",
       "      <td>0</td>\n",
       "      <td>0</td>\n",
       "      <td>1</td>\n",
       "      <td>1</td>\n",
       "    </tr>\n",
       "  </tbody>\n",
       "</table>\n",
       "</div>"
      ],
      "text/plain": [
       "   City  Location_Score  Internal_Audit_Score  External_Audit_Score  \\\n",
       "0    41          18.272                    13                    12   \n",
       "1    17          64.799                     6                    10   \n",
       "2    31          68.890                     3                     3   \n",
       "3     3          16.492                    15                    10   \n",
       "\n",
       "   Fin_Score  Loss_score  Past_Results  IAS  EAS  FS  LS  PR  CT  Loc  \n",
       "0          9           7             0    1    1   1   0   0   1    1  \n",
       "1          7           4             1    0    1   0   0   0   0    5  \n",
       "2          7           8             0    0    0   0   0   0   1    6  \n",
       "3          7           4             1    1    1   0   0   0   1    1  "
      ]
     },
     "execution_count": 147,
     "metadata": {},
     "output_type": "execute_result"
    }
   ],
   "source": [
    "test.head(4)"
   ]
  },
  {
   "cell_type": "code",
   "execution_count": 145,
   "metadata": {},
   "outputs": [],
   "source": [
    "test[\"CT\"].fillna(test[\"CT\"].mode()[0],inplace=True)"
   ]
  },
  {
   "cell_type": "code",
   "execution_count": 146,
   "metadata": {},
   "outputs": [],
   "source": [
    "test[\"CT\"]=test.CT.astype(int)"
   ]
  },
  {
   "cell_type": "code",
   "execution_count": 90,
   "metadata": {},
   "outputs": [],
   "source": [
    "train.drop([\"Internal_Audit_Score\",\"External_Audit_Score\",\"Fin_Score\",\"Loss_score\",\"Past_Results\",\"City\",\"Location_Score\"],axis=1,inplace=True)\n",
    "test.drop([\"Internal_Audit_Score\",\"External_Audit_Score\",\"Fin_Score\",\"Loss_score\",\"Past_Results\",\"City\",\"Location_Score\"],axis=1,inplace=True)"
   ]
  },
  {
   "cell_type": "code",
   "execution_count": 410,
   "metadata": {},
   "outputs": [],
   "source": [
    "train[\"Location_Score\"]=np.log(train[\"Location_Score\"])\n",
    "test[\"Location_Score\"]=np.log(test[\"Location_Score\"])"
   ]
  },
  {
   "cell_type": "code",
   "execution_count": null,
   "metadata": {},
   "outputs": [],
   "source": []
  },
  {
   "cell_type": "code",
   "execution_count": null,
   "metadata": {},
   "outputs": [],
   "source": [
    "# Lets divide dataset into dependent and independent columns"
   ]
  },
  {
   "cell_type": "code",
   "execution_count": 148,
   "metadata": {},
   "outputs": [],
   "source": [
    "y=train[\"IsUnderRisk\"]\n",
    "x=train.drop(\"IsUnderRisk\",axis=1)"
   ]
  },
  {
   "cell_type": "code",
   "execution_count": 164,
   "metadata": {},
   "outputs": [],
   "source": [
    "sc=MinMaxScaler()\n",
    "x1=sc.fit_transform(x)\n",
    "x1=pd.DataFrame(x1)"
   ]
  },
  {
   "cell_type": "code",
   "execution_count": 165,
   "metadata": {},
   "outputs": [],
   "source": [
    "sc=MinMaxScaler()\n",
    "test1=sc.fit_transform(test)\n",
    "test1=pd.DataFrame(test1)"
   ]
  },
  {
   "cell_type": "code",
   "execution_count": null,
   "metadata": {},
   "outputs": [],
   "source": [
    "# Lets check the feature importance"
   ]
  },
  {
   "cell_type": "code",
   "execution_count": 181,
   "metadata": {},
   "outputs": [
    {
     "name": "stderr",
     "output_type": "stream",
     "text": [
      "c:\\users\\acer\\appdata\\local\\programs\\python\\python36\\lib\\site-packages\\sklearn\\ensemble\\forest.py:245: FutureWarning: The default value of n_estimators will change from 10 in version 0.20 to 100 in 0.22.\n",
      "  \"10 in version 0.20 to 100 in 0.22.\", FutureWarning)\n"
     ]
    },
    {
     "name": "stdout",
     "output_type": "stream",
     "text": [
      "[0.07479132 0.10667196 0.15779613 0.07237079 0.07934245 0.05569019\n",
      " 0.03008374 0.01540545 0.16946281 0.09458638 0.05687282 0.00904137\n",
      " 0.00188051 0.07600408]\n"
     ]
    },
    {
     "data": {
      "image/png": "[encoded data removed]",
      "text/plain": [
       "<Figure size 864x360 with 1 Axes>"
      ]
     },
     "metadata": {},
     "output_type": "display_data"
    }
   ],
   "source": [
    "fig=plt.figure(figsize=(12,5))\n",
    "model = ExtraTreesClassifier()\n",
    "model.fit(x,y)\n",
    "print(model.feature_importances_)\n",
    "#plot graph of feature importances for better visualization\n",
    "feat_importances = pd.Series(model.feature_importances_, index=x.columns)\n",
    "feat_importances.nlargest(15).plot(kind='bar')\n",
    "plt.show()"
   ]
  },
  {
   "cell_type": "code",
   "execution_count": 197,
   "metadata": {},
   "outputs": [],
   "source": [
    "x2=x.drop([\"CT\",\"LS\",\"PR\",\"Past_Results\"],axis=1)"
   ]
  },
  {
   "cell_type": "code",
   "execution_count": 330,
   "metadata": {},
   "outputs": [],
   "source": [
    "test2=test.drop([\"CT\",\"LS\",\"PR\",\"Past_Results\"],axis=1)"
   ]
  },
  {
   "cell_type": "code",
   "execution_count": null,
   "metadata": {},
   "outputs": [],
   "source": [
    "# splitting the dataset using train test split"
   ]
  },
  {
   "cell_type": "code",
   "execution_count": 349,
   "metadata": {},
   "outputs": [],
   "source": [
    "x_train,x_test,y_train,y_test=train_test_split(x2,y,test_size=0.3,random_state=3)"
   ]
  },
  {
   "cell_type": "code",
   "execution_count": null,
   "metadata": {},
   "outputs": [],
   "source": [
    "# Printing the shape of splitted dataset"
   ]
  },
  {
   "cell_type": "code",
   "execution_count": 303,
   "metadata": {},
   "outputs": [
    {
     "name": "stdout",
     "output_type": "stream",
     "text": [
      "shape of x_train: (380, 12)\n",
      "shape of y_train: (380,)\n",
      "shape of x_test: (163, 12)\n",
      "shape of y_test: (163,)\n"
     ]
    }
   ],
   "source": [
    "print(\"shape of x_train:\",x_train.shape)\n",
    "print(\"shape of y_train:\",y_train.shape)\n",
    "print(\"shape of x_test:\",x_test.shape)\n",
    "print(\"shape of y_test:\",y_test.shape)"
   ]
  },
  {
   "cell_type": "code",
   "execution_count": null,
   "metadata": {},
   "outputs": [],
   "source": [
    "# Applying machine learning algorithm on train dataset 3.390314244883443"
   ]
  },
  {
   "cell_type": "code",
   "execution_count": 350,
   "metadata": {},
   "outputs": [
    {
     "name": "stdout",
     "output_type": "stream",
     "text": [
      "Log-Loss: 4.8736334469296825\n"
     ]
    },
    {
     "name": "stderr",
     "output_type": "stream",
     "text": [
      "c:\\users\\acer\\appdata\\local\\programs\\python\\python36\\lib\\site-packages\\sklearn\\ensemble\\forest.py:245: FutureWarning: The default value of n_estimators will change from 10 in version 0.20 to 100 in 0.22.\n",
      "  \"10 in version 0.20 to 100 in 0.22.\", FutureWarning)\n"
     ]
    }
   ],
   "source": [
    "etc=ExtraTreesClassifier()\n",
    "etc.fit(x_train,y_train)\n",
    "prediction=etc.predict(x_test)\n",
    "print(\"Log-Loss:\",log_loss(y_test, prediction))"
   ]
  },
  {
   "cell_type": "code",
   "execution_count": 351,
   "metadata": {},
   "outputs": [
    {
     "name": "stdout",
     "output_type": "stream",
     "text": [
      "Log-Loss: 7.840217890459389\n"
     ]
    }
   ],
   "source": [
    "mn=MultinomialNB()\n",
    "mn.fit(x_train,y_train)\n",
    "prediction=mn.predict(x_test)\n",
    "print(\"Log-Loss:\",log_loss(y_test, prediction))"
   ]
  },
  {
   "cell_type": "code",
   "execution_count": 352,
   "metadata": {},
   "outputs": [
    {
     "name": "stdout",
     "output_type": "stream",
     "text": [
      "Log-Loss: 7.628318651242573\n"
     ]
    }
   ],
   "source": [
    "cnb=ComplementNB()\n",
    "cnb.fit(x_train,y_train)\n",
    "prediction=cnb.predict(x_test)\n",
    "print(\"Log-Loss:\",log_loss(y_test, prediction))"
   ]
  },
  {
   "cell_type": "code",
   "execution_count": 353,
   "metadata": {},
   "outputs": [
    {
     "name": "stdout",
     "output_type": "stream",
     "text": [
      "Log-Loss: 3.3903093393777364\n"
     ]
    }
   ],
   "source": [
    "bnb=BernoulliNB()\n",
    "bnb.fit(x_train,y_train)\n",
    "prediction=bnb.predict(x_test)\n",
    "print(\"Log-Loss:\",log_loss(y_test, prediction))"
   ]
  },
  {
   "cell_type": "code",
   "execution_count": 354,
   "metadata": {},
   "outputs": [
    {
     "name": "stdout",
     "output_type": "stream",
     "text": [
      "Log-Loss: 3.602252728145912\n"
     ]
    },
    {
     "name": "stderr",
     "output_type": "stream",
     "text": [
      "c:\\users\\acer\\appdata\\local\\programs\\python\\python36\\lib\\site-packages\\sklearn\\linear_model\\logistic.py:432: FutureWarning: Default solver will be changed to 'lbfgs' in 0.22. Specify a solver to silence this warning.\n",
      "  FutureWarning)\n"
     ]
    }
   ],
   "source": [
    "lr=LogisticRegression()\n",
    "lr.fit(x_train,y_train)\n",
    "prediction=lr.predict(x_test)\n",
    "print(\"Log-Loss:\",log_loss(y_test, prediction))"
   ]
  },
  {
   "cell_type": "code",
   "execution_count": 355,
   "metadata": {},
   "outputs": [
    {
     "name": "stdout",
     "output_type": "stream",
     "text": [
      "Log-Loss: 10.38304309960112\n"
     ]
    },
    {
     "name": "stderr",
     "output_type": "stream",
     "text": [
      "c:\\users\\acer\\appdata\\local\\programs\\python\\python36\\lib\\site-packages\\sklearn\\svm\\base.py:193: FutureWarning: The default value of gamma will change from 'auto' to 'scale' in version 0.22 to account better for unscaled features. Set gamma explicitly to 'auto' or 'scale' to avoid this warning.\n",
      "  \"avoid this warning.\", FutureWarning)\n"
     ]
    }
   ],
   "source": [
    "svc=SVC()\n",
    "svc.fit(x_train,y_train)\n",
    "prediction=svc.predict(x_test)\n",
    "print(\"Log-Loss:\",log_loss(y_test, prediction))"
   ]
  },
  {
   "cell_type": "code",
   "execution_count": 356,
   "metadata": {},
   "outputs": [
    {
     "name": "stdout",
     "output_type": "stream",
     "text": [
      "Log-Loss: 3.3903093393777364\n"
     ]
    }
   ],
   "source": [
    "nb=GaussianNB()\n",
    "nb.fit(x_train,y_train)\n",
    "prediction=nb.predict(x_test)\n",
    "print(\"Log-Loss:\",log_loss(y_test, prediction))"
   ]
  },
  {
   "cell_type": "code",
   "execution_count": null,
   "metadata": {},
   "outputs": [],
   "source": []
  },
  {
   "cell_type": "code",
   "execution_count": null,
   "metadata": {},
   "outputs": [],
   "source": []
  },
  {
   "cell_type": "code",
   "execution_count": 357,
   "metadata": {},
   "outputs": [
    {
     "name": "stdout",
     "output_type": "stream",
     "text": [
      "Log-Loss: 4.449849685013173\n"
     ]
    }
   ],
   "source": [
    "bc=BaggingClassifier()\n",
    "bc.fit(x_train,y_train)\n",
    "prediction=bc.predict(x_test)\n",
    "print(\"Log-Loss:\",log_loss(y_test, prediction))"
   ]
  },
  {
   "cell_type": "code",
   "execution_count": null,
   "metadata": {},
   "outputs": [],
   "source": []
  },
  {
   "cell_type": "code",
   "execution_count": 358,
   "metadata": {},
   "outputs": [
    {
     "name": "stdout",
     "output_type": "stream",
     "text": [
      "Log-Loss: 4.026056112085249\n"
     ]
    }
   ],
   "source": [
    "rf=RandomForestClassifier(n_estimators = 500, min_samples_leaf = 2, max_features = 10, max_depth = 6, criterion= 'entropy',random_state=108)\n",
    "rf.fit(x_train,y_train)\n",
    "prediction=rf.predict(x_test)\n",
    "print(\"Log-Loss:\",log_loss(y_test, prediction))"
   ]
  },
  {
   "cell_type": "code",
   "execution_count": null,
   "metadata": {},
   "outputs": [],
   "source": []
  },
  {
   "cell_type": "code",
   "execution_count": 359,
   "metadata": {},
   "outputs": [
    {
     "name": "stdout",
     "output_type": "stream",
     "text": [
      "Log-Loss: 6.78072659988102\n"
     ]
    }
   ],
   "source": [
    "dt=DecisionTreeClassifier(criterion=\"entropy\")\n",
    "dt.fit(x_train,y_train)\n",
    "prediction=dt.predict(x_test)\n",
    "print(\"Log-Loss:\",log_loss(y_test, prediction))"
   ]
  },
  {
   "cell_type": "code",
   "execution_count": null,
   "metadata": {},
   "outputs": [],
   "source": []
  },
  {
   "cell_type": "code",
   "execution_count": 360,
   "metadata": {},
   "outputs": [
    {
     "name": "stdout",
     "output_type": "stream",
     "text": [
      "Log-Loss: 3.390358394434803\n"
     ]
    }
   ],
   "source": [
    "xgb=XGBClassifier(max_depth=30,learning_rate=0.01,colsample_bytree=.9,reg_alpha=3.2, reg_lambda=3.5,n_estimators=3000,gamma=1,n_jobs=-1)\n",
    "prediction= xgb.fit(x_train,y_train).predict(x_test)\n",
    "print(\"Log-Loss:\",log_loss(y_test, prediction))"
   ]
  },
  {
   "cell_type": "code",
   "execution_count": 364,
   "metadata": {},
   "outputs": [
    {
     "ename": "ModuleNotFoundError",
     "evalue": "No module named 'lgb'",
     "output_type": "error",
     "traceback": [
      "\u001b[1;31m---------------------------------------------------------------------------\u001b[0m",
      "\u001b[1;31mModuleNotFoundError\u001b[0m                       Traceback (most recent call last)",
      "\u001b[1;32m<ipython-input-364-2048830825c2>\u001b[0m in \u001b[0;36m<module>\u001b[1;34m\u001b[0m\n\u001b[0;32m      1\u001b[0m \u001b[1;32mimport\u001b[0m \u001b[0mlightgbm\u001b[0m \u001b[1;32mas\u001b[0m \u001b[0mlgb\u001b[0m\u001b[1;33m\u001b[0m\u001b[0m\n\u001b[1;32m----> 2\u001b[1;33m \u001b[1;32mfrom\u001b[0m \u001b[0mlgb\u001b[0m \u001b[1;32mimport\u001b[0m \u001b[0mLGBMClassifier\u001b[0m\u001b[1;33m\u001b[0m\u001b[0m\n\u001b[0m",
      "\u001b[1;31mModuleNotFoundError\u001b[0m: No module named 'lgb'"
     ]
    }
   ],
   "source": [
    "import lightgbm as "
   ]
  },
  {
   "cell_type": "code",
   "execution_count": null,
   "metadata": {},
   "outputs": [],
   "source": []
  },
  {
   "cell_type": "code",
   "execution_count": 38,
   "metadata": {},
   "outputs": [],
   "source": [
    "import catboost as cb"
   ]
  },
  {
   "cell_type": "code",
   "execution_count": 366,
   "metadata": {},
   "outputs": [
    {
     "name": "stdout",
     "output_type": "stream",
     "text": [
      "Log-Loss: 3.39036329994051\n"
     ]
    }
   ],
   "source": [
    "cat_rg1 = cb.CatBoostClassifier(iterations=2000,learning_rate=0.015, verbose=0)\n",
    "cat_rg1.fit(x_train,y_train)\n",
    "prediction=cat_rg1.predict(x_test)\n",
    "print(\"Log-Loss:\",log_loss(y_test, prediction))"
   ]
  },
  {
   "cell_type": "code",
   "execution_count": 344,
   "metadata": {},
   "outputs": [
    {
     "name": "stdout",
     "output_type": "stream",
     "text": [
      "Log-Loss: 6.020535327506086\n"
     ]
    }
   ],
   "source": [
    "sgd=SGDClassifier()\n",
    "sgd.fit(x_train,y_train)\n",
    "prediction=sgd.predict(x_test)\n",
    "print(\"Log-Loss:\",log_loss(y_test, prediction))"
   ]
  },
  {
   "cell_type": "code",
   "execution_count": 345,
   "metadata": {},
   "outputs": [
    {
     "name": "stdout",
     "output_type": "stream",
     "text": [
      "Log-Loss: 6.654325694220148\n"
     ]
    }
   ],
   "source": [
    "knn=KNeighborsClassifier()\n",
    "knn.fit(x_train,y_train)\n",
    "prediction=knn.predict(x_test)\n",
    "print(\"Log-Loss:\",log_loss(y_test, prediction))"
   ]
  },
  {
   "cell_type": "code",
   "execution_count": null,
   "metadata": {},
   "outputs": [],
   "source": []
  },
  {
   "cell_type": "code",
   "execution_count": null,
   "metadata": {},
   "outputs": [],
   "source": []
  },
  {
   "cell_type": "code",
   "execution_count": null,
   "metadata": {},
   "outputs": [],
   "source": [
    "# Applying best model"
   ]
  },
  {
   "cell_type": "code",
   "execution_count": 243,
   "metadata": {},
   "outputs": [
    {
     "name": "stdout",
     "output_type": "stream",
     "text": [
      "Learning rate set to 0.007938\n",
      "0:\tlearn: 0.6850010\ttotal: 4.02ms\tremaining: 4.01s\n",
      "1:\tlearn: 0.6777222\ttotal: 6.8ms\tremaining: 3.39s\n",
      "2:\tlearn: 0.6691560\ttotal: 9.17ms\tremaining: 3.05s\n",
      "3:\tlearn: 0.6616835\ttotal: 11.8ms\tremaining: 2.93s\n",
      "4:\tlearn: 0.6540488\ttotal: 14.6ms\tremaining: 2.9s\n",
      "5:\tlearn: 0.6471913\ttotal: 17.3ms\tremaining: 2.87s\n",
      "6:\tlearn: 0.6402632\ttotal: 20.4ms\tremaining: 2.89s\n",
      "7:\tlearn: 0.6338921\ttotal: 23.3ms\tremaining: 2.89s\n",
      "8:\tlearn: 0.6269483\ttotal: 27.2ms\tremaining: 3s\n",
      "9:\tlearn: 0.6206706\ttotal: 30.2ms\tremaining: 2.99s\n",
      "10:\tlearn: 0.6140705\ttotal: 33.3ms\tremaining: 2.99s\n",
      "11:\tlearn: 0.6077813\ttotal: 36.8ms\tremaining: 3.03s\n",
      "12:\tlearn: 0.6014698\ttotal: 39.5ms\tremaining: 3s\n",
      "13:\tlearn: 0.5947280\ttotal: 43.3ms\tremaining: 3.05s\n",
      "14:\tlearn: 0.5886852\ttotal: 46.5ms\tremaining: 3.05s\n",
      "15:\tlearn: 0.5819960\ttotal: 50ms\tremaining: 3.07s\n",
      "16:\tlearn: 0.5756062\ttotal: 52.5ms\tremaining: 3.04s\n",
      "17:\tlearn: 0.5698931\ttotal: 56.5ms\tremaining: 3.08s\n",
      "18:\tlearn: 0.5643024\ttotal: 60.1ms\tremaining: 3.1s\n",
      "19:\tlearn: 0.5593014\ttotal: 63.6ms\tremaining: 3.11s\n",
      "20:\tlearn: 0.5539907\ttotal: 67ms\tremaining: 3.13s\n",
      "21:\tlearn: 0.5488243\ttotal: 70.6ms\tremaining: 3.14s\n",
      "22:\tlearn: 0.5435424\ttotal: 73.9ms\tremaining: 3.14s\n",
      "23:\tlearn: 0.5382322\ttotal: 77.4ms\tremaining: 3.15s\n",
      "24:\tlearn: 0.5332282\ttotal: 80.9ms\tremaining: 3.15s\n",
      "25:\tlearn: 0.5293683\ttotal: 84.4ms\tremaining: 3.16s\n",
      "26:\tlearn: 0.5243504\ttotal: 87.8ms\tremaining: 3.16s\n",
      "27:\tlearn: 0.5199790\ttotal: 91.2ms\tremaining: 3.17s\n",
      "28:\tlearn: 0.5151802\ttotal: 94.6ms\tremaining: 3.17s\n",
      "29:\tlearn: 0.5106482\ttotal: 98ms\tremaining: 3.17s\n",
      "30:\tlearn: 0.5067945\ttotal: 101ms\tremaining: 3.17s\n",
      "31:\tlearn: 0.5025085\ttotal: 105ms\tremaining: 3.17s\n",
      "32:\tlearn: 0.4986068\ttotal: 108ms\tremaining: 3.17s\n",
      "33:\tlearn: 0.4945382\ttotal: 112ms\tremaining: 3.17s\n",
      "34:\tlearn: 0.4909957\ttotal: 115ms\tremaining: 3.17s\n",
      "35:\tlearn: 0.4868361\ttotal: 119ms\tremaining: 3.18s\n",
      "36:\tlearn: 0.4829070\ttotal: 122ms\tremaining: 3.18s\n",
      "37:\tlearn: 0.4796103\ttotal: 126ms\tremaining: 3.18s\n",
      "38:\tlearn: 0.4756540\ttotal: 130ms\tremaining: 3.21s\n",
      "39:\tlearn: 0.4720628\ttotal: 134ms\tremaining: 3.21s\n",
      "40:\tlearn: 0.4685669\ttotal: 138ms\tremaining: 3.22s\n",
      "41:\tlearn: 0.4652647\ttotal: 141ms\tremaining: 3.22s\n",
      "42:\tlearn: 0.4615919\ttotal: 145ms\tremaining: 3.22s\n",
      "43:\tlearn: 0.4583713\ttotal: 148ms\tremaining: 3.22s\n",
      "44:\tlearn: 0.4554075\ttotal: 151ms\tremaining: 3.21s\n",
      "45:\tlearn: 0.4522493\ttotal: 155ms\tremaining: 3.21s\n",
      "46:\tlearn: 0.4494124\ttotal: 158ms\tremaining: 3.21s\n",
      "47:\tlearn: 0.4465005\ttotal: 163ms\tremaining: 3.23s\n",
      "48:\tlearn: 0.4440970\ttotal: 167ms\tremaining: 3.23s\n",
      "49:\tlearn: 0.4413535\ttotal: 170ms\tremaining: 3.23s\n",
      "50:\tlearn: 0.4382457\ttotal: 173ms\tremaining: 3.22s\n",
      "51:\tlearn: 0.4357068\ttotal: 177ms\tremaining: 3.22s\n",
      "52:\tlearn: 0.4328559\ttotal: 180ms\tremaining: 3.22s\n",
      "53:\tlearn: 0.4300443\ttotal: 185ms\tremaining: 3.25s\n",
      "54:\tlearn: 0.4276435\ttotal: 189ms\tremaining: 3.25s\n",
      "55:\tlearn: 0.4248110\ttotal: 193ms\tremaining: 3.25s\n",
      "56:\tlearn: 0.4220982\ttotal: 196ms\tremaining: 3.24s\n",
      "57:\tlearn: 0.4193162\ttotal: 199ms\tremaining: 3.24s\n",
      "58:\tlearn: 0.4171188\ttotal: 203ms\tremaining: 3.23s\n",
      "59:\tlearn: 0.4147404\ttotal: 206ms\tremaining: 3.23s\n",
      "60:\tlearn: 0.4125406\ttotal: 211ms\tremaining: 3.24s\n",
      "61:\tlearn: 0.4102867\ttotal: 214ms\tremaining: 3.24s\n",
      "62:\tlearn: 0.4082078\ttotal: 218ms\tremaining: 3.24s\n",
      "63:\tlearn: 0.4061156\ttotal: 222ms\tremaining: 3.24s\n",
      "64:\tlearn: 0.4042945\ttotal: 226ms\tremaining: 3.25s\n",
      "65:\tlearn: 0.4019614\ttotal: 230ms\tremaining: 3.26s\n",
      "66:\tlearn: 0.3996469\ttotal: 234ms\tremaining: 3.26s\n",
      "67:\tlearn: 0.3973981\ttotal: 238ms\tremaining: 3.25s\n",
      "68:\tlearn: 0.3958297\ttotal: 241ms\tremaining: 3.25s\n",
      "69:\tlearn: 0.3937854\ttotal: 245ms\tremaining: 3.25s\n",
      "70:\tlearn: 0.3918851\ttotal: 248ms\tremaining: 3.25s\n",
      "71:\tlearn: 0.3902756\ttotal: 252ms\tremaining: 3.25s\n",
      "72:\tlearn: 0.3885928\ttotal: 255ms\tremaining: 3.24s\n",
      "73:\tlearn: 0.3865139\ttotal: 257ms\tremaining: 3.22s\n",
      "74:\tlearn: 0.3849045\ttotal: 261ms\tremaining: 3.21s\n",
      "75:\tlearn: 0.3834977\ttotal: 264ms\tremaining: 3.21s\n",
      "76:\tlearn: 0.3818623\ttotal: 267ms\tremaining: 3.21s\n",
      "77:\tlearn: 0.3802767\ttotal: 271ms\tremaining: 3.2s\n",
      "78:\tlearn: 0.3783966\ttotal: 274ms\tremaining: 3.2s\n",
      "79:\tlearn: 0.3764176\ttotal: 278ms\tremaining: 3.19s\n",
      "80:\tlearn: 0.3751306\ttotal: 281ms\tremaining: 3.19s\n",
      "81:\tlearn: 0.3734867\ttotal: 285ms\tremaining: 3.19s\n",
      "82:\tlearn: 0.3720776\ttotal: 288ms\tremaining: 3.18s\n",
      "83:\tlearn: 0.3704223\ttotal: 290ms\tremaining: 3.17s\n",
      "84:\tlearn: 0.3691008\ttotal: 294ms\tremaining: 3.16s\n",
      "85:\tlearn: 0.3680265\ttotal: 297ms\tremaining: 3.16s\n",
      "86:\tlearn: 0.3664714\ttotal: 301ms\tremaining: 3.15s\n",
      "87:\tlearn: 0.3648777\ttotal: 304ms\tremaining: 3.15s\n",
      "88:\tlearn: 0.3632494\ttotal: 308ms\tremaining: 3.15s\n",
      "89:\tlearn: 0.3617157\ttotal: 310ms\tremaining: 3.14s\n",
      "90:\tlearn: 0.3602621\ttotal: 314ms\tremaining: 3.13s\n",
      "91:\tlearn: 0.3590080\ttotal: 317ms\tremaining: 3.13s\n",
      "92:\tlearn: 0.3576552\ttotal: 321ms\tremaining: 3.13s\n",
      "93:\tlearn: 0.3562696\ttotal: 325ms\tremaining: 3.13s\n",
      "94:\tlearn: 0.3549554\ttotal: 329ms\tremaining: 3.13s\n",
      "95:\tlearn: 0.3539477\ttotal: 332ms\tremaining: 3.13s\n",
      "96:\tlearn: 0.3527113\ttotal: 336ms\tremaining: 3.12s\n",
      "97:\tlearn: 0.3517027\ttotal: 339ms\tremaining: 3.12s\n",
      "98:\tlearn: 0.3505984\ttotal: 343ms\tremaining: 3.12s\n",
      "99:\tlearn: 0.3492356\ttotal: 346ms\tremaining: 3.12s\n",
      "100:\tlearn: 0.3481246\ttotal: 349ms\tremaining: 3.11s\n",
      "101:\tlearn: 0.3471441\ttotal: 353ms\tremaining: 3.11s\n",
      "102:\tlearn: 0.3463398\ttotal: 357ms\tremaining: 3.11s\n",
      "103:\tlearn: 0.3450118\ttotal: 362ms\tremaining: 3.12s\n",
      "104:\tlearn: 0.3437548\ttotal: 365ms\tremaining: 3.12s\n",
      "105:\tlearn: 0.3428970\ttotal: 369ms\tremaining: 3.11s\n",
      "106:\tlearn: 0.3418985\ttotal: 372ms\tremaining: 3.11s\n",
      "107:\tlearn: 0.3409752\ttotal: 376ms\tremaining: 3.1s\n",
      "108:\tlearn: 0.3397559\ttotal: 380ms\tremaining: 3.1s\n",
      "109:\tlearn: 0.3387211\ttotal: 383ms\tremaining: 3.1s\n",
      "110:\tlearn: 0.3377229\ttotal: 388ms\tremaining: 3.1s\n",
      "111:\tlearn: 0.3368023\ttotal: 391ms\tremaining: 3.1s\n",
      "112:\tlearn: 0.3358247\ttotal: 395ms\tremaining: 3.1s\n",
      "113:\tlearn: 0.3347565\ttotal: 399ms\tremaining: 3.1s\n",
      "114:\tlearn: 0.3335096\ttotal: 403ms\tremaining: 3.1s\n",
      "115:\tlearn: 0.3325075\ttotal: 406ms\tremaining: 3.1s\n",
      "116:\tlearn: 0.3314126\ttotal: 410ms\tremaining: 3.09s\n",
      "117:\tlearn: 0.3305015\ttotal: 413ms\tremaining: 3.09s\n",
      "118:\tlearn: 0.3294904\ttotal: 417ms\tremaining: 3.09s\n",
      "119:\tlearn: 0.3285404\ttotal: 421ms\tremaining: 3.08s\n",
      "120:\tlearn: 0.3274401\ttotal: 425ms\tremaining: 3.08s\n",
      "121:\tlearn: 0.3265078\ttotal: 427ms\tremaining: 3.08s\n",
      "122:\tlearn: 0.3254623\ttotal: 431ms\tremaining: 3.07s\n",
      "123:\tlearn: 0.3246762\ttotal: 435ms\tremaining: 3.07s\n",
      "124:\tlearn: 0.3236995\ttotal: 437ms\tremaining: 3.06s\n",
      "125:\tlearn: 0.3230684\ttotal: 441ms\tremaining: 3.06s\n",
      "126:\tlearn: 0.3223590\ttotal: 444ms\tremaining: 3.05s\n",
      "127:\tlearn: 0.3215184\ttotal: 447ms\tremaining: 3.05s\n",
      "128:\tlearn: 0.3207451\ttotal: 451ms\tremaining: 3.05s\n",
      "129:\tlearn: 0.3201144\ttotal: 455ms\tremaining: 3.04s\n",
      "130:\tlearn: 0.3194150\ttotal: 458ms\tremaining: 3.04s\n",
      "131:\tlearn: 0.3185976\ttotal: 462ms\tremaining: 3.04s\n",
      "132:\tlearn: 0.3177320\ttotal: 464ms\tremaining: 3.03s\n",
      "133:\tlearn: 0.3168969\ttotal: 468ms\tremaining: 3.02s\n",
      "134:\tlearn: 0.3160202\ttotal: 471ms\tremaining: 3.02s\n",
      "135:\tlearn: 0.3152605\ttotal: 475ms\tremaining: 3.01s\n",
      "136:\tlearn: 0.3145026\ttotal: 478ms\tremaining: 3.01s\n",
      "137:\tlearn: 0.3137025\ttotal: 481ms\tremaining: 3.01s\n",
      "138:\tlearn: 0.3128583\ttotal: 485ms\tremaining: 3s\n",
      "139:\tlearn: 0.3119620\ttotal: 488ms\tremaining: 3s\n",
      "140:\tlearn: 0.3109437\ttotal: 492ms\tremaining: 3s\n",
      "141:\tlearn: 0.3103646\ttotal: 496ms\tremaining: 3s\n",
      "142:\tlearn: 0.3095938\ttotal: 500ms\tremaining: 3s\n",
      "143:\tlearn: 0.3090832\ttotal: 503ms\tremaining: 2.99s\n",
      "144:\tlearn: 0.3082555\ttotal: 507ms\tremaining: 2.99s\n",
      "145:\tlearn: 0.3074570\ttotal: 510ms\tremaining: 2.98s\n",
      "146:\tlearn: 0.3069470\ttotal: 514ms\tremaining: 2.98s\n",
      "147:\tlearn: 0.3063215\ttotal: 517ms\tremaining: 2.98s\n",
      "148:\tlearn: 0.3058009\ttotal: 520ms\tremaining: 2.97s\n",
      "149:\tlearn: 0.3046903\ttotal: 524ms\tremaining: 2.97s\n",
      "150:\tlearn: 0.3041309\ttotal: 527ms\tremaining: 2.96s\n",
      "151:\tlearn: 0.3035744\ttotal: 531ms\tremaining: 2.96s\n",
      "152:\tlearn: 0.3029489\ttotal: 535ms\tremaining: 2.96s\n",
      "153:\tlearn: 0.3022284\ttotal: 538ms\tremaining: 2.96s\n",
      "154:\tlearn: 0.3017231\ttotal: 542ms\tremaining: 2.95s\n",
      "155:\tlearn: 0.3012295\ttotal: 545ms\tremaining: 2.95s\n",
      "156:\tlearn: 0.3007170\ttotal: 548ms\tremaining: 2.94s\n",
      "157:\tlearn: 0.3001354\ttotal: 552ms\tremaining: 2.94s\n",
      "158:\tlearn: 0.2993650\ttotal: 556ms\tremaining: 2.94s\n",
      "159:\tlearn: 0.2988887\ttotal: 559ms\tremaining: 2.93s\n",
      "160:\tlearn: 0.2984059\ttotal: 563ms\tremaining: 2.93s\n",
      "161:\tlearn: 0.2977962\ttotal: 568ms\tremaining: 2.94s\n",
      "162:\tlearn: 0.2970521\ttotal: 571ms\tremaining: 2.93s\n",
      "163:\tlearn: 0.2963975\ttotal: 575ms\tremaining: 2.93s\n",
      "164:\tlearn: 0.2957766\ttotal: 579ms\tremaining: 2.93s\n",
      "165:\tlearn: 0.2953502\ttotal: 583ms\tremaining: 2.93s\n",
      "166:\tlearn: 0.2948614\ttotal: 588ms\tremaining: 2.93s\n",
      "167:\tlearn: 0.2941976\ttotal: 592ms\tremaining: 2.93s\n",
      "168:\tlearn: 0.2934897\ttotal: 596ms\tremaining: 2.93s\n",
      "169:\tlearn: 0.2926852\ttotal: 600ms\tremaining: 2.93s\n",
      "170:\tlearn: 0.2921647\ttotal: 604ms\tremaining: 2.93s\n",
      "171:\tlearn: 0.2916980\ttotal: 608ms\tremaining: 2.93s\n",
      "172:\tlearn: 0.2909170\ttotal: 611ms\tremaining: 2.92s\n",
      "173:\tlearn: 0.2906473\ttotal: 615ms\tremaining: 2.92s\n",
      "174:\tlearn: 0.2902415\ttotal: 619ms\tremaining: 2.92s\n",
      "175:\tlearn: 0.2896706\ttotal: 622ms\tremaining: 2.91s\n",
      "176:\tlearn: 0.2891040\ttotal: 626ms\tremaining: 2.91s\n",
      "177:\tlearn: 0.2882722\ttotal: 630ms\tremaining: 2.91s\n",
      "178:\tlearn: 0.2875827\ttotal: 633ms\tremaining: 2.9s\n",
      "179:\tlearn: 0.2873130\ttotal: 636ms\tremaining: 2.9s\n",
      "180:\tlearn: 0.2868220\ttotal: 640ms\tremaining: 2.9s\n",
      "181:\tlearn: 0.2864347\ttotal: 644ms\tremaining: 2.9s\n",
      "182:\tlearn: 0.2859472\ttotal: 648ms\tremaining: 2.89s\n",
      "183:\tlearn: 0.2855004\ttotal: 651ms\tremaining: 2.88s\n",
      "184:\tlearn: 0.2848979\ttotal: 654ms\tremaining: 2.88s\n",
      "185:\tlearn: 0.2844408\ttotal: 659ms\tremaining: 2.88s\n"
     ]
    },
    {
     "name": "stdout",
     "output_type": "stream",
     "text": [
      "186:\tlearn: 0.2837723\ttotal: 664ms\tremaining: 2.89s\n",
      "187:\tlearn: 0.2834151\ttotal: 667ms\tremaining: 2.88s\n",
      "188:\tlearn: 0.2828040\ttotal: 671ms\tremaining: 2.88s\n",
      "189:\tlearn: 0.2822588\ttotal: 674ms\tremaining: 2.87s\n",
      "190:\tlearn: 0.2819285\ttotal: 678ms\tremaining: 2.87s\n",
      "191:\tlearn: 0.2815758\ttotal: 681ms\tremaining: 2.87s\n",
      "192:\tlearn: 0.2813739\ttotal: 685ms\tremaining: 2.86s\n",
      "193:\tlearn: 0.2810314\ttotal: 689ms\tremaining: 2.86s\n",
      "194:\tlearn: 0.2806705\ttotal: 692ms\tremaining: 2.86s\n",
      "195:\tlearn: 0.2802874\ttotal: 695ms\tremaining: 2.85s\n",
      "196:\tlearn: 0.2795227\ttotal: 699ms\tremaining: 2.85s\n",
      "197:\tlearn: 0.2789922\ttotal: 703ms\tremaining: 2.85s\n",
      "198:\tlearn: 0.2786634\ttotal: 707ms\tremaining: 2.85s\n",
      "199:\tlearn: 0.2780598\ttotal: 710ms\tremaining: 2.84s\n",
      "200:\tlearn: 0.2776618\ttotal: 714ms\tremaining: 2.84s\n",
      "201:\tlearn: 0.2772728\ttotal: 718ms\tremaining: 2.83s\n",
      "202:\tlearn: 0.2767062\ttotal: 722ms\tremaining: 2.83s\n",
      "203:\tlearn: 0.2763041\ttotal: 726ms\tremaining: 2.83s\n",
      "204:\tlearn: 0.2756705\ttotal: 730ms\tremaining: 2.83s\n",
      "205:\tlearn: 0.2752156\ttotal: 734ms\tremaining: 2.83s\n",
      "206:\tlearn: 0.2748794\ttotal: 737ms\tremaining: 2.82s\n",
      "207:\tlearn: 0.2745113\ttotal: 742ms\tremaining: 2.83s\n",
      "208:\tlearn: 0.2742171\ttotal: 746ms\tremaining: 2.82s\n",
      "209:\tlearn: 0.2738889\ttotal: 749ms\tremaining: 2.82s\n",
      "210:\tlearn: 0.2733644\ttotal: 753ms\tremaining: 2.81s\n",
      "211:\tlearn: 0.2730485\ttotal: 756ms\tremaining: 2.81s\n",
      "212:\tlearn: 0.2725652\ttotal: 760ms\tremaining: 2.81s\n",
      "213:\tlearn: 0.2722715\ttotal: 763ms\tremaining: 2.8s\n",
      "214:\tlearn: 0.2721138\ttotal: 767ms\tremaining: 2.8s\n",
      "215:\tlearn: 0.2717226\ttotal: 772ms\tremaining: 2.8s\n",
      "216:\tlearn: 0.2712952\ttotal: 776ms\tremaining: 2.8s\n",
      "217:\tlearn: 0.2706017\ttotal: 779ms\tremaining: 2.79s\n",
      "218:\tlearn: 0.2703560\ttotal: 783ms\tremaining: 2.79s\n",
      "219:\tlearn: 0.2699237\ttotal: 787ms\tremaining: 2.79s\n",
      "220:\tlearn: 0.2696892\ttotal: 790ms\tremaining: 2.79s\n",
      "221:\tlearn: 0.2694281\ttotal: 794ms\tremaining: 2.78s\n",
      "222:\tlearn: 0.2690716\ttotal: 797ms\tremaining: 2.78s\n",
      "223:\tlearn: 0.2686006\ttotal: 801ms\tremaining: 2.77s\n",
      "224:\tlearn: 0.2682255\ttotal: 804ms\tremaining: 2.77s\n",
      "225:\tlearn: 0.2679503\ttotal: 809ms\tremaining: 2.77s\n",
      "226:\tlearn: 0.2672799\ttotal: 813ms\tremaining: 2.77s\n",
      "227:\tlearn: 0.2670906\ttotal: 817ms\tremaining: 2.77s\n",
      "228:\tlearn: 0.2668013\ttotal: 821ms\tremaining: 2.76s\n",
      "229:\tlearn: 0.2661200\ttotal: 826ms\tremaining: 2.76s\n",
      "230:\tlearn: 0.2655182\ttotal: 830ms\tremaining: 2.76s\n",
      "231:\tlearn: 0.2649477\ttotal: 834ms\tremaining: 2.76s\n",
      "232:\tlearn: 0.2647708\ttotal: 839ms\tremaining: 2.76s\n",
      "233:\tlearn: 0.2645095\ttotal: 843ms\tremaining: 2.76s\n",
      "234:\tlearn: 0.2640937\ttotal: 847ms\tremaining: 2.76s\n",
      "235:\tlearn: 0.2637912\ttotal: 850ms\tremaining: 2.75s\n",
      "236:\tlearn: 0.2635424\ttotal: 854ms\tremaining: 2.75s\n",
      "237:\tlearn: 0.2630217\ttotal: 859ms\tremaining: 2.75s\n",
      "238:\tlearn: 0.2626936\ttotal: 863ms\tremaining: 2.75s\n",
      "239:\tlearn: 0.2624347\ttotal: 866ms\tremaining: 2.74s\n",
      "240:\tlearn: 0.2619403\ttotal: 870ms\tremaining: 2.74s\n",
      "241:\tlearn: 0.2615863\ttotal: 876ms\tremaining: 2.74s\n",
      "242:\tlearn: 0.2614051\ttotal: 878ms\tremaining: 2.74s\n",
      "243:\tlearn: 0.2610728\ttotal: 881ms\tremaining: 2.73s\n",
      "244:\tlearn: 0.2608099\ttotal: 885ms\tremaining: 2.73s\n",
      "245:\tlearn: 0.2601079\ttotal: 889ms\tremaining: 2.73s\n",
      "246:\tlearn: 0.2594811\ttotal: 893ms\tremaining: 2.72s\n",
      "247:\tlearn: 0.2592154\ttotal: 898ms\tremaining: 2.72s\n",
      "248:\tlearn: 0.2588420\ttotal: 902ms\tremaining: 2.72s\n",
      "249:\tlearn: 0.2584705\ttotal: 907ms\tremaining: 2.72s\n",
      "250:\tlearn: 0.2581485\ttotal: 910ms\tremaining: 2.71s\n",
      "251:\tlearn: 0.2576947\ttotal: 913ms\tremaining: 2.71s\n",
      "252:\tlearn: 0.2574948\ttotal: 917ms\tremaining: 2.71s\n",
      "253:\tlearn: 0.2572055\ttotal: 921ms\tremaining: 2.7s\n",
      "254:\tlearn: 0.2570004\ttotal: 925ms\tremaining: 2.7s\n",
      "255:\tlearn: 0.2567770\ttotal: 929ms\tremaining: 2.7s\n",
      "256:\tlearn: 0.2566093\ttotal: 933ms\tremaining: 2.7s\n",
      "257:\tlearn: 0.2563885\ttotal: 936ms\tremaining: 2.69s\n",
      "258:\tlearn: 0.2560052\ttotal: 939ms\tremaining: 2.69s\n",
      "259:\tlearn: 0.2555893\ttotal: 943ms\tremaining: 2.68s\n",
      "260:\tlearn: 0.2553067\ttotal: 947ms\tremaining: 2.68s\n",
      "261:\tlearn: 0.2551722\ttotal: 951ms\tremaining: 2.68s\n",
      "262:\tlearn: 0.2547159\ttotal: 954ms\tremaining: 2.67s\n",
      "263:\tlearn: 0.2543156\ttotal: 958ms\tremaining: 2.67s\n",
      "264:\tlearn: 0.2538392\ttotal: 961ms\tremaining: 2.67s\n",
      "265:\tlearn: 0.2535530\ttotal: 965ms\tremaining: 2.66s\n",
      "266:\tlearn: 0.2533140\ttotal: 968ms\tremaining: 2.66s\n",
      "267:\tlearn: 0.2530013\ttotal: 971ms\tremaining: 2.65s\n",
      "268:\tlearn: 0.2526942\ttotal: 975ms\tremaining: 2.65s\n",
      "269:\tlearn: 0.2523556\ttotal: 978ms\tremaining: 2.64s\n",
      "270:\tlearn: 0.2518668\ttotal: 982ms\tremaining: 2.64s\n",
      "271:\tlearn: 0.2513898\ttotal: 985ms\tremaining: 2.63s\n",
      "272:\tlearn: 0.2510406\ttotal: 989ms\tremaining: 2.63s\n",
      "273:\tlearn: 0.2504587\ttotal: 993ms\tremaining: 2.63s\n",
      "274:\tlearn: 0.2501981\ttotal: 998ms\tremaining: 2.63s\n",
      "275:\tlearn: 0.2499143\ttotal: 1s\tremaining: 2.63s\n",
      "276:\tlearn: 0.2497283\ttotal: 1s\tremaining: 2.62s\n",
      "277:\tlearn: 0.2492870\ttotal: 1.01s\tremaining: 2.62s\n",
      "278:\tlearn: 0.2489100\ttotal: 1.01s\tremaining: 2.62s\n",
      "279:\tlearn: 0.2484583\ttotal: 1.02s\tremaining: 2.62s\n",
      "280:\tlearn: 0.2480863\ttotal: 1.02s\tremaining: 2.62s\n",
      "281:\tlearn: 0.2478948\ttotal: 1.03s\tremaining: 2.62s\n",
      "282:\tlearn: 0.2475479\ttotal: 1.03s\tremaining: 2.62s\n",
      "283:\tlearn: 0.2470235\ttotal: 1.03s\tremaining: 2.61s\n",
      "284:\tlearn: 0.2466328\ttotal: 1.04s\tremaining: 2.61s\n",
      "285:\tlearn: 0.2463392\ttotal: 1.04s\tremaining: 2.6s\n",
      "286:\tlearn: 0.2460634\ttotal: 1.05s\tremaining: 2.6s\n",
      "287:\tlearn: 0.2456587\ttotal: 1.05s\tremaining: 2.6s\n",
      "288:\tlearn: 0.2454240\ttotal: 1.05s\tremaining: 2.6s\n",
      "289:\tlearn: 0.2451073\ttotal: 1.06s\tremaining: 2.59s\n",
      "290:\tlearn: 0.2447312\ttotal: 1.06s\tremaining: 2.59s\n",
      "291:\tlearn: 0.2443909\ttotal: 1.07s\tremaining: 2.58s\n",
      "292:\tlearn: 0.2440637\ttotal: 1.07s\tremaining: 2.58s\n",
      "293:\tlearn: 0.2436428\ttotal: 1.07s\tremaining: 2.58s\n",
      "294:\tlearn: 0.2434513\ttotal: 1.08s\tremaining: 2.58s\n",
      "295:\tlearn: 0.2432655\ttotal: 1.08s\tremaining: 2.57s\n",
      "296:\tlearn: 0.2429562\ttotal: 1.08s\tremaining: 2.57s\n",
      "297:\tlearn: 0.2425509\ttotal: 1.09s\tremaining: 2.56s\n",
      "298:\tlearn: 0.2424664\ttotal: 1.09s\tremaining: 2.57s\n",
      "299:\tlearn: 0.2421785\ttotal: 1.1s\tremaining: 2.56s\n",
      "300:\tlearn: 0.2420062\ttotal: 1.1s\tremaining: 2.56s\n",
      "301:\tlearn: 0.2416873\ttotal: 1.11s\tremaining: 2.56s\n",
      "302:\tlearn: 0.2414685\ttotal: 1.11s\tremaining: 2.55s\n",
      "303:\tlearn: 0.2410664\ttotal: 1.11s\tremaining: 2.55s\n",
      "304:\tlearn: 0.2406549\ttotal: 1.12s\tremaining: 2.55s\n",
      "305:\tlearn: 0.2404001\ttotal: 1.12s\tremaining: 2.54s\n",
      "306:\tlearn: 0.2401366\ttotal: 1.13s\tremaining: 2.54s\n",
      "307:\tlearn: 0.2400745\ttotal: 1.13s\tremaining: 2.53s\n",
      "308:\tlearn: 0.2397344\ttotal: 1.13s\tremaining: 2.53s\n",
      "309:\tlearn: 0.2394782\ttotal: 1.14s\tremaining: 2.53s\n",
      "310:\tlearn: 0.2394072\ttotal: 1.14s\tremaining: 2.52s\n",
      "311:\tlearn: 0.2391724\ttotal: 1.14s\tremaining: 2.52s\n",
      "312:\tlearn: 0.2389415\ttotal: 1.15s\tremaining: 2.51s\n",
      "313:\tlearn: 0.2386759\ttotal: 1.15s\tremaining: 2.51s\n",
      "314:\tlearn: 0.2383823\ttotal: 1.15s\tremaining: 2.5s\n",
      "315:\tlearn: 0.2382017\ttotal: 1.16s\tremaining: 2.5s\n",
      "316:\tlearn: 0.2380406\ttotal: 1.16s\tremaining: 2.5s\n",
      "317:\tlearn: 0.2376479\ttotal: 1.16s\tremaining: 2.5s\n",
      "318:\tlearn: 0.2374954\ttotal: 1.17s\tremaining: 2.49s\n",
      "319:\tlearn: 0.2371610\ttotal: 1.17s\tremaining: 2.49s\n",
      "320:\tlearn: 0.2369131\ttotal: 1.18s\tremaining: 2.48s\n",
      "321:\tlearn: 0.2367459\ttotal: 1.18s\tremaining: 2.48s\n",
      "322:\tlearn: 0.2364370\ttotal: 1.18s\tremaining: 2.48s\n",
      "323:\tlearn: 0.2361178\ttotal: 1.19s\tremaining: 2.47s\n",
      "324:\tlearn: 0.2358123\ttotal: 1.19s\tremaining: 2.47s\n",
      "325:\tlearn: 0.2357706\ttotal: 1.19s\tremaining: 2.46s\n",
      "326:\tlearn: 0.2355514\ttotal: 1.2s\tremaining: 2.46s\n",
      "327:\tlearn: 0.2353679\ttotal: 1.2s\tremaining: 2.46s\n",
      "328:\tlearn: 0.2350532\ttotal: 1.2s\tremaining: 2.45s\n",
      "329:\tlearn: 0.2346651\ttotal: 1.21s\tremaining: 2.45s\n",
      "330:\tlearn: 0.2343153\ttotal: 1.21s\tremaining: 2.45s\n",
      "331:\tlearn: 0.2338778\ttotal: 1.21s\tremaining: 2.44s\n",
      "332:\tlearn: 0.2338380\ttotal: 1.22s\tremaining: 2.44s\n",
      "333:\tlearn: 0.2336100\ttotal: 1.22s\tremaining: 2.44s\n",
      "334:\tlearn: 0.2333608\ttotal: 1.23s\tremaining: 2.43s\n",
      "335:\tlearn: 0.2327556\ttotal: 1.23s\tremaining: 2.43s\n",
      "336:\tlearn: 0.2325626\ttotal: 1.23s\tremaining: 2.43s\n",
      "337:\tlearn: 0.2323996\ttotal: 1.24s\tremaining: 2.42s\n",
      "338:\tlearn: 0.2321940\ttotal: 1.24s\tremaining: 2.42s\n",
      "339:\tlearn: 0.2318889\ttotal: 1.24s\tremaining: 2.42s\n",
      "340:\tlearn: 0.2317417\ttotal: 1.25s\tremaining: 2.41s\n",
      "341:\tlearn: 0.2315418\ttotal: 1.25s\tremaining: 2.41s\n",
      "342:\tlearn: 0.2309871\ttotal: 1.25s\tremaining: 2.4s\n",
      "343:\tlearn: 0.2306251\ttotal: 1.26s\tremaining: 2.4s\n",
      "344:\tlearn: 0.2304963\ttotal: 1.26s\tremaining: 2.4s\n",
      "345:\tlearn: 0.2303527\ttotal: 1.26s\tremaining: 2.39s\n",
      "346:\tlearn: 0.2302285\ttotal: 1.27s\tremaining: 2.39s\n",
      "347:\tlearn: 0.2299611\ttotal: 1.27s\tremaining: 2.39s\n",
      "348:\tlearn: 0.2296198\ttotal: 1.28s\tremaining: 2.38s\n",
      "349:\tlearn: 0.2293983\ttotal: 1.28s\tremaining: 2.38s\n",
      "350:\tlearn: 0.2292154\ttotal: 1.28s\tremaining: 2.38s\n",
      "351:\tlearn: 0.2290973\ttotal: 1.29s\tremaining: 2.37s\n",
      "352:\tlearn: 0.2289785\ttotal: 1.29s\tremaining: 2.37s\n",
      "353:\tlearn: 0.2286569\ttotal: 1.29s\tremaining: 2.36s\n",
      "354:\tlearn: 0.2284567\ttotal: 1.3s\tremaining: 2.36s\n",
      "355:\tlearn: 0.2283525\ttotal: 1.3s\tremaining: 2.36s\n",
      "356:\tlearn: 0.2282261\ttotal: 1.31s\tremaining: 2.35s\n",
      "357:\tlearn: 0.2280767\ttotal: 1.31s\tremaining: 2.35s\n",
      "358:\tlearn: 0.2279365\ttotal: 1.31s\tremaining: 2.35s\n",
      "359:\tlearn: 0.2278376\ttotal: 1.32s\tremaining: 2.34s\n"
     ]
    },
    {
     "name": "stdout",
     "output_type": "stream",
     "text": [
      "360:\tlearn: 0.2275668\ttotal: 1.32s\tremaining: 2.34s\n",
      "361:\tlearn: 0.2274169\ttotal: 1.33s\tremaining: 2.34s\n",
      "362:\tlearn: 0.2272059\ttotal: 1.33s\tremaining: 2.34s\n",
      "363:\tlearn: 0.2269083\ttotal: 1.33s\tremaining: 2.33s\n",
      "364:\tlearn: 0.2265639\ttotal: 1.34s\tremaining: 2.33s\n",
      "365:\tlearn: 0.2262602\ttotal: 1.34s\tremaining: 2.33s\n",
      "366:\tlearn: 0.2260487\ttotal: 1.35s\tremaining: 2.32s\n",
      "367:\tlearn: 0.2258234\ttotal: 1.35s\tremaining: 2.32s\n",
      "368:\tlearn: 0.2255888\ttotal: 1.35s\tremaining: 2.31s\n",
      "369:\tlearn: 0.2255173\ttotal: 1.36s\tremaining: 2.31s\n",
      "370:\tlearn: 0.2252907\ttotal: 1.36s\tremaining: 2.3s\n",
      "371:\tlearn: 0.2249360\ttotal: 1.36s\tremaining: 2.3s\n",
      "372:\tlearn: 0.2246806\ttotal: 1.37s\tremaining: 2.3s\n",
      "373:\tlearn: 0.2245345\ttotal: 1.37s\tremaining: 2.29s\n",
      "374:\tlearn: 0.2243661\ttotal: 1.38s\tremaining: 2.29s\n",
      "375:\tlearn: 0.2242114\ttotal: 1.38s\tremaining: 2.29s\n",
      "376:\tlearn: 0.2240638\ttotal: 1.38s\tremaining: 2.28s\n",
      "377:\tlearn: 0.2237131\ttotal: 1.39s\tremaining: 2.28s\n",
      "378:\tlearn: 0.2235411\ttotal: 1.39s\tremaining: 2.27s\n",
      "379:\tlearn: 0.2232441\ttotal: 1.39s\tremaining: 2.27s\n",
      "380:\tlearn: 0.2228853\ttotal: 1.4s\tremaining: 2.27s\n",
      "381:\tlearn: 0.2227380\ttotal: 1.4s\tremaining: 2.26s\n",
      "382:\tlearn: 0.2226493\ttotal: 1.4s\tremaining: 2.26s\n",
      "383:\tlearn: 0.2224622\ttotal: 1.41s\tremaining: 2.26s\n",
      "384:\tlearn: 0.2220251\ttotal: 1.41s\tremaining: 2.25s\n",
      "385:\tlearn: 0.2219863\ttotal: 1.41s\tremaining: 2.25s\n",
      "386:\tlearn: 0.2218857\ttotal: 1.42s\tremaining: 2.24s\n",
      "387:\tlearn: 0.2216204\ttotal: 1.42s\tremaining: 2.24s\n",
      "388:\tlearn: 0.2214116\ttotal: 1.42s\tremaining: 2.24s\n",
      "389:\tlearn: 0.2211943\ttotal: 1.43s\tremaining: 2.23s\n",
      "390:\tlearn: 0.2209180\ttotal: 1.43s\tremaining: 2.23s\n",
      "391:\tlearn: 0.2207355\ttotal: 1.43s\tremaining: 2.22s\n",
      "392:\tlearn: 0.2205489\ttotal: 1.44s\tremaining: 2.22s\n",
      "393:\tlearn: 0.2205204\ttotal: 1.44s\tremaining: 2.21s\n",
      "394:\tlearn: 0.2203608\ttotal: 1.44s\tremaining: 2.21s\n",
      "395:\tlearn: 0.2202316\ttotal: 1.45s\tremaining: 2.21s\n",
      "396:\tlearn: 0.2199134\ttotal: 1.45s\tremaining: 2.2s\n",
      "397:\tlearn: 0.2195857\ttotal: 1.45s\tremaining: 2.2s\n",
      "398:\tlearn: 0.2192931\ttotal: 1.46s\tremaining: 2.19s\n",
      "399:\tlearn: 0.2190530\ttotal: 1.46s\tremaining: 2.19s\n",
      "400:\tlearn: 0.2187167\ttotal: 1.46s\tremaining: 2.19s\n",
      "401:\tlearn: 0.2183973\ttotal: 1.47s\tremaining: 2.18s\n",
      "402:\tlearn: 0.2182444\ttotal: 1.47s\tremaining: 2.18s\n",
      "403:\tlearn: 0.2181306\ttotal: 1.47s\tremaining: 2.17s\n",
      "404:\tlearn: 0.2179457\ttotal: 1.48s\tremaining: 2.17s\n",
      "405:\tlearn: 0.2178131\ttotal: 1.48s\tremaining: 2.17s\n",
      "406:\tlearn: 0.2177081\ttotal: 1.49s\tremaining: 2.16s\n",
      "407:\tlearn: 0.2173549\ttotal: 1.49s\tremaining: 2.16s\n",
      "408:\tlearn: 0.2172575\ttotal: 1.49s\tremaining: 2.16s\n",
      "409:\tlearn: 0.2170804\ttotal: 1.5s\tremaining: 2.15s\n",
      "410:\tlearn: 0.2169288\ttotal: 1.5s\tremaining: 2.15s\n",
      "411:\tlearn: 0.2167293\ttotal: 1.5s\tremaining: 2.15s\n",
      "412:\tlearn: 0.2165154\ttotal: 1.51s\tremaining: 2.14s\n",
      "413:\tlearn: 0.2163541\ttotal: 1.51s\tremaining: 2.14s\n",
      "414:\tlearn: 0.2161868\ttotal: 1.51s\tremaining: 2.13s\n",
      "415:\tlearn: 0.2161306\ttotal: 1.52s\tremaining: 2.13s\n",
      "416:\tlearn: 0.2160497\ttotal: 1.52s\tremaining: 2.13s\n",
      "417:\tlearn: 0.2159988\ttotal: 1.52s\tremaining: 2.12s\n",
      "418:\tlearn: 0.2158067\ttotal: 1.53s\tremaining: 2.12s\n",
      "419:\tlearn: 0.2156530\ttotal: 1.53s\tremaining: 2.12s\n",
      "420:\tlearn: 0.2151779\ttotal: 1.54s\tremaining: 2.11s\n",
      "421:\tlearn: 0.2149408\ttotal: 1.54s\tremaining: 2.11s\n",
      "422:\tlearn: 0.2147535\ttotal: 1.55s\tremaining: 2.11s\n",
      "423:\tlearn: 0.2144889\ttotal: 1.55s\tremaining: 2.1s\n",
      "424:\tlearn: 0.2143912\ttotal: 1.55s\tremaining: 2.1s\n",
      "425:\tlearn: 0.2142166\ttotal: 1.56s\tremaining: 2.1s\n",
      "426:\tlearn: 0.2140896\ttotal: 1.56s\tremaining: 2.09s\n",
      "427:\tlearn: 0.2138021\ttotal: 1.56s\tremaining: 2.09s\n",
      "428:\tlearn: 0.2136611\ttotal: 1.57s\tremaining: 2.08s\n",
      "429:\tlearn: 0.2134275\ttotal: 1.57s\tremaining: 2.08s\n",
      "430:\tlearn: 0.2132111\ttotal: 1.57s\tremaining: 2.08s\n",
      "431:\tlearn: 0.2130162\ttotal: 1.58s\tremaining: 2.07s\n",
      "432:\tlearn: 0.2129234\ttotal: 1.58s\tremaining: 2.07s\n",
      "433:\tlearn: 0.2127484\ttotal: 1.58s\tremaining: 2.06s\n",
      "434:\tlearn: 0.2123696\ttotal: 1.59s\tremaining: 2.06s\n",
      "435:\tlearn: 0.2122903\ttotal: 1.59s\tremaining: 2.06s\n",
      "436:\tlearn: 0.2120245\ttotal: 1.59s\tremaining: 2.05s\n",
      "437:\tlearn: 0.2119037\ttotal: 1.6s\tremaining: 2.05s\n",
      "438:\tlearn: 0.2117281\ttotal: 1.6s\tremaining: 2.04s\n",
      "439:\tlearn: 0.2115218\ttotal: 1.6s\tremaining: 2.04s\n",
      "440:\tlearn: 0.2113237\ttotal: 1.61s\tremaining: 2.04s\n",
      "441:\tlearn: 0.2112856\ttotal: 1.61s\tremaining: 2.03s\n",
      "442:\tlearn: 0.2110101\ttotal: 1.61s\tremaining: 2.03s\n",
      "443:\tlearn: 0.2108969\ttotal: 1.62s\tremaining: 2.02s\n",
      "444:\tlearn: 0.2107792\ttotal: 1.62s\tremaining: 2.02s\n",
      "445:\tlearn: 0.2106467\ttotal: 1.62s\tremaining: 2.02s\n",
      "446:\tlearn: 0.2105585\ttotal: 1.63s\tremaining: 2.01s\n",
      "447:\tlearn: 0.2104441\ttotal: 1.63s\tremaining: 2.01s\n",
      "448:\tlearn: 0.2100778\ttotal: 1.63s\tremaining: 2s\n",
      "449:\tlearn: 0.2098630\ttotal: 1.64s\tremaining: 2s\n",
      "450:\tlearn: 0.2096299\ttotal: 1.64s\tremaining: 2s\n",
      "451:\tlearn: 0.2096098\ttotal: 1.64s\tremaining: 1.99s\n",
      "452:\tlearn: 0.2094990\ttotal: 1.65s\tremaining: 1.99s\n",
      "453:\tlearn: 0.2093872\ttotal: 1.65s\tremaining: 1.98s\n",
      "454:\tlearn: 0.2091104\ttotal: 1.65s\tremaining: 1.98s\n",
      "455:\tlearn: 0.2088892\ttotal: 1.66s\tremaining: 1.98s\n",
      "456:\tlearn: 0.2085550\ttotal: 1.66s\tremaining: 1.98s\n",
      "457:\tlearn: 0.2083866\ttotal: 1.67s\tremaining: 1.97s\n",
      "458:\tlearn: 0.2080179\ttotal: 1.67s\tremaining: 1.97s\n",
      "459:\tlearn: 0.2078499\ttotal: 1.68s\tremaining: 1.97s\n",
      "460:\tlearn: 0.2076497\ttotal: 1.68s\tremaining: 1.96s\n",
      "461:\tlearn: 0.2074718\ttotal: 1.68s\tremaining: 1.96s\n",
      "462:\tlearn: 0.2074020\ttotal: 1.69s\tremaining: 1.96s\n",
      "463:\tlearn: 0.2071640\ttotal: 1.69s\tremaining: 1.95s\n",
      "464:\tlearn: 0.2071018\ttotal: 1.69s\tremaining: 1.95s\n",
      "465:\tlearn: 0.2069547\ttotal: 1.7s\tremaining: 1.94s\n",
      "466:\tlearn: 0.2068413\ttotal: 1.7s\tremaining: 1.94s\n",
      "467:\tlearn: 0.2066778\ttotal: 1.7s\tremaining: 1.94s\n",
      "468:\tlearn: 0.2065894\ttotal: 1.71s\tremaining: 1.93s\n",
      "469:\tlearn: 0.2062964\ttotal: 1.71s\tremaining: 1.93s\n",
      "470:\tlearn: 0.2059971\ttotal: 1.71s\tremaining: 1.93s\n",
      "471:\tlearn: 0.2057817\ttotal: 1.72s\tremaining: 1.92s\n",
      "472:\tlearn: 0.2056140\ttotal: 1.72s\tremaining: 1.92s\n",
      "473:\tlearn: 0.2054549\ttotal: 1.72s\tremaining: 1.91s\n",
      "474:\tlearn: 0.2052962\ttotal: 1.73s\tremaining: 1.91s\n",
      "475:\tlearn: 0.2052232\ttotal: 1.73s\tremaining: 1.9s\n",
      "476:\tlearn: 0.2051101\ttotal: 1.73s\tremaining: 1.9s\n",
      "477:\tlearn: 0.2047894\ttotal: 1.74s\tremaining: 1.9s\n",
      "478:\tlearn: 0.2047280\ttotal: 1.74s\tremaining: 1.89s\n",
      "479:\tlearn: 0.2045352\ttotal: 1.75s\tremaining: 1.89s\n",
      "480:\tlearn: 0.2042358\ttotal: 1.75s\tremaining: 1.89s\n",
      "481:\tlearn: 0.2040201\ttotal: 1.75s\tremaining: 1.88s\n",
      "482:\tlearn: 0.2036096\ttotal: 1.75s\tremaining: 1.88s\n",
      "483:\tlearn: 0.2034591\ttotal: 1.76s\tremaining: 1.87s\n",
      "484:\tlearn: 0.2032351\ttotal: 1.76s\tremaining: 1.87s\n",
      "485:\tlearn: 0.2030412\ttotal: 1.76s\tremaining: 1.87s\n",
      "486:\tlearn: 0.2029302\ttotal: 1.77s\tremaining: 1.86s\n",
      "487:\tlearn: 0.2028294\ttotal: 1.77s\tremaining: 1.86s\n",
      "488:\tlearn: 0.2026454\ttotal: 1.78s\tremaining: 1.86s\n",
      "489:\tlearn: 0.2025790\ttotal: 1.78s\tremaining: 1.85s\n",
      "490:\tlearn: 0.2025147\ttotal: 1.78s\tremaining: 1.85s\n",
      "491:\tlearn: 0.2023537\ttotal: 1.79s\tremaining: 1.85s\n",
      "492:\tlearn: 0.2022598\ttotal: 1.79s\tremaining: 1.84s\n",
      "493:\tlearn: 0.2020848\ttotal: 1.8s\tremaining: 1.84s\n",
      "494:\tlearn: 0.2018463\ttotal: 1.8s\tremaining: 1.84s\n",
      "495:\tlearn: 0.2018361\ttotal: 1.8s\tremaining: 1.83s\n",
      "496:\tlearn: 0.2017345\ttotal: 1.81s\tremaining: 1.83s\n",
      "497:\tlearn: 0.2016275\ttotal: 1.81s\tremaining: 1.82s\n",
      "498:\tlearn: 0.2014518\ttotal: 1.81s\tremaining: 1.82s\n",
      "499:\tlearn: 0.2013512\ttotal: 1.82s\tremaining: 1.82s\n",
      "500:\tlearn: 0.2013382\ttotal: 1.82s\tremaining: 1.82s\n",
      "501:\tlearn: 0.2011764\ttotal: 1.83s\tremaining: 1.82s\n",
      "502:\tlearn: 0.2010873\ttotal: 1.83s\tremaining: 1.81s\n",
      "503:\tlearn: 0.2009761\ttotal: 1.84s\tremaining: 1.81s\n",
      "504:\tlearn: 0.2008883\ttotal: 1.84s\tremaining: 1.8s\n",
      "505:\tlearn: 0.2007416\ttotal: 1.85s\tremaining: 1.8s\n",
      "506:\tlearn: 0.2005904\ttotal: 1.85s\tremaining: 1.8s\n",
      "507:\tlearn: 0.2003683\ttotal: 1.85s\tremaining: 1.79s\n",
      "508:\tlearn: 0.2002270\ttotal: 1.86s\tremaining: 1.79s\n",
      "509:\tlearn: 0.2001379\ttotal: 1.86s\tremaining: 1.79s\n",
      "510:\tlearn: 0.2000018\ttotal: 1.87s\tremaining: 1.79s\n",
      "511:\tlearn: 0.1999095\ttotal: 1.87s\tremaining: 1.78s\n",
      "512:\tlearn: 0.1996079\ttotal: 1.88s\tremaining: 1.78s\n",
      "513:\tlearn: 0.1994848\ttotal: 1.88s\tremaining: 1.78s\n",
      "514:\tlearn: 0.1990344\ttotal: 1.88s\tremaining: 1.77s\n",
      "515:\tlearn: 0.1989043\ttotal: 1.89s\tremaining: 1.77s\n",
      "516:\tlearn: 0.1987448\ttotal: 1.89s\tremaining: 1.77s\n",
      "517:\tlearn: 0.1986001\ttotal: 1.9s\tremaining: 1.76s\n",
      "518:\tlearn: 0.1984376\ttotal: 1.9s\tremaining: 1.76s\n",
      "519:\tlearn: 0.1981092\ttotal: 1.9s\tremaining: 1.76s\n",
      "520:\tlearn: 0.1978836\ttotal: 1.91s\tremaining: 1.76s\n",
      "521:\tlearn: 0.1975782\ttotal: 1.91s\tremaining: 1.75s\n",
      "522:\tlearn: 0.1974426\ttotal: 1.92s\tremaining: 1.75s\n",
      "523:\tlearn: 0.1972089\ttotal: 1.92s\tremaining: 1.75s\n",
      "524:\tlearn: 0.1970133\ttotal: 1.93s\tremaining: 1.75s\n",
      "525:\tlearn: 0.1968547\ttotal: 1.93s\tremaining: 1.74s\n",
      "526:\tlearn: 0.1964281\ttotal: 1.94s\tremaining: 1.74s\n",
      "527:\tlearn: 0.1963205\ttotal: 1.94s\tremaining: 1.73s\n",
      "528:\tlearn: 0.1960984\ttotal: 1.95s\tremaining: 1.73s\n",
      "529:\tlearn: 0.1959240\ttotal: 1.95s\tremaining: 1.73s\n",
      "530:\tlearn: 0.1956367\ttotal: 1.95s\tremaining: 1.72s\n",
      "531:\tlearn: 0.1955232\ttotal: 1.96s\tremaining: 1.72s\n",
      "532:\tlearn: 0.1950694\ttotal: 1.96s\tremaining: 1.72s\n",
      "533:\tlearn: 0.1949278\ttotal: 1.96s\tremaining: 1.71s\n",
      "534:\tlearn: 0.1948385\ttotal: 1.97s\tremaining: 1.71s\n",
      "535:\tlearn: 0.1946910\ttotal: 1.97s\tremaining: 1.71s\n",
      "536:\tlearn: 0.1945485\ttotal: 1.98s\tremaining: 1.7s\n"
     ]
    },
    {
     "name": "stdout",
     "output_type": "stream",
     "text": [
      "537:\tlearn: 0.1943779\ttotal: 1.98s\tremaining: 1.7s\n",
      "538:\tlearn: 0.1941433\ttotal: 1.98s\tremaining: 1.7s\n",
      "539:\tlearn: 0.1939187\ttotal: 1.99s\tremaining: 1.69s\n",
      "540:\tlearn: 0.1938136\ttotal: 1.99s\tremaining: 1.69s\n",
      "541:\tlearn: 0.1936699\ttotal: 2s\tremaining: 1.69s\n",
      "542:\tlearn: 0.1934349\ttotal: 2s\tremaining: 1.68s\n",
      "543:\tlearn: 0.1929729\ttotal: 2s\tremaining: 1.68s\n",
      "544:\tlearn: 0.1925406\ttotal: 2.01s\tremaining: 1.68s\n",
      "545:\tlearn: 0.1923910\ttotal: 2.01s\tremaining: 1.67s\n",
      "546:\tlearn: 0.1923125\ttotal: 2.02s\tremaining: 1.67s\n",
      "547:\tlearn: 0.1920504\ttotal: 2.02s\tremaining: 1.67s\n",
      "548:\tlearn: 0.1919482\ttotal: 2.02s\tremaining: 1.66s\n",
      "549:\tlearn: 0.1917997\ttotal: 2.03s\tremaining: 1.66s\n",
      "550:\tlearn: 0.1917509\ttotal: 2.03s\tremaining: 1.66s\n",
      "551:\tlearn: 0.1915926\ttotal: 2.04s\tremaining: 1.65s\n",
      "552:\tlearn: 0.1915056\ttotal: 2.04s\tremaining: 1.65s\n",
      "553:\tlearn: 0.1913360\ttotal: 2.04s\tremaining: 1.64s\n",
      "554:\tlearn: 0.1909769\ttotal: 2.05s\tremaining: 1.64s\n",
      "555:\tlearn: 0.1909158\ttotal: 2.05s\tremaining: 1.64s\n",
      "556:\tlearn: 0.1906971\ttotal: 2.05s\tremaining: 1.63s\n",
      "557:\tlearn: 0.1905768\ttotal: 2.06s\tremaining: 1.63s\n",
      "558:\tlearn: 0.1903376\ttotal: 2.06s\tremaining: 1.63s\n",
      "559:\tlearn: 0.1902326\ttotal: 2.06s\tremaining: 1.62s\n",
      "560:\tlearn: 0.1901455\ttotal: 2.07s\tremaining: 1.62s\n",
      "561:\tlearn: 0.1900840\ttotal: 2.07s\tremaining: 1.61s\n",
      "562:\tlearn: 0.1900174\ttotal: 2.07s\tremaining: 1.61s\n",
      "563:\tlearn: 0.1899885\ttotal: 2.08s\tremaining: 1.6s\n",
      "564:\tlearn: 0.1895887\ttotal: 2.08s\tremaining: 1.6s\n",
      "565:\tlearn: 0.1893915\ttotal: 2.08s\tremaining: 1.6s\n",
      "566:\tlearn: 0.1892038\ttotal: 2.09s\tremaining: 1.59s\n",
      "567:\tlearn: 0.1889267\ttotal: 2.09s\tremaining: 1.59s\n",
      "568:\tlearn: 0.1888250\ttotal: 2.1s\tremaining: 1.59s\n",
      "569:\tlearn: 0.1886951\ttotal: 2.1s\tremaining: 1.58s\n",
      "570:\tlearn: 0.1884896\ttotal: 2.1s\tremaining: 1.58s\n",
      "571:\tlearn: 0.1883191\ttotal: 2.1s\tremaining: 1.57s\n",
      "572:\tlearn: 0.1881249\ttotal: 2.11s\tremaining: 1.57s\n",
      "573:\tlearn: 0.1878989\ttotal: 2.11s\tremaining: 1.57s\n",
      "574:\tlearn: 0.1877744\ttotal: 2.12s\tremaining: 1.56s\n",
      "575:\tlearn: 0.1876575\ttotal: 2.12s\tremaining: 1.56s\n",
      "576:\tlearn: 0.1874517\ttotal: 2.12s\tremaining: 1.56s\n",
      "577:\tlearn: 0.1870661\ttotal: 2.13s\tremaining: 1.55s\n",
      "578:\tlearn: 0.1869118\ttotal: 2.13s\tremaining: 1.55s\n",
      "579:\tlearn: 0.1867750\ttotal: 2.13s\tremaining: 1.54s\n",
      "580:\tlearn: 0.1864906\ttotal: 2.13s\tremaining: 1.54s\n",
      "581:\tlearn: 0.1862051\ttotal: 2.14s\tremaining: 1.54s\n",
      "582:\tlearn: 0.1860156\ttotal: 2.14s\tremaining: 1.53s\n",
      "583:\tlearn: 0.1856826\ttotal: 2.15s\tremaining: 1.53s\n",
      "584:\tlearn: 0.1854119\ttotal: 2.15s\tremaining: 1.53s\n",
      "585:\tlearn: 0.1853335\ttotal: 2.15s\tremaining: 1.52s\n",
      "586:\tlearn: 0.1852539\ttotal: 2.16s\tremaining: 1.52s\n",
      "587:\tlearn: 0.1850135\ttotal: 2.16s\tremaining: 1.51s\n",
      "588:\tlearn: 0.1847726\ttotal: 2.16s\tremaining: 1.51s\n",
      "589:\tlearn: 0.1847248\ttotal: 2.17s\tremaining: 1.51s\n",
      "590:\tlearn: 0.1845919\ttotal: 2.17s\tremaining: 1.5s\n",
      "591:\tlearn: 0.1844354\ttotal: 2.18s\tremaining: 1.5s\n",
      "592:\tlearn: 0.1843696\ttotal: 2.18s\tremaining: 1.5s\n",
      "593:\tlearn: 0.1842240\ttotal: 2.18s\tremaining: 1.49s\n",
      "594:\tlearn: 0.1840413\ttotal: 2.19s\tremaining: 1.49s\n",
      "595:\tlearn: 0.1837093\ttotal: 2.19s\tremaining: 1.49s\n",
      "596:\tlearn: 0.1835898\ttotal: 2.19s\tremaining: 1.48s\n",
      "597:\tlearn: 0.1834567\ttotal: 2.2s\tremaining: 1.48s\n",
      "598:\tlearn: 0.1833095\ttotal: 2.2s\tremaining: 1.47s\n",
      "599:\tlearn: 0.1830601\ttotal: 2.21s\tremaining: 1.47s\n",
      "600:\tlearn: 0.1830064\ttotal: 2.21s\tremaining: 1.47s\n",
      "601:\tlearn: 0.1828372\ttotal: 2.21s\tremaining: 1.46s\n",
      "602:\tlearn: 0.1826666\ttotal: 2.22s\tremaining: 1.46s\n",
      "603:\tlearn: 0.1824618\ttotal: 2.22s\tremaining: 1.46s\n",
      "604:\tlearn: 0.1823888\ttotal: 2.22s\tremaining: 1.45s\n",
      "605:\tlearn: 0.1822703\ttotal: 2.23s\tremaining: 1.45s\n",
      "606:\tlearn: 0.1821288\ttotal: 2.23s\tremaining: 1.44s\n",
      "607:\tlearn: 0.1819148\ttotal: 2.23s\tremaining: 1.44s\n",
      "608:\tlearn: 0.1818910\ttotal: 2.24s\tremaining: 1.44s\n",
      "609:\tlearn: 0.1816557\ttotal: 2.24s\tremaining: 1.43s\n",
      "610:\tlearn: 0.1814840\ttotal: 2.25s\tremaining: 1.43s\n",
      "611:\tlearn: 0.1814100\ttotal: 2.25s\tremaining: 1.43s\n",
      "612:\tlearn: 0.1811844\ttotal: 2.25s\tremaining: 1.42s\n",
      "613:\tlearn: 0.1810389\ttotal: 2.25s\tremaining: 1.42s\n",
      "614:\tlearn: 0.1809461\ttotal: 2.26s\tremaining: 1.41s\n",
      "615:\tlearn: 0.1807687\ttotal: 2.26s\tremaining: 1.41s\n",
      "616:\tlearn: 0.1806233\ttotal: 2.27s\tremaining: 1.41s\n",
      "617:\tlearn: 0.1803726\ttotal: 2.27s\tremaining: 1.4s\n",
      "618:\tlearn: 0.1801933\ttotal: 2.27s\tremaining: 1.4s\n",
      "619:\tlearn: 0.1800764\ttotal: 2.28s\tremaining: 1.4s\n",
      "620:\tlearn: 0.1800134\ttotal: 2.28s\tremaining: 1.39s\n",
      "621:\tlearn: 0.1800108\ttotal: 2.28s\tremaining: 1.39s\n",
      "622:\tlearn: 0.1798873\ttotal: 2.29s\tremaining: 1.38s\n",
      "623:\tlearn: 0.1797296\ttotal: 2.29s\tremaining: 1.38s\n",
      "624:\tlearn: 0.1796191\ttotal: 2.29s\tremaining: 1.38s\n",
      "625:\tlearn: 0.1793946\ttotal: 2.3s\tremaining: 1.37s\n",
      "626:\tlearn: 0.1791699\ttotal: 2.3s\tremaining: 1.37s\n",
      "627:\tlearn: 0.1789974\ttotal: 2.3s\tremaining: 1.36s\n",
      "628:\tlearn: 0.1788712\ttotal: 2.31s\tremaining: 1.36s\n",
      "629:\tlearn: 0.1787342\ttotal: 2.31s\tremaining: 1.36s\n",
      "630:\tlearn: 0.1786874\ttotal: 2.32s\tremaining: 1.35s\n",
      "631:\tlearn: 0.1785443\ttotal: 2.32s\tremaining: 1.35s\n",
      "632:\tlearn: 0.1782570\ttotal: 2.32s\tremaining: 1.35s\n",
      "633:\tlearn: 0.1781961\ttotal: 2.33s\tremaining: 1.34s\n",
      "634:\tlearn: 0.1780729\ttotal: 2.33s\tremaining: 1.34s\n",
      "635:\tlearn: 0.1778664\ttotal: 2.34s\tremaining: 1.34s\n",
      "636:\tlearn: 0.1777459\ttotal: 2.34s\tremaining: 1.33s\n",
      "637:\tlearn: 0.1776618\ttotal: 2.34s\tremaining: 1.33s\n",
      "638:\tlearn: 0.1774367\ttotal: 2.35s\tremaining: 1.33s\n",
      "639:\tlearn: 0.1772107\ttotal: 2.35s\tremaining: 1.32s\n",
      "640:\tlearn: 0.1770858\ttotal: 2.36s\tremaining: 1.32s\n",
      "641:\tlearn: 0.1768957\ttotal: 2.36s\tremaining: 1.32s\n",
      "642:\tlearn: 0.1768412\ttotal: 2.36s\tremaining: 1.31s\n",
      "643:\tlearn: 0.1766923\ttotal: 2.37s\tremaining: 1.31s\n",
      "644:\tlearn: 0.1765029\ttotal: 2.37s\tremaining: 1.3s\n",
      "645:\tlearn: 0.1763680\ttotal: 2.38s\tremaining: 1.3s\n",
      "646:\tlearn: 0.1762694\ttotal: 2.38s\tremaining: 1.3s\n",
      "647:\tlearn: 0.1761496\ttotal: 2.38s\tremaining: 1.29s\n",
      "648:\tlearn: 0.1758453\ttotal: 2.39s\tremaining: 1.29s\n",
      "649:\tlearn: 0.1757420\ttotal: 2.39s\tremaining: 1.29s\n",
      "650:\tlearn: 0.1755883\ttotal: 2.39s\tremaining: 1.28s\n",
      "651:\tlearn: 0.1752850\ttotal: 2.4s\tremaining: 1.28s\n",
      "652:\tlearn: 0.1751952\ttotal: 2.4s\tremaining: 1.28s\n",
      "653:\tlearn: 0.1750271\ttotal: 2.4s\tremaining: 1.27s\n",
      "654:\tlearn: 0.1749594\ttotal: 2.41s\tremaining: 1.27s\n",
      "655:\tlearn: 0.1748512\ttotal: 2.41s\tremaining: 1.26s\n",
      "656:\tlearn: 0.1746688\ttotal: 2.42s\tremaining: 1.26s\n",
      "657:\tlearn: 0.1745794\ttotal: 2.42s\tremaining: 1.26s\n",
      "658:\tlearn: 0.1745051\ttotal: 2.42s\tremaining: 1.25s\n",
      "659:\tlearn: 0.1743737\ttotal: 2.43s\tremaining: 1.25s\n",
      "660:\tlearn: 0.1743089\ttotal: 2.43s\tremaining: 1.25s\n",
      "661:\tlearn: 0.1739714\ttotal: 2.44s\tremaining: 1.24s\n",
      "662:\tlearn: 0.1738630\ttotal: 2.44s\tremaining: 1.24s\n",
      "663:\tlearn: 0.1737552\ttotal: 2.44s\tremaining: 1.24s\n",
      "664:\tlearn: 0.1735139\ttotal: 2.44s\tremaining: 1.23s\n",
      "665:\tlearn: 0.1734137\ttotal: 2.45s\tremaining: 1.23s\n",
      "666:\tlearn: 0.1733086\ttotal: 2.45s\tremaining: 1.22s\n",
      "667:\tlearn: 0.1731086\ttotal: 2.46s\tremaining: 1.22s\n",
      "668:\tlearn: 0.1729339\ttotal: 2.46s\tremaining: 1.22s\n",
      "669:\tlearn: 0.1728710\ttotal: 2.46s\tremaining: 1.21s\n",
      "670:\tlearn: 0.1728391\ttotal: 2.47s\tremaining: 1.21s\n",
      "671:\tlearn: 0.1727427\ttotal: 2.47s\tremaining: 1.21s\n",
      "672:\tlearn: 0.1726925\ttotal: 2.48s\tremaining: 1.2s\n",
      "673:\tlearn: 0.1724138\ttotal: 2.48s\tremaining: 1.2s\n",
      "674:\tlearn: 0.1722799\ttotal: 2.48s\tremaining: 1.2s\n",
      "675:\tlearn: 0.1720663\ttotal: 2.49s\tremaining: 1.19s\n",
      "676:\tlearn: 0.1718123\ttotal: 2.49s\tremaining: 1.19s\n",
      "677:\tlearn: 0.1716730\ttotal: 2.5s\tremaining: 1.18s\n",
      "678:\tlearn: 0.1715943\ttotal: 2.5s\tremaining: 1.18s\n",
      "679:\tlearn: 0.1713817\ttotal: 2.5s\tremaining: 1.18s\n",
      "680:\tlearn: 0.1712707\ttotal: 2.51s\tremaining: 1.17s\n",
      "681:\tlearn: 0.1711544\ttotal: 2.51s\tremaining: 1.17s\n",
      "682:\tlearn: 0.1711014\ttotal: 2.51s\tremaining: 1.17s\n",
      "683:\tlearn: 0.1710573\ttotal: 2.52s\tremaining: 1.16s\n",
      "684:\tlearn: 0.1707041\ttotal: 2.52s\tremaining: 1.16s\n",
      "685:\tlearn: 0.1705956\ttotal: 2.53s\tremaining: 1.16s\n",
      "686:\tlearn: 0.1705478\ttotal: 2.53s\tremaining: 1.15s\n",
      "687:\tlearn: 0.1704124\ttotal: 2.53s\tremaining: 1.15s\n",
      "688:\tlearn: 0.1701940\ttotal: 2.54s\tremaining: 1.15s\n",
      "689:\tlearn: 0.1700365\ttotal: 2.54s\tremaining: 1.14s\n",
      "690:\tlearn: 0.1699664\ttotal: 2.54s\tremaining: 1.14s\n",
      "691:\tlearn: 0.1698438\ttotal: 2.55s\tremaining: 1.13s\n",
      "692:\tlearn: 0.1696789\ttotal: 2.55s\tremaining: 1.13s\n",
      "693:\tlearn: 0.1695664\ttotal: 2.56s\tremaining: 1.13s\n",
      "694:\tlearn: 0.1692841\ttotal: 2.56s\tremaining: 1.12s\n",
      "695:\tlearn: 0.1691192\ttotal: 2.56s\tremaining: 1.12s\n",
      "696:\tlearn: 0.1688871\ttotal: 2.57s\tremaining: 1.11s\n",
      "697:\tlearn: 0.1688034\ttotal: 2.57s\tremaining: 1.11s\n",
      "698:\tlearn: 0.1686389\ttotal: 2.57s\tremaining: 1.11s\n",
      "699:\tlearn: 0.1685200\ttotal: 2.58s\tremaining: 1.1s\n",
      "700:\tlearn: 0.1683443\ttotal: 2.58s\tremaining: 1.1s\n",
      "701:\tlearn: 0.1682445\ttotal: 2.58s\tremaining: 1.1s\n",
      "702:\tlearn: 0.1679181\ttotal: 2.59s\tremaining: 1.09s\n",
      "703:\tlearn: 0.1676624\ttotal: 2.59s\tremaining: 1.09s\n",
      "704:\tlearn: 0.1675086\ttotal: 2.6s\tremaining: 1.09s\n",
      "705:\tlearn: 0.1673412\ttotal: 2.6s\tremaining: 1.08s\n",
      "706:\tlearn: 0.1671488\ttotal: 2.6s\tremaining: 1.08s\n",
      "707:\tlearn: 0.1668593\ttotal: 2.61s\tremaining: 1.07s\n",
      "708:\tlearn: 0.1665358\ttotal: 2.61s\tremaining: 1.07s\n",
      "709:\tlearn: 0.1664253\ttotal: 2.61s\tremaining: 1.07s\n",
      "710:\tlearn: 0.1662927\ttotal: 2.62s\tremaining: 1.06s\n",
      "711:\tlearn: 0.1661350\ttotal: 2.62s\tremaining: 1.06s\n",
      "712:\tlearn: 0.1659143\ttotal: 2.63s\tremaining: 1.06s\n",
      "713:\tlearn: 0.1658348\ttotal: 2.63s\tremaining: 1.05s\n",
      "714:\tlearn: 0.1657917\ttotal: 2.63s\tremaining: 1.05s\n",
      "715:\tlearn: 0.1655717\ttotal: 2.63s\tremaining: 1.04s\n",
      "716:\tlearn: 0.1654642\ttotal: 2.64s\tremaining: 1.04s\n",
      "717:\tlearn: 0.1653156\ttotal: 2.64s\tremaining: 1.04s\n"
     ]
    },
    {
     "name": "stdout",
     "output_type": "stream",
     "text": [
      "718:\tlearn: 0.1651708\ttotal: 2.65s\tremaining: 1.03s\n",
      "719:\tlearn: 0.1650625\ttotal: 2.65s\tremaining: 1.03s\n",
      "720:\tlearn: 0.1649340\ttotal: 2.65s\tremaining: 1.03s\n",
      "721:\tlearn: 0.1648807\ttotal: 2.66s\tremaining: 1.02s\n",
      "722:\tlearn: 0.1648245\ttotal: 2.66s\tremaining: 1.02s\n",
      "723:\tlearn: 0.1645434\ttotal: 2.66s\tremaining: 1.01s\n",
      "724:\tlearn: 0.1642795\ttotal: 2.67s\tremaining: 1.01s\n",
      "725:\tlearn: 0.1640645\ttotal: 2.67s\tremaining: 1.01s\n",
      "726:\tlearn: 0.1639381\ttotal: 2.67s\tremaining: 1s\n",
      "727:\tlearn: 0.1636676\ttotal: 2.68s\tremaining: 1s\n",
      "728:\tlearn: 0.1635270\ttotal: 2.68s\tremaining: 997ms\n",
      "729:\tlearn: 0.1634263\ttotal: 2.69s\tremaining: 994ms\n",
      "730:\tlearn: 0.1631166\ttotal: 2.69s\tremaining: 990ms\n",
      "731:\tlearn: 0.1629294\ttotal: 2.69s\tremaining: 986ms\n",
      "732:\tlearn: 0.1627998\ttotal: 2.7s\tremaining: 983ms\n",
      "733:\tlearn: 0.1624996\ttotal: 2.7s\tremaining: 979ms\n",
      "734:\tlearn: 0.1623292\ttotal: 2.7s\tremaining: 975ms\n",
      "735:\tlearn: 0.1621700\ttotal: 2.71s\tremaining: 971ms\n",
      "736:\tlearn: 0.1619421\ttotal: 2.71s\tremaining: 968ms\n",
      "737:\tlearn: 0.1618369\ttotal: 2.71s\tremaining: 964ms\n",
      "738:\tlearn: 0.1616351\ttotal: 2.72s\tremaining: 960ms\n",
      "739:\tlearn: 0.1614075\ttotal: 2.72s\tremaining: 956ms\n",
      "740:\tlearn: 0.1612504\ttotal: 2.73s\tremaining: 953ms\n",
      "741:\tlearn: 0.1611505\ttotal: 2.73s\tremaining: 949ms\n",
      "742:\tlearn: 0.1611187\ttotal: 2.73s\tremaining: 945ms\n",
      "743:\tlearn: 0.1609794\ttotal: 2.73s\tremaining: 941ms\n",
      "744:\tlearn: 0.1607913\ttotal: 2.74s\tremaining: 937ms\n",
      "745:\tlearn: 0.1605734\ttotal: 2.74s\tremaining: 934ms\n",
      "746:\tlearn: 0.1604112\ttotal: 2.75s\tremaining: 930ms\n",
      "747:\tlearn: 0.1600561\ttotal: 2.75s\tremaining: 926ms\n",
      "748:\tlearn: 0.1599625\ttotal: 2.75s\tremaining: 922ms\n",
      "749:\tlearn: 0.1599085\ttotal: 2.76s\tremaining: 919ms\n",
      "750:\tlearn: 0.1597140\ttotal: 2.76s\tremaining: 915ms\n",
      "751:\tlearn: 0.1596327\ttotal: 2.76s\tremaining: 911ms\n",
      "752:\tlearn: 0.1594880\ttotal: 2.77s\tremaining: 907ms\n",
      "753:\tlearn: 0.1594451\ttotal: 2.77s\tremaining: 903ms\n",
      "754:\tlearn: 0.1592771\ttotal: 2.77s\tremaining: 900ms\n",
      "755:\tlearn: 0.1591133\ttotal: 2.77s\tremaining: 896ms\n",
      "756:\tlearn: 0.1588244\ttotal: 2.78s\tremaining: 892ms\n",
      "757:\tlearn: 0.1586486\ttotal: 2.78s\tremaining: 888ms\n",
      "758:\tlearn: 0.1584224\ttotal: 2.79s\tremaining: 885ms\n",
      "759:\tlearn: 0.1583675\ttotal: 2.79s\tremaining: 881ms\n",
      "760:\tlearn: 0.1582884\ttotal: 2.79s\tremaining: 877ms\n",
      "761:\tlearn: 0.1580537\ttotal: 2.79s\tremaining: 873ms\n",
      "762:\tlearn: 0.1578187\ttotal: 2.8s\tremaining: 870ms\n",
      "763:\tlearn: 0.1576901\ttotal: 2.8s\tremaining: 866ms\n",
      "764:\tlearn: 0.1574190\ttotal: 2.81s\tremaining: 862ms\n",
      "765:\tlearn: 0.1573169\ttotal: 2.81s\tremaining: 858ms\n",
      "766:\tlearn: 0.1572061\ttotal: 2.81s\tremaining: 855ms\n",
      "767:\tlearn: 0.1570258\ttotal: 2.82s\tremaining: 851ms\n",
      "768:\tlearn: 0.1569281\ttotal: 2.82s\tremaining: 848ms\n",
      "769:\tlearn: 0.1565993\ttotal: 2.83s\tremaining: 844ms\n",
      "770:\tlearn: 0.1565594\ttotal: 2.83s\tremaining: 840ms\n",
      "771:\tlearn: 0.1563436\ttotal: 2.83s\tremaining: 837ms\n",
      "772:\tlearn: 0.1562743\ttotal: 2.83s\tremaining: 833ms\n",
      "773:\tlearn: 0.1562509\ttotal: 2.84s\tremaining: 829ms\n",
      "774:\tlearn: 0.1560813\ttotal: 2.84s\tremaining: 825ms\n",
      "775:\tlearn: 0.1558909\ttotal: 2.84s\tremaining: 821ms\n",
      "776:\tlearn: 0.1557849\ttotal: 2.85s\tremaining: 817ms\n",
      "777:\tlearn: 0.1557458\ttotal: 2.85s\tremaining: 814ms\n",
      "778:\tlearn: 0.1555350\ttotal: 2.85s\tremaining: 810ms\n",
      "779:\tlearn: 0.1554594\ttotal: 2.86s\tremaining: 806ms\n",
      "780:\tlearn: 0.1551835\ttotal: 2.86s\tremaining: 803ms\n",
      "781:\tlearn: 0.1550257\ttotal: 2.87s\tremaining: 799ms\n",
      "782:\tlearn: 0.1548798\ttotal: 2.87s\tremaining: 795ms\n",
      "783:\tlearn: 0.1547193\ttotal: 2.87s\tremaining: 791ms\n",
      "784:\tlearn: 0.1545401\ttotal: 2.88s\tremaining: 788ms\n",
      "785:\tlearn: 0.1544749\ttotal: 2.88s\tremaining: 784ms\n",
      "786:\tlearn: 0.1544041\ttotal: 2.88s\tremaining: 780ms\n",
      "787:\tlearn: 0.1542974\ttotal: 2.89s\tremaining: 777ms\n",
      "788:\tlearn: 0.1542019\ttotal: 2.89s\tremaining: 773ms\n",
      "789:\tlearn: 0.1540839\ttotal: 2.89s\tremaining: 769ms\n",
      "790:\tlearn: 0.1539399\ttotal: 2.9s\tremaining: 766ms\n",
      "791:\tlearn: 0.1538712\ttotal: 2.9s\tremaining: 762ms\n",
      "792:\tlearn: 0.1536615\ttotal: 2.9s\tremaining: 758ms\n",
      "793:\tlearn: 0.1535535\ttotal: 2.91s\tremaining: 754ms\n",
      "794:\tlearn: 0.1534035\ttotal: 2.91s\tremaining: 751ms\n",
      "795:\tlearn: 0.1531817\ttotal: 2.91s\tremaining: 747ms\n",
      "796:\tlearn: 0.1530468\ttotal: 2.92s\tremaining: 743ms\n",
      "797:\tlearn: 0.1529357\ttotal: 2.92s\tremaining: 740ms\n",
      "798:\tlearn: 0.1527966\ttotal: 2.92s\tremaining: 736ms\n",
      "799:\tlearn: 0.1526473\ttotal: 2.93s\tremaining: 732ms\n",
      "800:\tlearn: 0.1524818\ttotal: 2.93s\tremaining: 728ms\n",
      "801:\tlearn: 0.1523989\ttotal: 2.94s\tremaining: 725ms\n",
      "802:\tlearn: 0.1522198\ttotal: 2.94s\tremaining: 721ms\n",
      "803:\tlearn: 0.1520802\ttotal: 2.94s\tremaining: 717ms\n",
      "804:\tlearn: 0.1520038\ttotal: 2.94s\tremaining: 714ms\n",
      "805:\tlearn: 0.1518867\ttotal: 2.95s\tremaining: 710ms\n",
      "806:\tlearn: 0.1517802\ttotal: 2.95s\tremaining: 706ms\n",
      "807:\tlearn: 0.1515012\ttotal: 2.96s\tremaining: 702ms\n",
      "808:\tlearn: 0.1513432\ttotal: 2.96s\tremaining: 699ms\n",
      "809:\tlearn: 0.1511686\ttotal: 2.96s\tremaining: 695ms\n",
      "810:\tlearn: 0.1510385\ttotal: 2.97s\tremaining: 691ms\n",
      "811:\tlearn: 0.1507670\ttotal: 2.97s\tremaining: 688ms\n",
      "812:\tlearn: 0.1505414\ttotal: 2.97s\tremaining: 684ms\n",
      "813:\tlearn: 0.1504845\ttotal: 2.98s\tremaining: 680ms\n",
      "814:\tlearn: 0.1504207\ttotal: 2.98s\tremaining: 677ms\n",
      "815:\tlearn: 0.1503359\ttotal: 2.98s\tremaining: 673ms\n",
      "816:\tlearn: 0.1501600\ttotal: 2.99s\tremaining: 669ms\n",
      "817:\tlearn: 0.1500211\ttotal: 2.99s\tremaining: 666ms\n",
      "818:\tlearn: 0.1499021\ttotal: 3s\tremaining: 662ms\n",
      "819:\tlearn: 0.1495928\ttotal: 3s\tremaining: 658ms\n",
      "820:\tlearn: 0.1494511\ttotal: 3s\tremaining: 655ms\n",
      "821:\tlearn: 0.1493249\ttotal: 3.01s\tremaining: 651ms\n",
      "822:\tlearn: 0.1491562\ttotal: 3.01s\tremaining: 648ms\n",
      "823:\tlearn: 0.1489723\ttotal: 3.01s\tremaining: 644ms\n",
      "824:\tlearn: 0.1488934\ttotal: 3.02s\tremaining: 640ms\n",
      "825:\tlearn: 0.1487986\ttotal: 3.02s\tremaining: 637ms\n",
      "826:\tlearn: 0.1485812\ttotal: 3.02s\tremaining: 633ms\n",
      "827:\tlearn: 0.1484552\ttotal: 3.03s\tremaining: 629ms\n",
      "828:\tlearn: 0.1483447\ttotal: 3.03s\tremaining: 626ms\n",
      "829:\tlearn: 0.1481367\ttotal: 3.04s\tremaining: 622ms\n",
      "830:\tlearn: 0.1480884\ttotal: 3.04s\tremaining: 618ms\n",
      "831:\tlearn: 0.1480645\ttotal: 3.04s\tremaining: 614ms\n",
      "832:\tlearn: 0.1478390\ttotal: 3.05s\tremaining: 611ms\n",
      "833:\tlearn: 0.1476845\ttotal: 3.05s\tremaining: 607ms\n",
      "834:\tlearn: 0.1474789\ttotal: 3.05s\tremaining: 603ms\n",
      "835:\tlearn: 0.1472906\ttotal: 3.06s\tremaining: 600ms\n",
      "836:\tlearn: 0.1470760\ttotal: 3.06s\tremaining: 596ms\n",
      "837:\tlearn: 0.1469166\ttotal: 3.06s\tremaining: 592ms\n",
      "838:\tlearn: 0.1466791\ttotal: 3.07s\tremaining: 589ms\n",
      "839:\tlearn: 0.1464765\ttotal: 3.07s\tremaining: 585ms\n",
      "840:\tlearn: 0.1462688\ttotal: 3.07s\tremaining: 581ms\n",
      "841:\tlearn: 0.1461247\ttotal: 3.08s\tremaining: 578ms\n",
      "842:\tlearn: 0.1460953\ttotal: 3.08s\tremaining: 574ms\n",
      "843:\tlearn: 0.1458931\ttotal: 3.08s\tremaining: 570ms\n",
      "844:\tlearn: 0.1457094\ttotal: 3.09s\tremaining: 566ms\n",
      "845:\tlearn: 0.1455257\ttotal: 3.09s\tremaining: 563ms\n",
      "846:\tlearn: 0.1454111\ttotal: 3.1s\tremaining: 559ms\n",
      "847:\tlearn: 0.1452841\ttotal: 3.1s\tremaining: 555ms\n",
      "848:\tlearn: 0.1451440\ttotal: 3.1s\tremaining: 552ms\n",
      "849:\tlearn: 0.1450140\ttotal: 3.1s\tremaining: 548ms\n",
      "850:\tlearn: 0.1449922\ttotal: 3.11s\tremaining: 544ms\n",
      "851:\tlearn: 0.1448565\ttotal: 3.11s\tremaining: 541ms\n",
      "852:\tlearn: 0.1447957\ttotal: 3.12s\tremaining: 537ms\n",
      "853:\tlearn: 0.1446497\ttotal: 3.12s\tremaining: 533ms\n",
      "854:\tlearn: 0.1445840\ttotal: 3.12s\tremaining: 530ms\n",
      "855:\tlearn: 0.1445146\ttotal: 3.13s\tremaining: 526ms\n",
      "856:\tlearn: 0.1443485\ttotal: 3.13s\tremaining: 522ms\n",
      "857:\tlearn: 0.1442886\ttotal: 3.13s\tremaining: 519ms\n",
      "858:\tlearn: 0.1440145\ttotal: 3.14s\tremaining: 515ms\n",
      "859:\tlearn: 0.1437956\ttotal: 3.14s\tremaining: 511ms\n",
      "860:\tlearn: 0.1436661\ttotal: 3.14s\tremaining: 508ms\n",
      "861:\tlearn: 0.1435880\ttotal: 3.15s\tremaining: 504ms\n",
      "862:\tlearn: 0.1435421\ttotal: 3.15s\tremaining: 500ms\n",
      "863:\tlearn: 0.1433412\ttotal: 3.16s\tremaining: 497ms\n",
      "864:\tlearn: 0.1432880\ttotal: 3.16s\tremaining: 493ms\n",
      "865:\tlearn: 0.1431679\ttotal: 3.16s\tremaining: 489ms\n",
      "866:\tlearn: 0.1431075\ttotal: 3.17s\tremaining: 486ms\n",
      "867:\tlearn: 0.1429726\ttotal: 3.17s\tremaining: 482ms\n",
      "868:\tlearn: 0.1428440\ttotal: 3.17s\tremaining: 478ms\n",
      "869:\tlearn: 0.1427322\ttotal: 3.17s\tremaining: 474ms\n",
      "870:\tlearn: 0.1425667\ttotal: 3.18s\tremaining: 471ms\n",
      "871:\tlearn: 0.1424340\ttotal: 3.18s\tremaining: 467ms\n",
      "872:\tlearn: 0.1423982\ttotal: 3.18s\tremaining: 463ms\n",
      "873:\tlearn: 0.1421658\ttotal: 3.19s\tremaining: 460ms\n",
      "874:\tlearn: 0.1420077\ttotal: 3.19s\tremaining: 456ms\n",
      "875:\tlearn: 0.1417957\ttotal: 3.19s\tremaining: 452ms\n",
      "876:\tlearn: 0.1417327\ttotal: 3.2s\tremaining: 449ms\n",
      "877:\tlearn: 0.1416379\ttotal: 3.2s\tremaining: 445ms\n",
      "878:\tlearn: 0.1414846\ttotal: 3.21s\tremaining: 441ms\n",
      "879:\tlearn: 0.1413228\ttotal: 3.21s\tremaining: 438ms\n",
      "880:\tlearn: 0.1412837\ttotal: 3.21s\tremaining: 434ms\n",
      "881:\tlearn: 0.1410938\ttotal: 3.21s\tremaining: 430ms\n",
      "882:\tlearn: 0.1410401\ttotal: 3.22s\tremaining: 427ms\n",
      "883:\tlearn: 0.1407865\ttotal: 3.22s\tremaining: 423ms\n",
      "884:\tlearn: 0.1406963\ttotal: 3.23s\tremaining: 419ms\n",
      "885:\tlearn: 0.1405644\ttotal: 3.23s\tremaining: 416ms\n",
      "886:\tlearn: 0.1403245\ttotal: 3.23s\tremaining: 412ms\n",
      "887:\tlearn: 0.1401551\ttotal: 3.24s\tremaining: 408ms\n",
      "888:\tlearn: 0.1400425\ttotal: 3.24s\tremaining: 405ms\n",
      "889:\tlearn: 0.1398979\ttotal: 3.25s\tremaining: 401ms\n",
      "890:\tlearn: 0.1397488\ttotal: 3.25s\tremaining: 397ms\n",
      "891:\tlearn: 0.1396701\ttotal: 3.25s\tremaining: 394ms\n",
      "892:\tlearn: 0.1394684\ttotal: 3.25s\tremaining: 390ms\n",
      "893:\tlearn: 0.1393752\ttotal: 3.26s\tremaining: 386ms\n",
      "894:\tlearn: 0.1392444\ttotal: 3.26s\tremaining: 383ms\n",
      "895:\tlearn: 0.1391323\ttotal: 3.27s\tremaining: 379ms\n",
      "896:\tlearn: 0.1389985\ttotal: 3.27s\tremaining: 376ms\n",
      "897:\tlearn: 0.1388936\ttotal: 3.27s\tremaining: 372ms\n",
      "898:\tlearn: 0.1388421\ttotal: 3.28s\tremaining: 368ms\n",
      "899:\tlearn: 0.1387796\ttotal: 3.28s\tremaining: 365ms\n",
      "900:\tlearn: 0.1387199\ttotal: 3.29s\tremaining: 361ms\n",
      "901:\tlearn: 0.1385096\ttotal: 3.29s\tremaining: 357ms\n",
      "902:\tlearn: 0.1383580\ttotal: 3.29s\tremaining: 354ms\n",
      "903:\tlearn: 0.1382813\ttotal: 3.3s\tremaining: 350ms\n",
      "904:\tlearn: 0.1382202\ttotal: 3.3s\tremaining: 346ms\n",
      "905:\tlearn: 0.1380720\ttotal: 3.3s\tremaining: 343ms\n",
      "906:\tlearn: 0.1379483\ttotal: 3.31s\tremaining: 339ms\n",
      "907:\tlearn: 0.1378477\ttotal: 3.31s\tremaining: 335ms\n",
      "908:\tlearn: 0.1375972\ttotal: 3.31s\tremaining: 332ms\n"
     ]
    },
    {
     "name": "stdout",
     "output_type": "stream",
     "text": [
      "909:\tlearn: 0.1374780\ttotal: 3.32s\tremaining: 328ms\n",
      "910:\tlearn: 0.1373290\ttotal: 3.32s\tremaining: 325ms\n",
      "911:\tlearn: 0.1371945\ttotal: 3.33s\tremaining: 321ms\n",
      "912:\tlearn: 0.1371467\ttotal: 3.33s\tremaining: 317ms\n",
      "913:\tlearn: 0.1368748\ttotal: 3.33s\tremaining: 314ms\n",
      "914:\tlearn: 0.1367532\ttotal: 3.34s\tremaining: 310ms\n",
      "915:\tlearn: 0.1367224\ttotal: 3.34s\tremaining: 306ms\n",
      "916:\tlearn: 0.1366579\ttotal: 3.34s\tremaining: 303ms\n",
      "917:\tlearn: 0.1365503\ttotal: 3.35s\tremaining: 299ms\n",
      "918:\tlearn: 0.1364231\ttotal: 3.35s\tremaining: 295ms\n",
      "919:\tlearn: 0.1362853\ttotal: 3.35s\tremaining: 292ms\n",
      "920:\tlearn: 0.1361678\ttotal: 3.36s\tremaining: 288ms\n",
      "921:\tlearn: 0.1360043\ttotal: 3.36s\tremaining: 285ms\n",
      "922:\tlearn: 0.1358432\ttotal: 3.37s\tremaining: 281ms\n",
      "923:\tlearn: 0.1357481\ttotal: 3.37s\tremaining: 277ms\n",
      "924:\tlearn: 0.1356271\ttotal: 3.38s\tremaining: 274ms\n",
      "925:\tlearn: 0.1354324\ttotal: 3.38s\tremaining: 270ms\n",
      "926:\tlearn: 0.1353532\ttotal: 3.38s\tremaining: 266ms\n",
      "927:\tlearn: 0.1351305\ttotal: 3.39s\tremaining: 263ms\n",
      "928:\tlearn: 0.1350811\ttotal: 3.39s\tremaining: 259ms\n",
      "929:\tlearn: 0.1349304\ttotal: 3.4s\tremaining: 256ms\n",
      "930:\tlearn: 0.1348813\ttotal: 3.4s\tremaining: 252ms\n",
      "931:\tlearn: 0.1348155\ttotal: 3.4s\tremaining: 248ms\n",
      "932:\tlearn: 0.1346802\ttotal: 3.41s\tremaining: 245ms\n",
      "933:\tlearn: 0.1344373\ttotal: 3.41s\tremaining: 241ms\n",
      "934:\tlearn: 0.1343857\ttotal: 3.41s\tremaining: 237ms\n",
      "935:\tlearn: 0.1341700\ttotal: 3.42s\tremaining: 234ms\n",
      "936:\tlearn: 0.1340890\ttotal: 3.42s\tremaining: 230ms\n",
      "937:\tlearn: 0.1339817\ttotal: 3.42s\tremaining: 226ms\n",
      "938:\tlearn: 0.1339081\ttotal: 3.43s\tremaining: 223ms\n",
      "939:\tlearn: 0.1337678\ttotal: 3.43s\tremaining: 219ms\n",
      "940:\tlearn: 0.1337022\ttotal: 3.44s\tremaining: 215ms\n",
      "941:\tlearn: 0.1335440\ttotal: 3.44s\tremaining: 212ms\n",
      "942:\tlearn: 0.1333947\ttotal: 3.44s\tremaining: 208ms\n",
      "943:\tlearn: 0.1332126\ttotal: 3.45s\tremaining: 205ms\n",
      "944:\tlearn: 0.1331432\ttotal: 3.45s\tremaining: 201ms\n",
      "945:\tlearn: 0.1331306\ttotal: 3.45s\tremaining: 197ms\n",
      "946:\tlearn: 0.1330486\ttotal: 3.46s\tremaining: 194ms\n",
      "947:\tlearn: 0.1328988\ttotal: 3.46s\tremaining: 190ms\n",
      "948:\tlearn: 0.1327713\ttotal: 3.46s\tremaining: 186ms\n",
      "949:\tlearn: 0.1326941\ttotal: 3.47s\tremaining: 183ms\n",
      "950:\tlearn: 0.1325954\ttotal: 3.47s\tremaining: 179ms\n",
      "951:\tlearn: 0.1325687\ttotal: 3.48s\tremaining: 175ms\n",
      "952:\tlearn: 0.1325382\ttotal: 3.48s\tremaining: 172ms\n",
      "953:\tlearn: 0.1324243\ttotal: 3.49s\tremaining: 168ms\n",
      "954:\tlearn: 0.1322214\ttotal: 3.49s\tremaining: 164ms\n",
      "955:\tlearn: 0.1321610\ttotal: 3.49s\tremaining: 161ms\n",
      "956:\tlearn: 0.1320898\ttotal: 3.5s\tremaining: 157ms\n",
      "957:\tlearn: 0.1319813\ttotal: 3.5s\tremaining: 154ms\n",
      "958:\tlearn: 0.1318530\ttotal: 3.51s\tremaining: 150ms\n",
      "959:\tlearn: 0.1317973\ttotal: 3.51s\tremaining: 146ms\n",
      "960:\tlearn: 0.1316406\ttotal: 3.51s\tremaining: 143ms\n",
      "961:\tlearn: 0.1315504\ttotal: 3.52s\tremaining: 139ms\n",
      "962:\tlearn: 0.1314276\ttotal: 3.52s\tremaining: 135ms\n",
      "963:\tlearn: 0.1312805\ttotal: 3.52s\tremaining: 132ms\n",
      "964:\tlearn: 0.1312124\ttotal: 3.53s\tremaining: 128ms\n",
      "965:\tlearn: 0.1311756\ttotal: 3.53s\tremaining: 124ms\n",
      "966:\tlearn: 0.1309095\ttotal: 3.54s\tremaining: 121ms\n",
      "967:\tlearn: 0.1308378\ttotal: 3.54s\tremaining: 117ms\n",
      "968:\tlearn: 0.1306104\ttotal: 3.54s\tremaining: 113ms\n",
      "969:\tlearn: 0.1305342\ttotal: 3.55s\tremaining: 110ms\n",
      "970:\tlearn: 0.1303455\ttotal: 3.55s\tremaining: 106ms\n",
      "971:\tlearn: 0.1302946\ttotal: 3.55s\tremaining: 102ms\n",
      "972:\tlearn: 0.1301407\ttotal: 3.56s\tremaining: 98.7ms\n",
      "973:\tlearn: 0.1299033\ttotal: 3.56s\tremaining: 95.1ms\n",
      "974:\tlearn: 0.1297936\ttotal: 3.56s\tremaining: 91.4ms\n",
      "975:\tlearn: 0.1296667\ttotal: 3.57s\tremaining: 87.7ms\n",
      "976:\tlearn: 0.1296128\ttotal: 3.57s\tremaining: 84.1ms\n",
      "977:\tlearn: 0.1294834\ttotal: 3.58s\tremaining: 80.4ms\n",
      "978:\tlearn: 0.1293612\ttotal: 3.58s\tremaining: 76.8ms\n",
      "979:\tlearn: 0.1292866\ttotal: 3.58s\tremaining: 73.1ms\n",
      "980:\tlearn: 0.1289978\ttotal: 3.58s\tremaining: 69.4ms\n",
      "981:\tlearn: 0.1289594\ttotal: 3.59s\tremaining: 65.8ms\n",
      "982:\tlearn: 0.1287251\ttotal: 3.59s\tremaining: 62.1ms\n",
      "983:\tlearn: 0.1285640\ttotal: 3.6s\tremaining: 58.5ms\n",
      "984:\tlearn: 0.1284469\ttotal: 3.6s\tremaining: 54.8ms\n",
      "985:\tlearn: 0.1282741\ttotal: 3.6s\tremaining: 51.2ms\n",
      "986:\tlearn: 0.1281488\ttotal: 3.61s\tremaining: 47.5ms\n",
      "987:\tlearn: 0.1280142\ttotal: 3.61s\tremaining: 43.9ms\n",
      "988:\tlearn: 0.1278851\ttotal: 3.61s\tremaining: 40.2ms\n",
      "989:\tlearn: 0.1277793\ttotal: 3.62s\tremaining: 36.5ms\n",
      "990:\tlearn: 0.1277106\ttotal: 3.62s\tremaining: 32.9ms\n",
      "991:\tlearn: 0.1276034\ttotal: 3.62s\tremaining: 29.2ms\n",
      "992:\tlearn: 0.1275549\ttotal: 3.63s\tremaining: 25.6ms\n",
      "993:\tlearn: 0.1273756\ttotal: 3.63s\tremaining: 21.9ms\n",
      "994:\tlearn: 0.1271379\ttotal: 3.63s\tremaining: 18.3ms\n",
      "995:\tlearn: 0.1269413\ttotal: 3.64s\tremaining: 14.6ms\n",
      "996:\tlearn: 0.1268318\ttotal: 3.64s\tremaining: 11ms\n",
      "997:\tlearn: 0.1267562\ttotal: 3.65s\tremaining: 7.3ms\n",
      "998:\tlearn: 0.1267390\ttotal: 3.65s\tremaining: 3.65ms\n",
      "999:\tlearn: 0.1266095\ttotal: 3.65s\tremaining: 0us\n"
     ]
    }
   ],
   "source": [
    "cat_rg1 = cb.CatBoostClassifier()\n",
    "cat_rg1.fit(x2,y)\n",
    "prediction=cat_rg1.predict_proba(test2)"
   ]
  },
  {
   "cell_type": "code",
   "execution_count": 85,
   "metadata": {},
   "outputs": [],
   "source": [
    "etc=ExtraTreesClassifier(n_estimators=100)\n",
    "etc.fit(x,y)\n",
    "prediction=etc.predict_proba(test)\n",
    "0.30323"
   ]
  },
  {
   "cell_type": "code",
   "execution_count": 272,
   "metadata": {},
   "outputs": [],
   "source": [
    "knn=KNeighborsClassifier()\n",
    "knn.fit(x1,y)\n",
    "prediction=knn.predict_proba(test1)"
   ]
  },
  {
   "cell_type": "code",
   "execution_count": 283,
   "metadata": {},
   "outputs": [],
   "source": [
    "svc=SVC(probability=True)\n",
    "svc.fit(x1,y)\n",
    "prediction=svc.predict_proba(test1)"
   ]
  },
  {
   "cell_type": "code",
   "execution_count": 209,
   "metadata": {},
   "outputs": [
    {
     "name": "stderr",
     "output_type": "stream",
     "text": [
      "c:\\users\\acer\\appdata\\local\\programs\\python\\python36\\lib\\site-packages\\sklearn\\ensemble\\forest.py:245: FutureWarning: The default value of n_estimators will change from 10 in version 0.20 to 100 in 0.22.\n",
      "  \"10 in version 0.20 to 100 in 0.22.\", FutureWarning)\n"
     ]
    }
   ],
   "source": [
    "rf=RandomForestClassifier()\n",
    "rf.fit(x2,y)\n",
    "prediction=rf.predict_proba(test2)"
   ]
  },
  {
   "cell_type": "code",
   "execution_count": 232,
   "metadata": {},
   "outputs": [],
   "source": [
    "bnb=BernoulliNB()\n",
    "bnb.fit(x2,y)\n",
    "prediction=bnb.predict_proba(test2)"
   ]
  },
  {
   "cell_type": "code",
   "execution_count": null,
   "metadata": {},
   "outputs": [],
   "source": [
    "# Converting prediction to Dataframe"
   ]
  },
  {
   "cell_type": "code",
   "execution_count": 244,
   "metadata": {},
   "outputs": [],
   "source": [
    "final_prediction=pd.DataFrame(prediction)"
   ]
  },
  {
   "cell_type": "code",
   "execution_count": null,
   "metadata": {},
   "outputs": [],
   "source": [
    "# convert to csv"
   ]
  },
  {
   "cell_type": "code",
   "execution_count": 245,
   "metadata": {},
   "outputs": [],
   "source": [
    "final_prediction.to_csv(\"FR24.csv\",index=False)"
   ]
  },
  {
   "cell_type": "code",
   "execution_count": 38,
   "metadata": {},
   "outputs": [],
   "source": [
    "final=pd.DataFrame({\"IsUnderRisk\":prediction})"
   ]
  },
  {
   "cell_type": "code",
   "execution_count": null,
   "metadata": {},
   "outputs": [],
   "source": [
    "# Preparing as per sample submission"
   ]
  },
  {
   "cell_type": "code",
   "execution_count": 40,
   "metadata": {},
   "outputs": [],
   "source": [
    "final_submission=pd.get_dummies(final[\"IsUnderRisk\"])"
   ]
  },
  {
   "cell_type": "code",
   "execution_count": null,
   "metadata": {},
   "outputs": [],
   "source": [
    "# convert to csv"
   ]
  },
  {
   "cell_type": "code",
   "execution_count": 28,
   "metadata": {},
   "outputs": [],
   "source": [
    "from sklearn.model_selection import GridSearchCV\n",
    "# Create the parameter grid based on the results of random search \n",
    "param_grid = {\n",
    "    'bootstrap': [True],\n",
    "    'max_depth': [80, 90, 100, 110],\n",
    "    'max_features': [2, 3],\n",
    "    'min_samples_leaf': [3, 4, 5],\n",
    "    'min_samples_split': [8, 10, 12],\n",
    "    'n_estimators': [100, 200, 300, 1000]\n",
    "}\n",
    "# Create a based model\n",
    "rf = RandomForestClassifier()\n",
    "# Instantiate the grid search model\n",
    "grid_search = GridSearchCV(estimator = rf, param_grid = param_grid, \n",
    "                          cv = 3, n_jobs = -1, verbose = 2)"
   ]
  },
  {
   "cell_type": "code",
   "execution_count": 29,
   "metadata": {},
   "outputs": [
    {
     "name": "stdout",
     "output_type": "stream",
     "text": [
      "Fitting 3 folds for each of 288 candidates, totalling 864 fits\n"
     ]
    },
    {
     "name": "stderr",
     "output_type": "stream",
     "text": [
      "[Parallel(n_jobs=-1)]: Using backend LokyBackend with 8 concurrent workers.\n",
      "[Parallel(n_jobs=-1)]: Done  25 tasks      | elapsed:   10.3s\n",
      "[Parallel(n_jobs=-1)]: Done 146 tasks      | elapsed:   32.3s\n",
      "[Parallel(n_jobs=-1)]: Done 349 tasks      | elapsed:  1.2min\n",
      "[Parallel(n_jobs=-1)]: Done 632 tasks      | elapsed:  2.2min\n",
      "[Parallel(n_jobs=-1)]: Done 864 out of 864 | elapsed:  2.9min finished\n",
      "c:\\users\\acer\\appdata\\local\\programs\\python\\python36\\lib\\site-packages\\sklearn\\model_selection\\_search.py:814: DeprecationWarning: The default of the `iid` parameter will change from True to False in version 0.22 and will be removed in 0.24. This will change numeric results when test-set sizes are unequal.\n",
      "  DeprecationWarning)\n"
     ]
    }
   ],
   "source": [
    "# Fit the grid search to the data\n",
    "grid_search.fit(x_train, y_train)\n",
    "prediction=grid_search.predict(x_test)"
   ]
  },
  {
   "cell_type": "code",
   "execution_count": 30,
   "metadata": {},
   "outputs": [
    {
     "name": "stdout",
     "output_type": "stream",
     "text": [
      "Log-Loss: 4.413336959192655\n"
     ]
    }
   ],
   "source": [
    "print(\"Log-Loss:\",log_loss(y_test, prediction))"
   ]
  },
  {
   "cell_type": "code",
   "execution_count": null,
   "metadata": {},
   "outputs": [],
   "source": []
  },
  {
   "cell_type": "code",
   "execution_count": null,
   "metadata": {},
   "outputs": [],
   "source": [
    "## Feature engineering"
   ]
  },
  {
   "cell_type": "code",
   "execution_count": null,
   "metadata": {},
   "outputs": [],
   "source": []
  },
  {
   "cell_type": "code",
   "execution_count": null,
   "metadata": {},
   "outputs": [],
   "source": []
  },
  {
   "cell_type": "code",
   "execution_count": null,
   "metadata": {},
   "outputs": [],
   "source": []
  },
  {
   "cell_type": "code",
   "execution_count": null,
   "metadata": {},
   "outputs": [],
   "source": []
  },
  {
   "cell_type": "code",
   "execution_count": null,
   "metadata": {},
   "outputs": [],
   "source": []
  },
  {
   "cell_type": "code",
   "execution_count": null,
   "metadata": {},
   "outputs": [],
   "source": []
  },
  {
   "cell_type": "code",
   "execution_count": null,
   "metadata": {},
   "outputs": [],
   "source": []
  },
  {
   "cell_type": "code",
   "execution_count": null,
   "metadata": {},
   "outputs": [],
   "source": []
  },
  {
   "cell_type": "code",
   "execution_count": null,
   "metadata": {},
   "outputs": [],
   "source": []
  },
  {
   "cell_type": "code",
   "execution_count": null,
   "metadata": {},
   "outputs": [],
   "source": []
  },
  {
   "cell_type": "code",
   "execution_count": null,
   "metadata": {},
   "outputs": [],
   "source": []
  },
  {
   "cell_type": "code",
   "execution_count": null,
   "metadata": {},
   "outputs": [],
   "source": []
  },
  {
   "cell_type": "code",
   "execution_count": null,
   "metadata": {},
   "outputs": [],
   "source": []
  },
  {
   "cell_type": "code",
   "execution_count": null,
   "metadata": {},
   "outputs": [],
   "source": []
  },
  {
   "cell_type": "code",
   "execution_count": null,
   "metadata": {},
   "outputs": [],
   "source": []
  }
 ],
 "metadata": {
  "kernelspec": {
   "display_name": "Python 3",
   "language": "python",
   "name": "python3"
  },
  "language_info": {
   "codemirror_mode": {
    "name": "ipython",
    "version": 3
   },
   "file_extension": ".py",
   "mimetype": "text/x-python",
   "name": "python",
   "nbconvert_exporter": "python",
   "pygments_lexer": "ipython3",
   "version": "3.6.5"
  }
 },
 "nbformat": 4,
 "nbformat_minor": 2
}
